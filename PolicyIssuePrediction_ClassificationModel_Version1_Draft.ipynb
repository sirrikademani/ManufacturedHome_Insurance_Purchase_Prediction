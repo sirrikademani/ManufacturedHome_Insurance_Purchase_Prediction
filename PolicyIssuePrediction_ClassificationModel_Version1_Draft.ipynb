{
  "nbformat": 4,
  "nbformat_minor": 0,
  "metadata": {
    "colab": {
      "provenance": []
    },
    "kernelspec": {
      "name": "python3",
      "display_name": "Python 3"
    },
    "language_info": {
      "name": "python"
    }
  },
  "cells": [
    {
      "cell_type": "markdown",
      "source": [
        "# Cover Tree Quote conversion Prediction Model [Without Undersampling]\n",
        "<img src = \"https://mms.businesswire.com/media/20220919005204/en/1574993/23/Group-4204-1024x264.jpg\" width=\"300\" height=\"150\">"
      ],
      "metadata": {
        "id": "ZNamV2k-PO0E"
      }
    },
    {
      "cell_type": "markdown",
      "source": [
        ">[Cover Tree Quote conversion Prediction Model](#scrollTo=ZNamV2k-PO0E)\n",
        "\n",
        ">[Problem Statement and Vision](#scrollTo=hngpHnH_r0Ha)\n",
        "\n",
        ">>[What are we trying to solve?](#scrollTo=hngpHnH_r0Ha)\n",
        "\n",
        ">>[Agenda](#scrollTo=hngpHnH_r0Ha)\n",
        "\n",
        ">>[Goal](#scrollTo=hngpHnH_r0Ha)\n",
        "\n",
        ">[Import Libraries](#scrollTo=sjnHqWCkebd4)\n",
        "\n",
        ">[Function to calculate metrics: prediction, accuracy score, recall and precision score.](#scrollTo=UEvS8_AVszfs)\n",
        "\n",
        ">[Import Dataset](#scrollTo=KfxDEt7LegJ9)\n",
        "\n",
        ">[EDA](#scrollTo=69sqWCZaekcZ)\n",
        "\n",
        ">[Data Preprocessing](#scrollTo=NYAoN5Hw8ce9)\n",
        "\n",
        ">>[Handling Null values and datatypes](#scrollTo=5iFQMGWMc_o7)\n",
        "\n",
        ">>[One Hot Encoding](#scrollTo=_DG-hyYUKBMy)\n",
        "\n",
        ">>[Feature Selection](#scrollTo=sRnknaYVdjHW)\n",
        "\n",
        ">>[Train test split](#scrollTo=WzfvAembJMlK)\n",
        "\n",
        ">>[Checking for class imbalance](#scrollTo=g1EukdUAI9BS)\n",
        "\n",
        ">>[SMOTE for minority class:](#scrollTo=F3WPbtANBzjt)\n",
        "\n",
        ">[Building the model](#scrollTo=etLyYmUEeMBY)\n",
        "\n",
        ">>[Decision Tree Classification](#scrollTo=rWLhX1P8fnjR)\n",
        "\n",
        ">>[optimizing the model](#scrollTo=QJ4-NyIjfduu)\n",
        "\n",
        ">[Random forest classification](#scrollTo=-1mibfdKgmuw)\n",
        "\n",
        ">[Logistic Regression](#scrollTo=qhW1kGvBhk3u)\n",
        "\n",
        ">>[Optimizing the model](#scrollTo=In9PpwEEiyeK)\n",
        "\n"
      ],
      "metadata": {
        "colab_type": "toc",
        "id": "6itl6PI5O-Fj"
      }
    },
    {
      "cell_type": "markdown",
      "source": [
        "# Problem Statement and Vision\n",
        "\n",
        "## What are we trying to solve?\n",
        "> Covertree, a manufactured home insurance company wants to know if the quotes will be purchased by a customer so that they can take necessary steps to avoid inefficient allocation of resources and missed revenue chances.\n",
        "\n",
        "## Agenda\n",
        "> Develop a classification model that will be used by marketing and sales team to determine whether a quote will be converted into a policy.\n",
        "\n",
        "## Goal\n",
        "> 1. Efficiently predict if the quote will be converted.\n",
        "\n",
        "> 2. Reduce the number of false positives, which happens when a quote isn't converted but the model predicts that the quote will be converted into policy.\n",
        ">> - False positives dilute the effectiveness of these efforts by diverting resources away from promising leads. By minimizing false positives, the business can focus its efforts on prospects with a higher probability of conversion, thus maximizing ROI.\n",
        ">> -  By reducing false positives, the business can ensure that customers receive personalized communication tailored to their needs, improving overall satisfaction and loyalty.\n",
        ">> - By minimizing false positives, the business can uphold its reputation for accuracy and reliability, strengthening its relationships with customers and stakeholders.\n",
        "\n",
        "> 3. Increase the precision metric, which happens when a quote is converted into a policy and the model predicts the conversion correctly.\n",
        "Here's why precision is particularly important in this scenario:\n",
        "\n",
        ">> - **Business Impact**: Maximizing precision ensures that resources (such as sales and marketing efforts) are directed towards quotes with the highest likelihood of conversion, thereby maximizing the ROI and optimizing resource allocation.\n",
        "\n",
        ">> - **Cost Considerations**: False positive predictions (quotes predicted to be converted but actually not converted) can have financial implications for the business, such as wasted sales efforts, marketing expenses, or other operational costs associated with servicing non-converting quotes. Maximizing precision helps minimize false positives and associated costs.\n",
        "\n",
        ">> - **Customer Experience**: Making accurate predictions about quote conversion can enhance the customer experience by ensuring that customers receive relevant and targeted communication and offers. High precision means that customers are less likely to receive irrelevant offers or follow-up communication for quotes that are not likely to convert.\n",
        "\n",
        "> 4. Check for the cost of false negatives (missed opportunities for conversion) significance. Recall will be an important metric to consider alongside precision.\n",
        "\n",
        "> 5. Since we need to reduce False positives, we will **monitor Precision and Accuracy** while keeping False Negatives at lower level."
      ],
      "metadata": {
        "id": "hngpHnH_r0Ha"
      }
    },
    {
      "cell_type": "markdown",
      "source": [
        "#Import Libraries"
      ],
      "metadata": {
        "id": "sjnHqWCkebd4"
      }
    },
    {
      "cell_type": "code",
      "execution_count": 138,
      "metadata": {
        "id": "qmemE-_s7lOn"
      },
      "outputs": [],
      "source": [
        "# Load libraries\n",
        "import pandas as pd\n",
        "import numpy as np\n",
        "import matplotlib.pyplot as plt\n",
        "\n",
        "from sklearn.preprocessing import OneHotEncoder\n",
        "from sklearn.model_selection import train_test_split\n",
        "from sklearn.model_selection import train_test_split # Import train_test_split function\n",
        "\n",
        "from sklearn.tree import DecisionTreeClassifier # Import Decision Tree Classifier\n",
        "from sklearn import metrics #Import scikit-learn metrics module for accuracy calculation\n",
        "from sklearn.metrics import accuracy_score, classification_report, confusion_matrix, ConfusionMatrixDisplay, precision_score, recall_score"
      ]
    },
    {
      "cell_type": "code",
      "source": [
        "from google.colab import drive\n",
        "drive.mount('/content/drive')"
      ],
      "metadata": {
        "colab": {
          "base_uri": "https://localhost:8080/"
        },
        "id": "i7EsbQAz7xwF",
        "outputId": "b85cbb07-3c05-44fd-f5fd-12dc1d04fe8e"
      },
      "execution_count": 68,
      "outputs": [
        {
          "output_type": "stream",
          "name": "stdout",
          "text": [
            "Drive already mounted at /content/drive; to attempt to forcibly remount, call drive.mount(\"/content/drive\", force_remount=True).\n"
          ]
        }
      ]
    },
    {
      "cell_type": "markdown",
      "source": [
        "#Function to calculate metrics: prediction, accuracy score, recall and precision score."
      ],
      "metadata": {
        "id": "UEvS8_AVszfs"
      }
    },
    {
      "cell_type": "code",
      "source": [
        "def metrics_calc(model, X_test, y_test):\n",
        "  #predicting the model\n",
        "  y_pred = model.predict(X_test)\n",
        "\n",
        "  # Model Accuracy, how often is the classifier correct?\n",
        "  print(\"Accuracy:\",round(metrics.accuracy_score(y_test, y_pred)*100,2),\"%\")\n",
        "\n",
        "  # Precision calculation :'y_test' are the true labels and 'y_pred' are the predicted labels\n",
        "  precision = precision_score(y_test, y_pred)\n",
        "  print(\"Precision:\",round(precision*100,2) ,\"%\")\n",
        "\n",
        "  #Recall calculation\n",
        "  recall = recall_score(y_test, y_pred)\n",
        "  print(\"Recall:\", round(recall * 100, 2), \"%\")\n",
        "\n",
        "  # Create the confusion matrix\n",
        "  cm = confusion_matrix(y_test, y_pred)\n",
        "  ConfusionMatrixDisplay(confusion_matrix=cm).plot();"
      ],
      "metadata": {
        "id": "932zmZ7Osvpv"
      },
      "execution_count": 137,
      "outputs": []
    },
    {
      "cell_type": "markdown",
      "source": [
        "# Import Dataset"
      ],
      "metadata": {
        "id": "KfxDEt7LegJ9"
      }
    },
    {
      "cell_type": "code",
      "source": [
        "dataset = pd.read_csv('machine_learning.csv')\n",
        "#dataset.head()"
      ],
      "metadata": {
        "id": "Pxhq8c_78F7Z"
      },
      "execution_count": 69,
      "outputs": []
    },
    {
      "cell_type": "markdown",
      "source": [
        "#EDA"
      ],
      "metadata": {
        "id": "69sqWCZaekcZ"
      }
    },
    {
      "source": [
        "# @title Roof Shape\n",
        "\n",
        "from matplotlib import pyplot as plt\n",
        "import seaborn as sns\n",
        "dataset.groupby('Roof Shape').size().plot(kind='barh', color=sns.palettes.mpl_palette('Dark2'))\n",
        "plt.gca().spines[['top', 'right',]].set_visible(False)"
      ],
      "cell_type": "code",
      "execution_count": 70,
      "outputs": [
        {
          "output_type": "display_data",
          "data": {
            "text/plain": [
              "<Figure size 640x480 with 1 Axes>"
            ],
            "image/png": "[encoded data removed]"
          },
          "metadata": {}
        }
      ],
      "metadata": {
        "colab": {
          "base_uri": "https://localhost:8080/",
          "height": 430
        },
        "id": "KSXCZBdC9ERc",
        "outputId": "a690f5b2-9f80-4b6e-ebd7-acec40303f5d"
      }
    },
    {
      "source": [
        "# @title Home Type\n",
        "\n",
        "from matplotlib import pyplot as plt\n",
        "import seaborn as sns\n",
        "dataset.groupby('Home Type').size().plot(kind='barh', color=sns.palettes.mpl_palette('Dark2'))\n",
        "plt.gca().spines[['top', 'right',]].set_visible(False)"
      ],
      "cell_type": "code",
      "execution_count": 71,
      "outputs": [
        {
          "output_type": "display_data",
          "data": {
            "text/plain": [
              "<Figure size 640x480 with 1 Axes>"
            ],
            "image/png": "[encoded data removed]"
          },
          "metadata": {}
        }
      ],
      "metadata": {
        "colab": {
          "base_uri": "https://localhost:8080/",
          "height": 430
        },
        "id": "DgB1_Wuk82pQ",
        "outputId": "5ae0a14e-259e-41b6-e956-878b5fcc63c0"
      }
    },
    {
      "source": [
        "# @title Form\n",
        "\n",
        "from matplotlib import pyplot as plt\n",
        "import seaborn as sns\n",
        "dataset.groupby('Form').size().plot(kind='barh', color=sns.palettes.mpl_palette('Dark2'))\n",
        "plt.gca().spines[['top', 'right',]].set_visible(False)"
      ],
      "cell_type": "code",
      "execution_count": 72,
      "outputs": [
        {
          "output_type": "display_data",
          "data": {
            "text/plain": [
              "<Figure size 640x480 with 1 Axes>"
            ],
            "image/png": "[encoded data removed]"
          },
          "metadata": {}
        }
      ],
      "metadata": {
        "colab": {
          "base_uri": "https://localhost:8080/",
          "height": 430
        },
        "id": "cXcT_Vtb8ytS",
        "outputId": "e1bbc71b-5280-43da-97b0-1b01fc3d2332"
      }
    },
    {
      "source": [
        "from matplotlib import pyplot as plt\n",
        "import seaborn as sns\n",
        "dataset.groupby('Policy Usage').size().plot(kind='barh', color=sns.palettes.mpl_palette('Dark2'))\n",
        "plt.gca().spines[['top', 'right',]].set_visible(False)"
      ],
      "cell_type": "code",
      "execution_count": 73,
      "outputs": [
        {
          "output_type": "display_data",
          "data": {
            "text/plain": [
              "<Figure size 640x480 with 1 Axes>"
            ],
            "image/png": "[encoded data removed]"
          },
          "metadata": {}
        }
      ],
      "metadata": {
        "colab": {
          "base_uri": "https://localhost:8080/",
          "height": 430
        },
        "id": "E51660p78tpH",
        "outputId": "bdb1ec1f-044a-425c-8455-45f231f451ae"
      }
    },
    {
      "cell_type": "markdown",
      "source": [
        "# Data Preprocessing"
      ],
      "metadata": {
        "id": "NYAoN5Hw8ce9"
      }
    },
    {
      "cell_type": "markdown",
      "source": [
        "## Handling Null values and datatypes"
      ],
      "metadata": {
        "id": "5iFQMGWMc_o7"
      }
    },
    {
      "cell_type": "code",
      "source": [
        "#replace string '[NULL]' to null value in dataframe\n",
        "dataset.replace('[NULL]', np.nan, inplace=True)\n",
        "\n",
        "# Print the DataFrame after replacement\n",
        "print(dataset)"
      ],
      "metadata": {
        "colab": {
          "base_uri": "https://localhost:8080/"
        },
        "id": "hCrgpbNKXZDr",
        "outputId": "38023a13-22c5-45d6-c333-08df4360a01c"
      },
      "execution_count": 74,
      "outputs": [
        {
          "output_type": "stream",
          "name": "stdout",
          "text": [
            "     QUOTE_LOCATOR State             City                  Address  \\\n",
            "0        100689574    AZ  Apache Junction  10220 East Apache Trail   \n",
            "1        106067788    IN         Monterey            8938 S Ash St   \n",
            "2        106170568    AZ             Mesa          5001 E Maint St   \n",
            "3        106135316    AZ           Parker           309 N Misty Ln   \n",
            "4        106146174    MI   Mount Pleasant       5232 E Broadway Rd   \n",
            "..             ...   ...              ...                      ...   \n",
            "585      111675928    AZ        El Mirage     11201 N El Mirage Rd   \n",
            "586      111680300    AZ             Yuma      13650 N Frontage Rd   \n",
            "587      111690330    OK            Grove           63551 E 293 Rd   \n",
            "588      111702582    AZ             Mesa       120 N Val Vista Dr   \n",
            "589      111720024    AZ             Mesa             311 S Arvada   \n",
            "\n",
            "    Policy Usage           Form    Home Type Roof Shape Roof Condition  \\\n",
            "0          Owner  Comprehensive  Single wide       Flat           Fair   \n",
            "1          Owner  Comprehensive  Double wide      Gable        Unknown   \n",
            "2         Rental  Comprehensive   Park Model      Gable        Unknown   \n",
            "3          Owner  Comprehensive  Double wide      Gable        Unknown   \n",
            "4          Owner  Comprehensive  Double wide      Gable        Unknown   \n",
            "..           ...            ...          ...        ...            ...   \n",
            "585        Owner  Comprehensive  Double wide      Gable           Good   \n",
            "586     Seasonal  Comprehensive   Park Model      Gable           Good   \n",
            "587        Owner  Comprehensive  Double wide      Gable           Poor   \n",
            "588        Owner  Comprehensive  Double wide      Gable           Fair   \n",
            "589        Owner  Comprehensive  Double wide      Gable           Good   \n",
            "\n",
            "    Model Year Total Square Footage    ACV     RCV  Issued Flag  \n",
            "0         1968                  780  17156   96138            1  \n",
            "1         2007                 1620  54370  135041            0  \n",
            "2         1986                  320   6418   45818            1  \n",
            "3         1985                 1296  21925  113826            0  \n",
            "4         1995                 1500  28834  154983            0  \n",
            "..         ...                  ...    ...     ...          ...  \n",
            "585       2012                 1200  71859  148953            0  \n",
            "586       2007                  399  19663   68645            0  \n",
            "587       1994                 1568  22581  129416            0  \n",
            "588       2001                 1456  36212  124962            0  \n",
            "589       1983                 1440  25993  148025            0  \n",
            "\n",
            "[590 rows x 14 columns]\n"
          ]
        }
      ]
    },
    {
      "cell_type": "code",
      "source": [
        "dataset.info()"
      ],
      "metadata": {
        "colab": {
          "base_uri": "https://localhost:8080/"
        },
        "id": "NJsQO15yFWZO",
        "outputId": "7f3f0c00-438e-4e8d-80ad-6772b61adfd7"
      },
      "execution_count": 75,
      "outputs": [
        {
          "output_type": "stream",
          "name": "stdout",
          "text": [
            "<class 'pandas.core.frame.DataFrame'>\n",
            "RangeIndex: 590 entries, 0 to 589\n",
            "Data columns (total 14 columns):\n",
            " #   Column                Non-Null Count  Dtype \n",
            "---  ------                --------------  ----- \n",
            " 0   QUOTE_LOCATOR         590 non-null    int64 \n",
            " 1   State                 590 non-null    object\n",
            " 2   City                  590 non-null    object\n",
            " 3   Address               589 non-null    object\n",
            " 4   Policy Usage          590 non-null    object\n",
            " 5   Form                  590 non-null    object\n",
            " 6   Home Type             590 non-null    object\n",
            " 7   Roof Shape            576 non-null    object\n",
            " 8   Roof Condition        576 non-null    object\n",
            " 9   Model Year            576 non-null    object\n",
            " 10  Total Square Footage  576 non-null    object\n",
            " 11  ACV                   576 non-null    object\n",
            " 12  RCV                   576 non-null    object\n",
            " 13  Issued Flag           590 non-null    int64 \n",
            "dtypes: int64(2), object(12)\n",
            "memory usage: 64.7+ KB\n"
          ]
        }
      ]
    },
    {
      "cell_type": "code",
      "source": [
        "# Assuming 'df' is your DataFrame\n",
        "\n",
        "# List of columns you want to convert to int64\n",
        "columns_to_convert = ['Total Square Footage', 'ACV', 'RCV']\n",
        "\n",
        "# Loop through each column and convert its values to int64\n",
        "for col in columns_to_convert:\n",
        "  # Convert NaN values to a placeholder value (e.g., 0)\n",
        "    dataset[col].fillna(0, inplace=True)\n",
        "    #convert object to int datatype\n",
        "    dataset[col] = dataset[col].astype('int64')\n",
        "\n",
        "# Print the DataFrame after conversion\n",
        "print(dataset)"
      ],
      "metadata": {
        "colab": {
          "base_uri": "https://localhost:8080/"
        },
        "id": "XTgOL5vqYUzz",
        "outputId": "3657ee78-8616-4a44-9688-a86c6f01d2c6"
      },
      "execution_count": 76,
      "outputs": [
        {
          "output_type": "stream",
          "name": "stdout",
          "text": [
            "     QUOTE_LOCATOR State             City                  Address  \\\n",
            "0        100689574    AZ  Apache Junction  10220 East Apache Trail   \n",
            "1        106067788    IN         Monterey            8938 S Ash St   \n",
            "2        106170568    AZ             Mesa          5001 E Maint St   \n",
            "3        106135316    AZ           Parker           309 N Misty Ln   \n",
            "4        106146174    MI   Mount Pleasant       5232 E Broadway Rd   \n",
            "..             ...   ...              ...                      ...   \n",
            "585      111675928    AZ        El Mirage     11201 N El Mirage Rd   \n",
            "586      111680300    AZ             Yuma      13650 N Frontage Rd   \n",
            "587      111690330    OK            Grove           63551 E 293 Rd   \n",
            "588      111702582    AZ             Mesa       120 N Val Vista Dr   \n",
            "589      111720024    AZ             Mesa             311 S Arvada   \n",
            "\n",
            "    Policy Usage           Form    Home Type Roof Shape Roof Condition  \\\n",
            "0          Owner  Comprehensive  Single wide       Flat           Fair   \n",
            "1          Owner  Comprehensive  Double wide      Gable        Unknown   \n",
            "2         Rental  Comprehensive   Park Model      Gable        Unknown   \n",
            "3          Owner  Comprehensive  Double wide      Gable        Unknown   \n",
            "4          Owner  Comprehensive  Double wide      Gable        Unknown   \n",
            "..           ...            ...          ...        ...            ...   \n",
            "585        Owner  Comprehensive  Double wide      Gable           Good   \n",
            "586     Seasonal  Comprehensive   Park Model      Gable           Good   \n",
            "587        Owner  Comprehensive  Double wide      Gable           Poor   \n",
            "588        Owner  Comprehensive  Double wide      Gable           Fair   \n",
            "589        Owner  Comprehensive  Double wide      Gable           Good   \n",
            "\n",
            "    Model Year  Total Square Footage    ACV     RCV  Issued Flag  \n",
            "0         1968                   780  17156   96138            1  \n",
            "1         2007                  1620  54370  135041            0  \n",
            "2         1986                   320   6418   45818            1  \n",
            "3         1985                  1296  21925  113826            0  \n",
            "4         1995                  1500  28834  154983            0  \n",
            "..         ...                   ...    ...     ...          ...  \n",
            "585       2012                  1200  71859  148953            0  \n",
            "586       2007                   399  19663   68645            0  \n",
            "587       1994                  1568  22581  129416            0  \n",
            "588       2001                  1456  36212  124962            0  \n",
            "589       1983                  1440  25993  148025            0  \n",
            "\n",
            "[590 rows x 14 columns]\n"
          ]
        }
      ]
    },
    {
      "cell_type": "code",
      "source": [
        "dataset.info()"
      ],
      "metadata": {
        "colab": {
          "base_uri": "https://localhost:8080/"
        },
        "id": "pUWCALaQYwF0",
        "outputId": "b51d8bb2-a217-4b23-8788-caf236ef1cb8"
      },
      "execution_count": 77,
      "outputs": [
        {
          "output_type": "stream",
          "name": "stdout",
          "text": [
            "<class 'pandas.core.frame.DataFrame'>\n",
            "RangeIndex: 590 entries, 0 to 589\n",
            "Data columns (total 14 columns):\n",
            " #   Column                Non-Null Count  Dtype \n",
            "---  ------                --------------  ----- \n",
            " 0   QUOTE_LOCATOR         590 non-null    int64 \n",
            " 1   State                 590 non-null    object\n",
            " 2   City                  590 non-null    object\n",
            " 3   Address               589 non-null    object\n",
            " 4   Policy Usage          590 non-null    object\n",
            " 5   Form                  590 non-null    object\n",
            " 6   Home Type             590 non-null    object\n",
            " 7   Roof Shape            576 non-null    object\n",
            " 8   Roof Condition        576 non-null    object\n",
            " 9   Model Year            576 non-null    object\n",
            " 10  Total Square Footage  590 non-null    int64 \n",
            " 11  ACV                   590 non-null    int64 \n",
            " 12  RCV                   590 non-null    int64 \n",
            " 13  Issued Flag           590 non-null    int64 \n",
            "dtypes: int64(5), object(9)\n",
            "memory usage: 64.7+ KB\n"
          ]
        }
      ]
    },
    {
      "cell_type": "code",
      "source": [
        "# List of columns to replace null values in\n",
        "columns_to_replace = ['Roof Shape', 'Roof Condition']\n",
        "\n",
        "# Replace null values with 'Not Listed' in specified columns\n",
        "for col in columns_to_replace:\n",
        "    dataset[col].fillna('Not Listed', inplace=True)\n",
        "\n",
        "dataset['Model Year'].fillna('2299', inplace=True)\n",
        "\n",
        "# Print the DataFrame after replacement\n",
        "print(dataset)"
      ],
      "metadata": {
        "colab": {
          "base_uri": "https://localhost:8080/"
        },
        "id": "SLgl7f3sbHND",
        "outputId": "967fc072-489c-4738-9bd7-d6896f02bf5a"
      },
      "execution_count": 78,
      "outputs": [
        {
          "output_type": "stream",
          "name": "stdout",
          "text": [
            "     QUOTE_LOCATOR State             City                  Address  \\\n",
            "0        100689574    AZ  Apache Junction  10220 East Apache Trail   \n",
            "1        106067788    IN         Monterey            8938 S Ash St   \n",
            "2        106170568    AZ             Mesa          5001 E Maint St   \n",
            "3        106135316    AZ           Parker           309 N Misty Ln   \n",
            "4        106146174    MI   Mount Pleasant       5232 E Broadway Rd   \n",
            "..             ...   ...              ...                      ...   \n",
            "585      111675928    AZ        El Mirage     11201 N El Mirage Rd   \n",
            "586      111680300    AZ             Yuma      13650 N Frontage Rd   \n",
            "587      111690330    OK            Grove           63551 E 293 Rd   \n",
            "588      111702582    AZ             Mesa       120 N Val Vista Dr   \n",
            "589      111720024    AZ             Mesa             311 S Arvada   \n",
            "\n",
            "    Policy Usage           Form    Home Type Roof Shape Roof Condition  \\\n",
            "0          Owner  Comprehensive  Single wide       Flat           Fair   \n",
            "1          Owner  Comprehensive  Double wide      Gable        Unknown   \n",
            "2         Rental  Comprehensive   Park Model      Gable        Unknown   \n",
            "3          Owner  Comprehensive  Double wide      Gable        Unknown   \n",
            "4          Owner  Comprehensive  Double wide      Gable        Unknown   \n",
            "..           ...            ...          ...        ...            ...   \n",
            "585        Owner  Comprehensive  Double wide      Gable           Good   \n",
            "586     Seasonal  Comprehensive   Park Model      Gable           Good   \n",
            "587        Owner  Comprehensive  Double wide      Gable           Poor   \n",
            "588        Owner  Comprehensive  Double wide      Gable           Fair   \n",
            "589        Owner  Comprehensive  Double wide      Gable           Good   \n",
            "\n",
            "    Model Year  Total Square Footage    ACV     RCV  Issued Flag  \n",
            "0         1968                   780  17156   96138            1  \n",
            "1         2007                  1620  54370  135041            0  \n",
            "2         1986                   320   6418   45818            1  \n",
            "3         1985                  1296  21925  113826            0  \n",
            "4         1995                  1500  28834  154983            0  \n",
            "..         ...                   ...    ...     ...          ...  \n",
            "585       2012                  1200  71859  148953            0  \n",
            "586       2007                   399  19663   68645            0  \n",
            "587       1994                  1568  22581  129416            0  \n",
            "588       2001                  1456  36212  124962            0  \n",
            "589       1983                  1440  25993  148025            0  \n",
            "\n",
            "[590 rows x 14 columns]\n"
          ]
        }
      ]
    },
    {
      "cell_type": "code",
      "source": [
        "dataset.isnull().sum()"
      ],
      "metadata": {
        "colab": {
          "base_uri": "https://localhost:8080/"
        },
        "id": "sM13xhE0cIpe",
        "outputId": "d57c3d85-e768-4c96-ff79-ae3e71b09ca7"
      },
      "execution_count": 79,
      "outputs": [
        {
          "output_type": "execute_result",
          "data": {
            "text/plain": [
              "QUOTE_LOCATOR           0\n",
              "State                   0\n",
              "City                    0\n",
              "Address                 1\n",
              "Policy Usage            0\n",
              "Form                    0\n",
              "Home Type               0\n",
              "Roof Shape              0\n",
              "Roof Condition          0\n",
              "Model Year              0\n",
              "Total Square Footage    0\n",
              "ACV                     0\n",
              "RCV                     0\n",
              "Issued Flag             0\n",
              "dtype: int64"
            ]
          },
          "metadata": {},
          "execution_count": 79
        }
      ]
    },
    {
      "cell_type": "code",
      "source": [
        "dataset.describe()"
      ],
      "metadata": {
        "colab": {
          "base_uri": "https://localhost:8080/",
          "height": 300
        },
        "id": "gjTt47LyFn1h",
        "outputId": "1132ecb2-e2a2-4426-d03c-9a9232b12faa"
      },
      "execution_count": 80,
      "outputs": [
        {
          "output_type": "execute_result",
          "data": {
            "text/plain": [
              "       QUOTE_LOCATOR  Total Square Footage            ACV            RCV  \\\n",
              "count   5.900000e+02            590.000000     590.000000     590.000000   \n",
              "mean    1.091883e+08           1159.050847   30745.538983  111005.637288   \n",
              "std     1.604042e+06            586.476739   23209.889862   56065.166760   \n",
              "min     1.006896e+08              0.000000       0.000000       0.000000   \n",
              "25%     1.077649e+08            720.000000   14599.000000   72324.500000   \n",
              "50%     1.091215e+08           1152.000000   22960.500000  105123.000000   \n",
              "75%     1.108928e+08           1500.000000   42026.750000  147070.250000   \n",
              "max     1.117200e+08           3192.000000  144686.000000  358293.000000   \n",
              "\n",
              "       Issued Flag  \n",
              "count   590.000000  \n",
              "mean      0.166102  \n",
              "std       0.372488  \n",
              "min       0.000000  \n",
              "25%       0.000000  \n",
              "50%       0.000000  \n",
              "75%       0.000000  \n",
              "max       1.000000  "
            ],
            "text/html": [
              "\n",
              "  <div id=\"df-3979df07-aafb-41cb-87db-e9f16fc913d0\" class=\"colab-df-container\">\n",
              "    <div>\n",
              "<style scoped>\n",
              "    .dataframe tbody tr th:only-of-type {\n",
              "        vertical-align: middle;\n",
              "    }\n",
              "\n",
              "    .dataframe tbody tr th {\n",
              "        vertical-align: top;\n",
              "    }\n",
              "\n",
              "    .dataframe thead th {\n",
              "        text-align: right;\n",
              "    }\n",
              "</style>\n",
              "<table border=\"1\" class=\"dataframe\">\n",
              "  <thead>\n",
              "    <tr style=\"text-align: right;\">\n",
              "      <th></th>\n",
              "      <th>QUOTE_LOCATOR</th>\n",
              "      <th>Total Square Footage</th>\n",
              "      <th>ACV</th>\n",
              "      <th>RCV</th>\n",
              "      <th>Issued Flag</th>\n",
              "    </tr>\n",
              "  </thead>\n",
              "  <tbody>\n",
              "    <tr>\n",
              "      <th>count</th>\n",
              "      <td>5.900000e+02</td>\n",
              "      <td>590.000000</td>\n",
              "      <td>590.000000</td>\n",
              "      <td>590.000000</td>\n",
              "      <td>590.000000</td>\n",
              "    </tr>\n",
              "    <tr>\n",
              "      <th>mean</th>\n",
              "      <td>1.091883e+08</td>\n",
              "      <td>1159.050847</td>\n",
              "      <td>30745.538983</td>\n",
              "      <td>111005.637288</td>\n",
              "      <td>0.166102</td>\n",
              "    </tr>\n",
              "    <tr>\n",
              "      <th>std</th>\n",
              "      <td>1.604042e+06</td>\n",
              "      <td>586.476739</td>\n",
              "      <td>23209.889862</td>\n",
              "      <td>56065.166760</td>\n",
              "      <td>0.372488</td>\n",
              "    </tr>\n",
              "    <tr>\n",
              "      <th>min</th>\n",
              "      <td>1.006896e+08</td>\n",
              "      <td>0.000000</td>\n",
              "      <td>0.000000</td>\n",
              "      <td>0.000000</td>\n",
              "      <td>0.000000</td>\n",
              "    </tr>\n",
              "    <tr>\n",
              "      <th>25%</th>\n",
              "      <td>1.077649e+08</td>\n",
              "      <td>720.000000</td>\n",
              "      <td>14599.000000</td>\n",
              "      <td>72324.500000</td>\n",
              "      <td>0.000000</td>\n",
              "    </tr>\n",
              "    <tr>\n",
              "      <th>50%</th>\n",
              "      <td>1.091215e+08</td>\n",
              "      <td>1152.000000</td>\n",
              "      <td>22960.500000</td>\n",
              "      <td>105123.000000</td>\n",
              "      <td>0.000000</td>\n",
              "    </tr>\n",
              "    <tr>\n",
              "      <th>75%</th>\n",
              "      <td>1.108928e+08</td>\n",
              "      <td>1500.000000</td>\n",
              "      <td>42026.750000</td>\n",
              "      <td>147070.250000</td>\n",
              "      <td>0.000000</td>\n",
              "    </tr>\n",
              "    <tr>\n",
              "      <th>max</th>\n",
              "      <td>1.117200e+08</td>\n",
              "      <td>3192.000000</td>\n",
              "      <td>144686.000000</td>\n",
              "      <td>358293.000000</td>\n",
              "      <td>1.000000</td>\n",
              "    </tr>\n",
              "  </tbody>\n",
              "</table>\n",
              "</div>\n",
              "    <div class=\"colab-df-buttons\">\n",
              "\n",
              "  <div class=\"colab-df-container\">\n",
              "    <button class=\"colab-df-convert\" onclick=\"convertToInteractive('df-3979df07-aafb-41cb-87db-e9f16fc913d0')\"\n",
              "            title=\"Convert this dataframe to an interactive table.\"\n",
              "            style=\"display:none;\">\n",
              "\n",
              "  <svg xmlns=\"http://www.w3.org/2000/svg\" height=\"24px\" viewBox=\"0 -960 960 960\">\n",
              "    <path d=\"M120-120v-720h720v720H120Zm60-500h600v-160H180v160Zm220 220h160v-160H400v160Zm0 220h160v-160H400v160ZM180-400h160v-160H180v160Zm440 0h160v-160H620v160ZM180-180h160v-160H180v160Zm440 0h160v-160H620v160Z\"/>\n",
              "  </svg>\n",
              "    </button>\n",
              "\n",
              "  <style>\n",
              "    .colab-df-container {\n",
              "      display:flex;\n",
              "      gap: 12px;\n",
              "    }\n",
              "\n",
              "    .colab-df-convert {\n",
              "      background-color: #E8F0FE;\n",
              "      border: none;\n",
              "      border-radius: 50%;\n",
              "      cursor: pointer;\n",
              "      display: none;\n",
              "      fill: #1967D2;\n",
              "      height: 32px;\n",
              "      padding: 0 0 0 0;\n",
              "      width: 32px;\n",
              "    }\n",
              "\n",
              "    .colab-df-convert:hover {\n",
              "      background-color: #E2EBFA;\n",
              "      box-shadow: 0px 1px 2px rgba(60, 64, 67, 0.3), 0px 1px 3px 1px rgba(60, 64, 67, 0.15);\n",
              "      fill: #174EA6;\n",
              "    }\n",
              "\n",
              "    .colab-df-buttons div {\n",
              "      margin-bottom: 4px;\n",
              "    }\n",
              "\n",
              "    [theme=dark] .colab-df-convert {\n",
              "      background-color: #3B4455;\n",
              "      fill: #D2E3FC;\n",
              "    }\n",
              "\n",
              "    [theme=dark] .colab-df-convert:hover {\n",
              "      background-color: #434B5C;\n",
              "      box-shadow: 0px 1px 3px 1px rgba(0, 0, 0, 0.15);\n",
              "      filter: drop-shadow(0px 1px 2px rgba(0, 0, 0, 0.3));\n",
              "      fill: #FFFFFF;\n",
              "    }\n",
              "  </style>\n",
              "\n",
              "    <script>\n",
              "      const buttonEl =\n",
              "        document.querySelector('#df-3979df07-aafb-41cb-87db-e9f16fc913d0 button.colab-df-convert');\n",
              "      buttonEl.style.display =\n",
              "        google.colab.kernel.accessAllowed ? 'block' : 'none';\n",
              "\n",
              "      async function convertToInteractive(key) {\n",
              "        const element = document.querySelector('#df-3979df07-aafb-41cb-87db-e9f16fc913d0');\n",
              "        const dataTable =\n",
              "          await google.colab.kernel.invokeFunction('convertToInteractive',\n",
              "                                                    [key], {});\n",
              "        if (!dataTable) return;\n",
              "\n",
              "        const docLinkHtml = 'Like what you see? Visit the ' +\n",
              "          '<a target=\"_blank\" href=https://colab.research.google.com/notebooks/data_table.ipynb>data table notebook</a>'\n",
              "          + ' to learn more about interactive tables.';\n",
              "        element.innerHTML = '';\n",
              "        dataTable['output_type'] = 'display_data';\n",
              "        await google.colab.output.renderOutput(dataTable, element);\n",
              "        const docLink = document.createElement('div');\n",
              "        docLink.innerHTML = docLinkHtml;\n",
              "        element.appendChild(docLink);\n",
              "      }\n",
              "    </script>\n",
              "  </div>\n",
              "\n",
              "\n",
              "<div id=\"df-ac92a72e-d7c3-4a0d-9c51-e435cce61f68\">\n",
              "  <button class=\"colab-df-quickchart\" onclick=\"quickchart('df-ac92a72e-d7c3-4a0d-9c51-e435cce61f68')\"\n",
              "            title=\"Suggest charts\"\n",
              "            style=\"display:none;\">\n",
              "\n",
              "<svg xmlns=\"http://www.w3.org/2000/svg\" height=\"24px\"viewBox=\"0 0 24 24\"\n",
              "     width=\"24px\">\n",
              "    <g>\n",
              "        <path d=\"M19 3H5c-1.1 0-2 .9-2 2v14c0 1.1.9 2 2 2h14c1.1 0 2-.9 2-2V5c0-1.1-.9-2-2-2zM9 17H7v-7h2v7zm4 0h-2V7h2v10zm4 0h-2v-4h2v4z\"/>\n",
              "    </g>\n",
              "</svg>\n",
              "  </button>\n",
              "\n",
              "<style>\n",
              "  .colab-df-quickchart {\n",
              "      --bg-color: #E8F0FE;\n",
              "      --fill-color: #1967D2;\n",
              "      --hover-bg-color: #E2EBFA;\n",
              "      --hover-fill-color: #174EA6;\n",
              "      --disabled-fill-color: #AAA;\n",
              "      --disabled-bg-color: #DDD;\n",
              "  }\n",
              "\n",
              "  [theme=dark] .colab-df-quickchart {\n",
              "      --bg-color: #3B4455;\n",
              "      --fill-color: #D2E3FC;\n",
              "      --hover-bg-color: #434B5C;\n",
              "      --hover-fill-color: #FFFFFF;\n",
              "      --disabled-bg-color: #3B4455;\n",
              "      --disabled-fill-color: #666;\n",
              "  }\n",
              "\n",
              "  .colab-df-quickchart {\n",
              "    background-color: var(--bg-color);\n",
              "    border: none;\n",
              "    border-radius: 50%;\n",
              "    cursor: pointer;\n",
              "    display: none;\n",
              "    fill: var(--fill-color);\n",
              "    height: 32px;\n",
              "    padding: 0;\n",
              "    width: 32px;\n",
              "  }\n",
              "\n",
              "  .colab-df-quickchart:hover {\n",
              "    background-color: var(--hover-bg-color);\n",
              "    box-shadow: 0 1px 2px rgba(60, 64, 67, 0.3), 0 1px 3px 1px rgba(60, 64, 67, 0.15);\n",
              "    fill: var(--button-hover-fill-color);\n",
              "  }\n",
              "\n",
              "  .colab-df-quickchart-complete:disabled,\n",
              "  .colab-df-quickchart-complete:disabled:hover {\n",
              "    background-color: var(--disabled-bg-color);\n",
              "    fill: var(--disabled-fill-color);\n",
              "    box-shadow: none;\n",
              "  }\n",
              "\n",
              "  .colab-df-spinner {\n",
              "    border: 2px solid var(--fill-color);\n",
              "    border-color: transparent;\n",
              "    border-bottom-color: var(--fill-color);\n",
              "    animation:\n",
              "      spin 1s steps(1) infinite;\n",
              "  }\n",
              "\n",
              "  @keyframes spin {\n",
              "    0% {\n",
              "      border-color: transparent;\n",
              "      border-bottom-color: var(--fill-color);\n",
              "      border-left-color: var(--fill-color);\n",
              "    }\n",
              "    20% {\n",
              "      border-color: transparent;\n",
              "      border-left-color: var(--fill-color);\n",
              "      border-top-color: var(--fill-color);\n",
              "    }\n",
              "    30% {\n",
              "      border-color: transparent;\n",
              "      border-left-color: var(--fill-color);\n",
              "      border-top-color: var(--fill-color);\n",
              "      border-right-color: var(--fill-color);\n",
              "    }\n",
              "    40% {\n",
              "      border-color: transparent;\n",
              "      border-right-color: var(--fill-color);\n",
              "      border-top-color: var(--fill-color);\n",
              "    }\n",
              "    60% {\n",
              "      border-color: transparent;\n",
              "      border-right-color: var(--fill-color);\n",
              "    }\n",
              "    80% {\n",
              "      border-color: transparent;\n",
              "      border-right-color: var(--fill-color);\n",
              "      border-bottom-color: var(--fill-color);\n",
              "    }\n",
              "    90% {\n",
              "      border-color: transparent;\n",
              "      border-bottom-color: var(--fill-color);\n",
              "    }\n",
              "  }\n",
              "</style>\n",
              "\n",
              "  <script>\n",
              "    async function quickchart(key) {\n",
              "      const quickchartButtonEl =\n",
              "        document.querySelector('#' + key + ' button');\n",
              "      quickchartButtonEl.disabled = true;  // To prevent multiple clicks.\n",
              "      quickchartButtonEl.classList.add('colab-df-spinner');\n",
              "      try {\n",
              "        const charts = await google.colab.kernel.invokeFunction(\n",
              "            'suggestCharts', [key], {});\n",
              "      } catch (error) {\n",
              "        console.error('Error during call to suggestCharts:', error);\n",
              "      }\n",
              "      quickchartButtonEl.classList.remove('colab-df-spinner');\n",
              "      quickchartButtonEl.classList.add('colab-df-quickchart-complete');\n",
              "    }\n",
              "    (() => {\n",
              "      let quickchartButtonEl =\n",
              "        document.querySelector('#df-ac92a72e-d7c3-4a0d-9c51-e435cce61f68 button');\n",
              "      quickchartButtonEl.style.display =\n",
              "        google.colab.kernel.accessAllowed ? 'block' : 'none';\n",
              "    })();\n",
              "  </script>\n",
              "</div>\n",
              "    </div>\n",
              "  </div>\n"
            ],
            "application/vnd.google.colaboratory.intrinsic+json": {
              "type": "dataframe",
              "summary": "{\n  \"name\": \"dataset\",\n  \"rows\": 8,\n  \"fields\": [\n    {\n      \"column\": \"QUOTE_LOCATOR\",\n      \"properties\": {\n        \"dtype\": \"number\",\n        \"std\": 49842963.156514674,\n        \"min\": 590.0,\n        \"max\": 111720024.0,\n        \"num_unique_values\": 8,\n        \"samples\": [\n          109188306.9322034,\n          109121518.0,\n          590.0\n        ],\n        \"semantic_type\": \"\",\n        \"description\": \"\"\n      }\n    },\n    {\n      \"column\": \"Total Square Footage\",\n      \"properties\": {\n        \"dtype\": \"number\",\n        \"std\": 957.6476331412243,\n        \"min\": 0.0,\n        \"max\": 3192.0,\n        \"num_unique_values\": 8,\n        \"samples\": [\n          1159.050847457627,\n          1152.0,\n          590.0\n        ],\n        \"semantic_type\": \"\",\n        \"description\": \"\"\n      }\n    },\n    {\n      \"column\": \"ACV\",\n      \"properties\": {\n        \"dtype\": \"number\",\n        \"std\": 46610.122556332,\n        \"min\": 0.0,\n        \"max\": 144686.0,\n        \"num_unique_values\": 8,\n        \"samples\": [\n          30745.538983050847,\n          22960.5,\n          590.0\n        ],\n        \"semantic_type\": \"\",\n        \"description\": \"\"\n      }\n    },\n    {\n      \"column\": \"RCV\",\n      \"properties\": {\n        \"dtype\": \"number\",\n        \"std\": 114229.33086947096,\n        \"min\": 0.0,\n        \"max\": 358293.0,\n        \"num_unique_values\": 8,\n        \"samples\": [\n          111005.6372881356,\n          105123.0,\n          590.0\n        ],\n        \"semantic_type\": \"\",\n        \"description\": \"\"\n      }\n    },\n    {\n      \"column\": \"Issued Flag\",\n      \"properties\": {\n        \"dtype\": \"number\",\n        \"std\": 208.51907363732965,\n        \"min\": 0.0,\n        \"max\": 590.0,\n        \"num_unique_values\": 5,\n        \"samples\": [\n          0.16610169491525423,\n          1.0,\n          0.37248769968252565\n        ],\n        \"semantic_type\": \"\",\n        \"description\": \"\"\n      }\n    }\n  ]\n}"
            }
          },
          "metadata": {},
          "execution_count": 80
        }
      ]
    },
    {
      "cell_type": "markdown",
      "source": [
        "##One Hot Encoding\n",
        "One-hot encoding is typically performed on categorical variables in a dataset to convert them into a numerical format that can be used as input features in a machine learning model.\n",
        "\n",
        "Many machine learning algorithms, especially those implemented in libraries like scikit-learn or TensorFlow, require numerical input data.\n",
        "\n",
        "Categorical variables, such as 'State', 'City', 'Policy Usage', etc., are non-numeric, so they need to be converted into numeric format for the model to understand and process them."
      ],
      "metadata": {
        "id": "_DG-hyYUKBMy"
      }
    },
    {
      "cell_type": "markdown",
      "source": [
        "## Feature Selection"
      ],
      "metadata": {
        "id": "sRnknaYVdjHW"
      }
    },
    {
      "cell_type": "code",
      "source": [
        "#from sklearn.preprocessing import OneHotEncoder\n",
        "\n",
        "# List of categorical columns for one-hot encoding\n",
        "categorical_columns = ['State', 'City', 'Policy Usage', 'Form', 'Home Type', 'Roof Shape', 'Roof Condition']\n",
        "categorical_columns"
      ],
      "metadata": {
        "colab": {
          "base_uri": "https://localhost:8080/"
        },
        "id": "Y6oz07V3KQfB",
        "outputId": "94e45b9d-864a-4be5-ff9b-d66b15c2d960"
      },
      "execution_count": 81,
      "outputs": [
        {
          "output_type": "execute_result",
          "data": {
            "text/plain": [
              "['State',\n",
              " 'City',\n",
              " 'Policy Usage',\n",
              " 'Form',\n",
              " 'Home Type',\n",
              " 'Roof Shape',\n",
              " 'Roof Condition']"
            ]
          },
          "metadata": {},
          "execution_count": 81
        }
      ]
    },
    {
      "cell_type": "code",
      "source": [
        "# Initialize OneHotEncoder\n",
        "encoder = OneHotEncoder(drop='first', sparse=False)\n",
        "\n",
        "# Fit and transform the categorical columns\n",
        "encoded_data = encoder.fit_transform(dataset[categorical_columns])"
      ],
      "metadata": {
        "colab": {
          "base_uri": "https://localhost:8080/"
        },
        "id": "on0aSwqeLd5p",
        "outputId": "ff9b863b-6b3a-43ef-9718-bc9559484910"
      },
      "execution_count": 82,
      "outputs": [
        {
          "output_type": "stream",
          "name": "stderr",
          "text": [
            "/usr/local/lib/python3.10/dist-packages/sklearn/preprocessing/_encoders.py:868: FutureWarning: `sparse` was renamed to `sparse_output` in version 1.2 and will be removed in 1.4. `sparse_output` is ignored unless you leave `sparse` to its default value.\n",
            "  warnings.warn(\n"
          ]
        }
      ]
    },
    {
      "cell_type": "code",
      "source": [
        "# Create a DataFrame with the encoded data\n",
        "encoded_df = pd.DataFrame(encoded_data, columns=encoder.get_feature_names_out(categorical_columns))\n",
        "\n",
        "# Concatenate the encoded DataFrame with the original DataFrame, dropping the original categorical columns\n",
        "data_encoded = pd.concat([dataset.drop(columns=categorical_columns), encoded_df], axis=1)\n",
        "\n",
        "# Print the encoded DataFrame\n",
        "print(\"Encoded DataFrame:\")\n",
        "print(data_encoded)"
      ],
      "metadata": {
        "colab": {
          "base_uri": "https://localhost:8080/"
        },
        "id": "qmkX02F3LeAy",
        "outputId": "d0914628-e8b7-4a0e-ea86-31351425a6b7"
      },
      "execution_count": 83,
      "outputs": [
        {
          "output_type": "stream",
          "name": "stdout",
          "text": [
            "Encoded DataFrame:\n",
            "     QUOTE_LOCATOR                  Address Model Year  Total Square Footage  \\\n",
            "0        100689574  10220 East Apache Trail       1968                   780   \n",
            "1        106067788            8938 S Ash St       2007                  1620   \n",
            "2        106170568          5001 E Maint St       1986                   320   \n",
            "3        106135316           309 N Misty Ln       1985                  1296   \n",
            "4        106146174       5232 E Broadway Rd       1995                  1500   \n",
            "..             ...                      ...        ...                   ...   \n",
            "585      111675928     11201 N El Mirage Rd       2012                  1200   \n",
            "586      111680300      13650 N Frontage Rd       2007                   399   \n",
            "587      111690330           63551 E 293 Rd       1994                  1568   \n",
            "588      111702582       120 N Val Vista Dr       2001                  1456   \n",
            "589      111720024             311 S Arvada       1983                  1440   \n",
            "\n",
            "       ACV     RCV  Issued Flag  State_AR  State_AZ  State_GA  ...  \\\n",
            "0    17156   96138            1       0.0       1.0       0.0  ...   \n",
            "1    54370  135041            0       0.0       0.0       0.0  ...   \n",
            "2     6418   45818            1       0.0       1.0       0.0  ...   \n",
            "3    21925  113826            0       0.0       1.0       0.0  ...   \n",
            "4    28834  154983            0       0.0       0.0       0.0  ...   \n",
            "..     ...     ...          ...       ...       ...       ...  ...   \n",
            "585  71859  148953            0       0.0       1.0       0.0  ...   \n",
            "586  19663   68645            0       0.0       1.0       0.0  ...   \n",
            "587  22581  129416            0       0.0       0.0       0.0  ...   \n",
            "588  36212  124962            0       0.0       1.0       0.0  ...   \n",
            "589  25993  148025            0       0.0       1.0       0.0  ...   \n",
            "\n",
            "     Roof Shape_Flat  Roof Shape_Gable  Roof Shape_Hip  Roof Shape_Not Listed  \\\n",
            "0                1.0               0.0             0.0                    0.0   \n",
            "1                0.0               1.0             0.0                    0.0   \n",
            "2                0.0               1.0             0.0                    0.0   \n",
            "3                0.0               1.0             0.0                    0.0   \n",
            "4                0.0               1.0             0.0                    0.0   \n",
            "..               ...               ...             ...                    ...   \n",
            "585              0.0               1.0             0.0                    0.0   \n",
            "586              0.0               1.0             0.0                    0.0   \n",
            "587              0.0               1.0             0.0                    0.0   \n",
            "588              0.0               1.0             0.0                    0.0   \n",
            "589              0.0               1.0             0.0                    0.0   \n",
            "\n",
            "     Roof Condition_Fair  Roof Condition_Good  Roof Condition_Not Listed  \\\n",
            "0                    1.0                  0.0                        0.0   \n",
            "1                    0.0                  0.0                        0.0   \n",
            "2                    0.0                  0.0                        0.0   \n",
            "3                    0.0                  0.0                        0.0   \n",
            "4                    0.0                  0.0                        0.0   \n",
            "..                   ...                  ...                        ...   \n",
            "585                  0.0                  1.0                        0.0   \n",
            "586                  0.0                  1.0                        0.0   \n",
            "587                  0.0                  0.0                        0.0   \n",
            "588                  1.0                  0.0                        0.0   \n",
            "589                  0.0                  1.0                        0.0   \n",
            "\n",
            "     Roof Condition_Poor  Roof Condition_Severe  Roof Condition_Unknown  \n",
            "0                    0.0                    0.0                     0.0  \n",
            "1                    0.0                    0.0                     1.0  \n",
            "2                    0.0                    0.0                     1.0  \n",
            "3                    0.0                    0.0                     1.0  \n",
            "4                    0.0                    0.0                     1.0  \n",
            "..                   ...                    ...                     ...  \n",
            "585                  0.0                    0.0                     0.0  \n",
            "586                  0.0                    0.0                     0.0  \n",
            "587                  1.0                    0.0                     0.0  \n",
            "588                  0.0                    0.0                     0.0  \n",
            "589                  0.0                    0.0                     0.0  \n",
            "\n",
            "[590 rows x 246 columns]\n"
          ]
        }
      ]
    },
    {
      "cell_type": "code",
      "source": [
        "data_encoded"
      ],
      "metadata": {
        "colab": {
          "base_uri": "https://localhost:8080/",
          "height": 738
        },
        "id": "DI2d6ZknNL7V",
        "outputId": "208d1f08-8b1e-4d21-e051-921f30374eaf"
      },
      "execution_count": 84,
      "outputs": [
        {
          "output_type": "execute_result",
          "data": {
            "text/plain": [
              "     QUOTE_LOCATOR                  Address Model Year  Total Square Footage  \\\n",
              "0        100689574  10220 East Apache Trail       1968                   780   \n",
              "1        106067788            8938 S Ash St       2007                  1620   \n",
              "2        106170568          5001 E Maint St       1986                   320   \n",
              "3        106135316           309 N Misty Ln       1985                  1296   \n",
              "4        106146174       5232 E Broadway Rd       1995                  1500   \n",
              "..             ...                      ...        ...                   ...   \n",
              "585      111675928     11201 N El Mirage Rd       2012                  1200   \n",
              "586      111680300      13650 N Frontage Rd       2007                   399   \n",
              "587      111690330           63551 E 293 Rd       1994                  1568   \n",
              "588      111702582       120 N Val Vista Dr       2001                  1456   \n",
              "589      111720024             311 S Arvada       1983                  1440   \n",
              "\n",
              "       ACV     RCV  Issued Flag  State_AR  State_AZ  State_GA  ...  \\\n",
              "0    17156   96138            1       0.0       1.0       0.0  ...   \n",
              "1    54370  135041            0       0.0       0.0       0.0  ...   \n",
              "2     6418   45818            1       0.0       1.0       0.0  ...   \n",
              "3    21925  113826            0       0.0       1.0       0.0  ...   \n",
              "4    28834  154983            0       0.0       0.0       0.0  ...   \n",
              "..     ...     ...          ...       ...       ...       ...  ...   \n",
              "585  71859  148953            0       0.0       1.0       0.0  ...   \n",
              "586  19663   68645            0       0.0       1.0       0.0  ...   \n",
              "587  22581  129416            0       0.0       0.0       0.0  ...   \n",
              "588  36212  124962            0       0.0       1.0       0.0  ...   \n",
              "589  25993  148025            0       0.0       1.0       0.0  ...   \n",
              "\n",
              "     Roof Shape_Flat  Roof Shape_Gable  Roof Shape_Hip  Roof Shape_Not Listed  \\\n",
              "0                1.0               0.0             0.0                    0.0   \n",
              "1                0.0               1.0             0.0                    0.0   \n",
              "2                0.0               1.0             0.0                    0.0   \n",
              "3                0.0               1.0             0.0                    0.0   \n",
              "4                0.0               1.0             0.0                    0.0   \n",
              "..               ...               ...             ...                    ...   \n",
              "585              0.0               1.0             0.0                    0.0   \n",
              "586              0.0               1.0             0.0                    0.0   \n",
              "587              0.0               1.0             0.0                    0.0   \n",
              "588              0.0               1.0             0.0                    0.0   \n",
              "589              0.0               1.0             0.0                    0.0   \n",
              "\n",
              "     Roof Condition_Fair  Roof Condition_Good  Roof Condition_Not Listed  \\\n",
              "0                    1.0                  0.0                        0.0   \n",
              "1                    0.0                  0.0                        0.0   \n",
              "2                    0.0                  0.0                        0.0   \n",
              "3                    0.0                  0.0                        0.0   \n",
              "4                    0.0                  0.0                        0.0   \n",
              "..                   ...                  ...                        ...   \n",
              "585                  0.0                  1.0                        0.0   \n",
              "586                  0.0                  1.0                        0.0   \n",
              "587                  0.0                  0.0                        0.0   \n",
              "588                  1.0                  0.0                        0.0   \n",
              "589                  0.0                  1.0                        0.0   \n",
              "\n",
              "     Roof Condition_Poor  Roof Condition_Severe  Roof Condition_Unknown  \n",
              "0                    0.0                    0.0                     0.0  \n",
              "1                    0.0                    0.0                     1.0  \n",
              "2                    0.0                    0.0                     1.0  \n",
              "3                    0.0                    0.0                     1.0  \n",
              "4                    0.0                    0.0                     1.0  \n",
              "..                   ...                    ...                     ...  \n",
              "585                  0.0                    0.0                     0.0  \n",
              "586                  0.0                    0.0                     0.0  \n",
              "587                  1.0                    0.0                     0.0  \n",
              "588                  0.0                    0.0                     0.0  \n",
              "589                  0.0                    0.0                     0.0  \n",
              "\n",
              "[590 rows x 246 columns]"
            ],
            "text/html": [
              "\n",
              "  <div id=\"df-e63a2831-f834-4c51-b1b6-38b907d2aa8d\" class=\"colab-df-container\">\n",
              "    <div>\n",
              "<style scoped>\n",
              "    .dataframe tbody tr th:only-of-type {\n",
              "        vertical-align: middle;\n",
              "    }\n",
              "\n",
              "    .dataframe tbody tr th {\n",
              "        vertical-align: top;\n",
              "    }\n",
              "\n",
              "    .dataframe thead th {\n",
              "        text-align: right;\n",
              "    }\n",
              "</style>\n",
              "<table border=\"1\" class=\"dataframe\">\n",
              "  <thead>\n",
              "    <tr style=\"text-align: right;\">\n",
              "      <th></th>\n",
              "      <th>QUOTE_LOCATOR</th>\n",
              "      <th>Address</th>\n",
              "      <th>Model Year</th>\n",
              "      <th>Total Square Footage</th>\n",
              "      <th>ACV</th>\n",
              "      <th>RCV</th>\n",
              "      <th>Issued Flag</th>\n",
              "      <th>State_AR</th>\n",
              "      <th>State_AZ</th>\n",
              "      <th>State_GA</th>\n",
              "      <th>...</th>\n",
              "      <th>Roof Shape_Flat</th>\n",
              "      <th>Roof Shape_Gable</th>\n",
              "      <th>Roof Shape_Hip</th>\n",
              "      <th>Roof Shape_Not Listed</th>\n",
              "      <th>Roof Condition_Fair</th>\n",
              "      <th>Roof Condition_Good</th>\n",
              "      <th>Roof Condition_Not Listed</th>\n",
              "      <th>Roof Condition_Poor</th>\n",
              "      <th>Roof Condition_Severe</th>\n",
              "      <th>Roof Condition_Unknown</th>\n",
              "    </tr>\n",
              "  </thead>\n",
              "  <tbody>\n",
              "    <tr>\n",
              "      <th>0</th>\n",
              "      <td>100689574</td>\n",
              "      <td>10220 East Apache Trail</td>\n",
              "      <td>1968</td>\n",
              "      <td>780</td>\n",
              "      <td>17156</td>\n",
              "      <td>96138</td>\n",
              "      <td>1</td>\n",
              "      <td>0.0</td>\n",
              "      <td>1.0</td>\n",
              "      <td>0.0</td>\n",
              "      <td>...</td>\n",
              "      <td>1.0</td>\n",
              "      <td>0.0</td>\n",
              "      <td>0.0</td>\n",
              "      <td>0.0</td>\n",
              "      <td>1.0</td>\n",
              "      <td>0.0</td>\n",
              "      <td>0.0</td>\n",
              "      <td>0.0</td>\n",
              "      <td>0.0</td>\n",
              "      <td>0.0</td>\n",
              "    </tr>\n",
              "    <tr>\n",
              "      <th>1</th>\n",
              "      <td>106067788</td>\n",
              "      <td>8938 S Ash St</td>\n",
              "      <td>2007</td>\n",
              "      <td>1620</td>\n",
              "      <td>54370</td>\n",
              "      <td>135041</td>\n",
              "      <td>0</td>\n",
              "      <td>0.0</td>\n",
              "      <td>0.0</td>\n",
              "      <td>0.0</td>\n",
              "      <td>...</td>\n",
              "      <td>0.0</td>\n",
              "      <td>1.0</td>\n",
              "      <td>0.0</td>\n",
              "      <td>0.0</td>\n",
              "      <td>0.0</td>\n",
              "      <td>0.0</td>\n",
              "      <td>0.0</td>\n",
              "      <td>0.0</td>\n",
              "      <td>0.0</td>\n",
              "      <td>1.0</td>\n",
              "    </tr>\n",
              "    <tr>\n",
              "      <th>2</th>\n",
              "      <td>106170568</td>\n",
              "      <td>5001 E Maint St</td>\n",
              "      <td>1986</td>\n",
              "      <td>320</td>\n",
              "      <td>6418</td>\n",
              "      <td>45818</td>\n",
              "      <td>1</td>\n",
              "      <td>0.0</td>\n",
              "      <td>1.0</td>\n",
              "      <td>0.0</td>\n",
              "      <td>...</td>\n",
              "      <td>0.0</td>\n",
              "      <td>1.0</td>\n",
              "      <td>0.0</td>\n",
              "      <td>0.0</td>\n",
              "      <td>0.0</td>\n",
              "      <td>0.0</td>\n",
              "      <td>0.0</td>\n",
              "      <td>0.0</td>\n",
              "      <td>0.0</td>\n",
              "      <td>1.0</td>\n",
              "    </tr>\n",
              "    <tr>\n",
              "      <th>3</th>\n",
              "      <td>106135316</td>\n",
              "      <td>309 N Misty Ln</td>\n",
              "      <td>1985</td>\n",
              "      <td>1296</td>\n",
              "      <td>21925</td>\n",
              "      <td>113826</td>\n",
              "      <td>0</td>\n",
              "      <td>0.0</td>\n",
              "      <td>1.0</td>\n",
              "      <td>0.0</td>\n",
              "      <td>...</td>\n",
              "      <td>0.0</td>\n",
              "      <td>1.0</td>\n",
              "      <td>0.0</td>\n",
              "      <td>0.0</td>\n",
              "      <td>0.0</td>\n",
              "      <td>0.0</td>\n",
              "      <td>0.0</td>\n",
              "      <td>0.0</td>\n",
              "      <td>0.0</td>\n",
              "      <td>1.0</td>\n",
              "    </tr>\n",
              "    <tr>\n",
              "      <th>4</th>\n",
              "      <td>106146174</td>\n",
              "      <td>5232 E Broadway Rd</td>\n",
              "      <td>1995</td>\n",
              "      <td>1500</td>\n",
              "      <td>28834</td>\n",
              "      <td>154983</td>\n",
              "      <td>0</td>\n",
              "      <td>0.0</td>\n",
              "      <td>0.0</td>\n",
              "      <td>0.0</td>\n",
              "      <td>...</td>\n",
              "      <td>0.0</td>\n",
              "      <td>1.0</td>\n",
              "      <td>0.0</td>\n",
              "      <td>0.0</td>\n",
              "      <td>0.0</td>\n",
              "      <td>0.0</td>\n",
              "      <td>0.0</td>\n",
              "      <td>0.0</td>\n",
              "      <td>0.0</td>\n",
              "      <td>1.0</td>\n",
              "    </tr>\n",
              "    <tr>\n",
              "      <th>...</th>\n",
              "      <td>...</td>\n",
              "      <td>...</td>\n",
              "      <td>...</td>\n",
              "      <td>...</td>\n",
              "      <td>...</td>\n",
              "      <td>...</td>\n",
              "      <td>...</td>\n",
              "      <td>...</td>\n",
              "      <td>...</td>\n",
              "      <td>...</td>\n",
              "      <td>...</td>\n",
              "      <td>...</td>\n",
              "      <td>...</td>\n",
              "      <td>...</td>\n",
              "      <td>...</td>\n",
              "      <td>...</td>\n",
              "      <td>...</td>\n",
              "      <td>...</td>\n",
              "      <td>...</td>\n",
              "      <td>...</td>\n",
              "      <td>...</td>\n",
              "    </tr>\n",
              "    <tr>\n",
              "      <th>585</th>\n",
              "      <td>111675928</td>\n",
              "      <td>11201 N El Mirage Rd</td>\n",
              "      <td>2012</td>\n",
              "      <td>1200</td>\n",
              "      <td>71859</td>\n",
              "      <td>148953</td>\n",
              "      <td>0</td>\n",
              "      <td>0.0</td>\n",
              "      <td>1.0</td>\n",
              "      <td>0.0</td>\n",
              "      <td>...</td>\n",
              "      <td>0.0</td>\n",
              "      <td>1.0</td>\n",
              "      <td>0.0</td>\n",
              "      <td>0.0</td>\n",
              "      <td>0.0</td>\n",
              "      <td>1.0</td>\n",
              "      <td>0.0</td>\n",
              "      <td>0.0</td>\n",
              "      <td>0.0</td>\n",
              "      <td>0.0</td>\n",
              "    </tr>\n",
              "    <tr>\n",
              "      <th>586</th>\n",
              "      <td>111680300</td>\n",
              "      <td>13650 N Frontage Rd</td>\n",
              "      <td>2007</td>\n",
              "      <td>399</td>\n",
              "      <td>19663</td>\n",
              "      <td>68645</td>\n",
              "      <td>0</td>\n",
              "      <td>0.0</td>\n",
              "      <td>1.0</td>\n",
              "      <td>0.0</td>\n",
              "      <td>...</td>\n",
              "      <td>0.0</td>\n",
              "      <td>1.0</td>\n",
              "      <td>0.0</td>\n",
              "      <td>0.0</td>\n",
              "      <td>0.0</td>\n",
              "      <td>1.0</td>\n",
              "      <td>0.0</td>\n",
              "      <td>0.0</td>\n",
              "      <td>0.0</td>\n",
              "      <td>0.0</td>\n",
              "    </tr>\n",
              "    <tr>\n",
              "      <th>587</th>\n",
              "      <td>111690330</td>\n",
              "      <td>63551 E 293 Rd</td>\n",
              "      <td>1994</td>\n",
              "      <td>1568</td>\n",
              "      <td>22581</td>\n",
              "      <td>129416</td>\n",
              "      <td>0</td>\n",
              "      <td>0.0</td>\n",
              "      <td>0.0</td>\n",
              "      <td>0.0</td>\n",
              "      <td>...</td>\n",
              "      <td>0.0</td>\n",
              "      <td>1.0</td>\n",
              "      <td>0.0</td>\n",
              "      <td>0.0</td>\n",
              "      <td>0.0</td>\n",
              "      <td>0.0</td>\n",
              "      <td>0.0</td>\n",
              "      <td>1.0</td>\n",
              "      <td>0.0</td>\n",
              "      <td>0.0</td>\n",
              "    </tr>\n",
              "    <tr>\n",
              "      <th>588</th>\n",
              "      <td>111702582</td>\n",
              "      <td>120 N Val Vista Dr</td>\n",
              "      <td>2001</td>\n",
              "      <td>1456</td>\n",
              "      <td>36212</td>\n",
              "      <td>124962</td>\n",
              "      <td>0</td>\n",
              "      <td>0.0</td>\n",
              "      <td>1.0</td>\n",
              "      <td>0.0</td>\n",
              "      <td>...</td>\n",
              "      <td>0.0</td>\n",
              "      <td>1.0</td>\n",
              "      <td>0.0</td>\n",
              "      <td>0.0</td>\n",
              "      <td>1.0</td>\n",
              "      <td>0.0</td>\n",
              "      <td>0.0</td>\n",
              "      <td>0.0</td>\n",
              "      <td>0.0</td>\n",
              "      <td>0.0</td>\n",
              "    </tr>\n",
              "    <tr>\n",
              "      <th>589</th>\n",
              "      <td>111720024</td>\n",
              "      <td>311 S Arvada</td>\n",
              "      <td>1983</td>\n",
              "      <td>1440</td>\n",
              "      <td>25993</td>\n",
              "      <td>148025</td>\n",
              "      <td>0</td>\n",
              "      <td>0.0</td>\n",
              "      <td>1.0</td>\n",
              "      <td>0.0</td>\n",
              "      <td>...</td>\n",
              "      <td>0.0</td>\n",
              "      <td>1.0</td>\n",
              "      <td>0.0</td>\n",
              "      <td>0.0</td>\n",
              "      <td>0.0</td>\n",
              "      <td>1.0</td>\n",
              "      <td>0.0</td>\n",
              "      <td>0.0</td>\n",
              "      <td>0.0</td>\n",
              "      <td>0.0</td>\n",
              "    </tr>\n",
              "  </tbody>\n",
              "</table>\n",
              "<p>590 rows × 246 columns</p>\n",
              "</div>\n",
              "    <div class=\"colab-df-buttons\">\n",
              "\n",
              "  <div class=\"colab-df-container\">\n",
              "    <button class=\"colab-df-convert\" onclick=\"convertToInteractive('df-e63a2831-f834-4c51-b1b6-38b907d2aa8d')\"\n",
              "            title=\"Convert this dataframe to an interactive table.\"\n",
              "            style=\"display:none;\">\n",
              "\n",
              "  <svg xmlns=\"http://www.w3.org/2000/svg\" height=\"24px\" viewBox=\"0 -960 960 960\">\n",
              "    <path d=\"M120-120v-720h720v720H120Zm60-500h600v-160H180v160Zm220 220h160v-160H400v160Zm0 220h160v-160H400v160ZM180-400h160v-160H180v160Zm440 0h160v-160H620v160ZM180-180h160v-160H180v160Zm440 0h160v-160H620v160Z\"/>\n",
              "  </svg>\n",
              "    </button>\n",
              "\n",
              "  <style>\n",
              "    .colab-df-container {\n",
              "      display:flex;\n",
              "      gap: 12px;\n",
              "    }\n",
              "\n",
              "    .colab-df-convert {\n",
              "      background-color: #E8F0FE;\n",
              "      border: none;\n",
              "      border-radius: 50%;\n",
              "      cursor: pointer;\n",
              "      display: none;\n",
              "      fill: #1967D2;\n",
              "      height: 32px;\n",
              "      padding: 0 0 0 0;\n",
              "      width: 32px;\n",
              "    }\n",
              "\n",
              "    .colab-df-convert:hover {\n",
              "      background-color: #E2EBFA;\n",
              "      box-shadow: 0px 1px 2px rgba(60, 64, 67, 0.3), 0px 1px 3px 1px rgba(60, 64, 67, 0.15);\n",
              "      fill: #174EA6;\n",
              "    }\n",
              "\n",
              "    .colab-df-buttons div {\n",
              "      margin-bottom: 4px;\n",
              "    }\n",
              "\n",
              "    [theme=dark] .colab-df-convert {\n",
              "      background-color: #3B4455;\n",
              "      fill: #D2E3FC;\n",
              "    }\n",
              "\n",
              "    [theme=dark] .colab-df-convert:hover {\n",
              "      background-color: #434B5C;\n",
              "      box-shadow: 0px 1px 3px 1px rgba(0, 0, 0, 0.15);\n",
              "      filter: drop-shadow(0px 1px 2px rgba(0, 0, 0, 0.3));\n",
              "      fill: #FFFFFF;\n",
              "    }\n",
              "  </style>\n",
              "\n",
              "    <script>\n",
              "      const buttonEl =\n",
              "        document.querySelector('#df-e63a2831-f834-4c51-b1b6-38b907d2aa8d button.colab-df-convert');\n",
              "      buttonEl.style.display =\n",
              "        google.colab.kernel.accessAllowed ? 'block' : 'none';\n",
              "\n",
              "      async function convertToInteractive(key) {\n",
              "        const element = document.querySelector('#df-e63a2831-f834-4c51-b1b6-38b907d2aa8d');\n",
              "        const dataTable =\n",
              "          await google.colab.kernel.invokeFunction('convertToInteractive',\n",
              "                                                    [key], {});\n",
              "        if (!dataTable) return;\n",
              "\n",
              "        const docLinkHtml = 'Like what you see? Visit the ' +\n",
              "          '<a target=\"_blank\" href=https://colab.research.google.com/notebooks/data_table.ipynb>data table notebook</a>'\n",
              "          + ' to learn more about interactive tables.';\n",
              "        element.innerHTML = '';\n",
              "        dataTable['output_type'] = 'display_data';\n",
              "        await google.colab.output.renderOutput(dataTable, element);\n",
              "        const docLink = document.createElement('div');\n",
              "        docLink.innerHTML = docLinkHtml;\n",
              "        element.appendChild(docLink);\n",
              "      }\n",
              "    </script>\n",
              "  </div>\n",
              "\n",
              "\n",
              "<div id=\"df-99895ba0-94bb-40f6-9fa9-13ef83bdc339\">\n",
              "  <button class=\"colab-df-quickchart\" onclick=\"quickchart('df-99895ba0-94bb-40f6-9fa9-13ef83bdc339')\"\n",
              "            title=\"Suggest charts\"\n",
              "            style=\"display:none;\">\n",
              "\n",
              "<svg xmlns=\"http://www.w3.org/2000/svg\" height=\"24px\"viewBox=\"0 0 24 24\"\n",
              "     width=\"24px\">\n",
              "    <g>\n",
              "        <path d=\"M19 3H5c-1.1 0-2 .9-2 2v14c0 1.1.9 2 2 2h14c1.1 0 2-.9 2-2V5c0-1.1-.9-2-2-2zM9 17H7v-7h2v7zm4 0h-2V7h2v10zm4 0h-2v-4h2v4z\"/>\n",
              "    </g>\n",
              "</svg>\n",
              "  </button>\n",
              "\n",
              "<style>\n",
              "  .colab-df-quickchart {\n",
              "      --bg-color: #E8F0FE;\n",
              "      --fill-color: #1967D2;\n",
              "      --hover-bg-color: #E2EBFA;\n",
              "      --hover-fill-color: #174EA6;\n",
              "      --disabled-fill-color: #AAA;\n",
              "      --disabled-bg-color: #DDD;\n",
              "  }\n",
              "\n",
              "  [theme=dark] .colab-df-quickchart {\n",
              "      --bg-color: #3B4455;\n",
              "      --fill-color: #D2E3FC;\n",
              "      --hover-bg-color: #434B5C;\n",
              "      --hover-fill-color: #FFFFFF;\n",
              "      --disabled-bg-color: #3B4455;\n",
              "      --disabled-fill-color: #666;\n",
              "  }\n",
              "\n",
              "  .colab-df-quickchart {\n",
              "    background-color: var(--bg-color);\n",
              "    border: none;\n",
              "    border-radius: 50%;\n",
              "    cursor: pointer;\n",
              "    display: none;\n",
              "    fill: var(--fill-color);\n",
              "    height: 32px;\n",
              "    padding: 0;\n",
              "    width: 32px;\n",
              "  }\n",
              "\n",
              "  .colab-df-quickchart:hover {\n",
              "    background-color: var(--hover-bg-color);\n",
              "    box-shadow: 0 1px 2px rgba(60, 64, 67, 0.3), 0 1px 3px 1px rgba(60, 64, 67, 0.15);\n",
              "    fill: var(--button-hover-fill-color);\n",
              "  }\n",
              "\n",
              "  .colab-df-quickchart-complete:disabled,\n",
              "  .colab-df-quickchart-complete:disabled:hover {\n",
              "    background-color: var(--disabled-bg-color);\n",
              "    fill: var(--disabled-fill-color);\n",
              "    box-shadow: none;\n",
              "  }\n",
              "\n",
              "  .colab-df-spinner {\n",
              "    border: 2px solid var(--fill-color);\n",
              "    border-color: transparent;\n",
              "    border-bottom-color: var(--fill-color);\n",
              "    animation:\n",
              "      spin 1s steps(1) infinite;\n",
              "  }\n",
              "\n",
              "  @keyframes spin {\n",
              "    0% {\n",
              "      border-color: transparent;\n",
              "      border-bottom-color: var(--fill-color);\n",
              "      border-left-color: var(--fill-color);\n",
              "    }\n",
              "    20% {\n",
              "      border-color: transparent;\n",
              "      border-left-color: var(--fill-color);\n",
              "      border-top-color: var(--fill-color);\n",
              "    }\n",
              "    30% {\n",
              "      border-color: transparent;\n",
              "      border-left-color: var(--fill-color);\n",
              "      border-top-color: var(--fill-color);\n",
              "      border-right-color: var(--fill-color);\n",
              "    }\n",
              "    40% {\n",
              "      border-color: transparent;\n",
              "      border-right-color: var(--fill-color);\n",
              "      border-top-color: var(--fill-color);\n",
              "    }\n",
              "    60% {\n",
              "      border-color: transparent;\n",
              "      border-right-color: var(--fill-color);\n",
              "    }\n",
              "    80% {\n",
              "      border-color: transparent;\n",
              "      border-right-color: var(--fill-color);\n",
              "      border-bottom-color: var(--fill-color);\n",
              "    }\n",
              "    90% {\n",
              "      border-color: transparent;\n",
              "      border-bottom-color: var(--fill-color);\n",
              "    }\n",
              "  }\n",
              "</style>\n",
              "\n",
              "  <script>\n",
              "    async function quickchart(key) {\n",
              "      const quickchartButtonEl =\n",
              "        document.querySelector('#' + key + ' button');\n",
              "      quickchartButtonEl.disabled = true;  // To prevent multiple clicks.\n",
              "      quickchartButtonEl.classList.add('colab-df-spinner');\n",
              "      try {\n",
              "        const charts = await google.colab.kernel.invokeFunction(\n",
              "            'suggestCharts', [key], {});\n",
              "      } catch (error) {\n",
              "        console.error('Error during call to suggestCharts:', error);\n",
              "      }\n",
              "      quickchartButtonEl.classList.remove('colab-df-spinner');\n",
              "      quickchartButtonEl.classList.add('colab-df-quickchart-complete');\n",
              "    }\n",
              "    (() => {\n",
              "      let quickchartButtonEl =\n",
              "        document.querySelector('#df-99895ba0-94bb-40f6-9fa9-13ef83bdc339 button');\n",
              "      quickchartButtonEl.style.display =\n",
              "        google.colab.kernel.accessAllowed ? 'block' : 'none';\n",
              "    })();\n",
              "  </script>\n",
              "</div>\n",
              "    </div>\n",
              "  </div>\n"
            ],
            "application/vnd.google.colaboratory.intrinsic+json": {
              "type": "dataframe",
              "variable_name": "data_encoded"
            }
          },
          "metadata": {},
          "execution_count": 84
        }
      ]
    },
    {
      "cell_type": "markdown",
      "source": [
        "## Train test split"
      ],
      "metadata": {
        "id": "WzfvAembJMlK"
      }
    },
    {
      "cell_type": "code",
      "source": [
        "list(data_encoded.columns)"
      ],
      "metadata": {
        "colab": {
          "base_uri": "https://localhost:8080/"
        },
        "id": "g-R-K2OLVdiV",
        "outputId": "1c069fe9-c284-46e4-bdb9-ab24df97a597"
      },
      "execution_count": 85,
      "outputs": [
        {
          "output_type": "execute_result",
          "data": {
            "text/plain": [
              "['QUOTE_LOCATOR',\n",
              " 'Address',\n",
              " 'Model Year',\n",
              " 'Total Square Footage',\n",
              " 'ACV',\n",
              " 'RCV',\n",
              " 'Issued Flag',\n",
              " 'State_AR',\n",
              " 'State_AZ',\n",
              " 'State_GA',\n",
              " 'State_IL',\n",
              " 'State_IN',\n",
              " 'State_KS',\n",
              " 'State_MI',\n",
              " 'State_NM',\n",
              " 'State_OH',\n",
              " 'State_OK',\n",
              " 'State_SC',\n",
              " 'State_TN',\n",
              " 'State_TX',\n",
              " 'City_Albuquerque',\n",
              " 'City_Alger',\n",
              " 'City_Amado',\n",
              " 'City_Amarillo',\n",
              " 'City_Andrews',\n",
              " 'City_Apache Jct',\n",
              " 'City_Apache Junction',\n",
              " 'City_Atlanta',\n",
              " 'City_Auburn',\n",
              " 'City_Bayside',\n",
              " 'City_Baytown',\n",
              " 'City_Belleville',\n",
              " 'City_Benson',\n",
              " 'City_Big Rapids',\n",
              " 'City_Bishopville',\n",
              " 'City_Blanchard',\n",
              " 'City_Blythewood',\n",
              " 'City_Buckeye',\n",
              " 'City_Bullhead City',\n",
              " 'City_Burleson',\n",
              " 'City_Byron',\n",
              " 'City_Caldwell',\n",
              " 'City_Camp Verde',\n",
              " 'City_Canton',\n",
              " 'City_Canyon Lake',\n",
              " 'City_Capitan',\n",
              " 'City_Casa Grande',\n",
              " 'City_Castalian Springs',\n",
              " 'City_Center',\n",
              " 'City_Chandler',\n",
              " 'City_Chelsea',\n",
              " 'City_Chesaning',\n",
              " 'City_Chino Valley',\n",
              " 'City_Clyde',\n",
              " 'City_Columbia',\n",
              " 'City_Columbus',\n",
              " 'City_Coppell',\n",
              " 'City_Cornville',\n",
              " 'City_Cottonwood',\n",
              " 'City_Coweta',\n",
              " 'City_Cross',\n",
              " 'City_Dallas',\n",
              " 'City_Del Valle',\n",
              " 'City_Denton',\n",
              " 'City_Detroit',\n",
              " 'City_Dewey',\n",
              " 'City_Douglas',\n",
              " 'City_Dublin',\n",
              " 'City_Dyersburg',\n",
              " 'City_Earlville',\n",
              " 'City_El Mirage',\n",
              " 'City_Eldorado',\n",
              " 'City_Elgin',\n",
              " 'City_Flagstaff',\n",
              " 'City_Florence',\n",
              " 'City_Fortuna Foothills',\n",
              " 'City_Gaston',\n",
              " 'City_Gibraltar',\n",
              " 'City_Glendale',\n",
              " 'City_Golden Valley',\n",
              " 'City_Gosport',\n",
              " 'City_Grand Bay',\n",
              " 'City_Grand Prairie',\n",
              " 'City_Greeneville',\n",
              " 'City_Grove',\n",
              " 'City_Guymon',\n",
              " 'City_Hartford City',\n",
              " 'City_Hendrix',\n",
              " 'City_Hereford',\n",
              " 'City_Hersey',\n",
              " 'City_Hodgkins',\n",
              " 'City_Holbrook',\n",
              " 'City_Holladay',\n",
              " 'City_Holly Pond',\n",
              " 'City_Houston',\n",
              " 'City_Huachuca City',\n",
              " 'City_Huffman',\n",
              " 'City_Huntingdon',\n",
              " 'City_Indian Mound',\n",
              " 'City_Kearny',\n",
              " 'City_Kingman',\n",
              " 'City_La Feria',\n",
              " 'City_La Porte',\n",
              " 'City_La Vernia',\n",
              " 'City_Lake Ann',\n",
              " 'City_Lake Havasu City',\n",
              " 'City_Lakeside',\n",
              " 'City_Lapeer',\n",
              " 'City_Las Cruces',\n",
              " 'City_Las Vegas',\n",
              " 'City_Lawton',\n",
              " 'City_Linton',\n",
              " 'City_Litchfield Park',\n",
              " 'City_Little River',\n",
              " 'City_Logan',\n",
              " 'City_Louisville',\n",
              " 'City_Loveland',\n",
              " 'City_Lubbock',\n",
              " 'City_Lufkin',\n",
              " 'City_Luling',\n",
              " 'City_Mabank',\n",
              " 'City_Magnolia',\n",
              " 'City_Manning',\n",
              " 'City_Marana',\n",
              " 'City_Mauckport',\n",
              " 'City_Mayer',\n",
              " 'City_Meadview',\n",
              " 'City_Mercedes',\n",
              " 'City_Merkel',\n",
              " 'City_Mesa',\n",
              " 'City_Mission',\n",
              " 'City_Mohave Valley',\n",
              " 'City_Monterey',\n",
              " 'City_Montevallo',\n",
              " 'City_Montrose',\n",
              " 'City_Moores Hill',\n",
              " 'City_Mound City',\n",
              " 'City_Mount Enterprise',\n",
              " 'City_Mount Pleasant',\n",
              " 'City_Myrtle Beach',\n",
              " 'City_Navasota',\n",
              " 'City_New Braunfels',\n",
              " 'City_New Johnsonville',\n",
              " 'City_New River',\n",
              " 'City_Niles',\n",
              " 'City_Nutrioso',\n",
              " 'City_Odessa',\n",
              " 'City_Onalaska',\n",
              " 'City_Orange',\n",
              " 'City_Page',\n",
              " 'City_Parker',\n",
              " 'City_Pawhuska',\n",
              " 'City_Payson',\n",
              " 'City_Pearland',\n",
              " 'City_Peoria',\n",
              " 'City_Pharr',\n",
              " 'City_Phoenix',\n",
              " 'City_Pima',\n",
              " 'City_Pine',\n",
              " 'City_Plain City',\n",
              " 'City_Point Blank',\n",
              " 'City_Port Royal',\n",
              " 'City_Porter',\n",
              " 'City_Prescott',\n",
              " 'City_Prosperity',\n",
              " 'City_Quartzsite',\n",
              " 'City_Queen Valley',\n",
              " 'City_Quinlan',\n",
              " 'City_Ridgeville',\n",
              " 'City_Rock Island',\n",
              " 'City_Rogers',\n",
              " 'City_Roosevelt',\n",
              " 'City_Rosharon',\n",
              " 'City_Rushville',\n",
              " 'City_Rutherford',\n",
              " 'City_Safford',\n",
              " 'City_Saint Hedwig',\n",
              " 'City_San Angelo',\n",
              " 'City_San Antonio',\n",
              " 'City_San Luis',\n",
              " 'City_San Tan Valley',\n",
              " 'City_San Ygnacio',\n",
              " 'City_Sedona',\n",
              " 'City_Seguin',\n",
              " 'City_Sellersburg',\n",
              " 'City_Sherman',\n",
              " 'City_Show Low',\n",
              " 'City_Somerton',\n",
              " 'City_South Mountain',\n",
              " 'City_Springtown',\n",
              " 'City_Star Valley',\n",
              " 'City_Summerville',\n",
              " 'City_Sun City',\n",
              " 'City_Sun Lakes',\n",
              " 'City_Surprise',\n",
              " 'City_Sylacauga',\n",
              " 'City_Tempe',\n",
              " 'City_Thatcher',\n",
              " 'City_Timberon',\n",
              " 'City_Tipton',\n",
              " 'City_Tonopah',\n",
              " 'City_Tonto Basin',\n",
              " 'City_Travelers Rest',\n",
              " 'City_Tucson',\n",
              " 'City_Tulsa',\n",
              " 'City_Twin Lake',\n",
              " 'City_Vail',\n",
              " 'City_Victoria',\n",
              " 'City_Vinita',\n",
              " 'City_Von Ormy',\n",
              " 'City_Vonore',\n",
              " 'City_Wallis',\n",
              " 'City_Wellton',\n",
              " 'City_Whitewright',\n",
              " 'City_Wichita',\n",
              " 'City_Wichita Falls',\n",
              " 'City_Williams',\n",
              " 'City_Wills Point',\n",
              " 'City_Woodville',\n",
              " 'City_Wooster',\n",
              " 'City_Yucca',\n",
              " 'City_Yuma',\n",
              " 'Policy Usage_Rental',\n",
              " 'Policy Usage_Seasonal',\n",
              " 'Policy Usage_Tenant',\n",
              " 'Policy Usage_Vacant',\n",
              " 'Form_Broad',\n",
              " 'Form_Comprehensive',\n",
              " 'Form_Special',\n",
              " 'Home Type_Modular',\n",
              " 'Home Type_Park Model',\n",
              " 'Home Type_Single wide',\n",
              " 'Home Type_Stationary Travel Trailer',\n",
              " 'Home Type_Tiny Home',\n",
              " 'Home Type_Triple wide',\n",
              " 'Home Type_Unknown',\n",
              " 'Roof Shape_Flat',\n",
              " 'Roof Shape_Gable',\n",
              " 'Roof Shape_Hip',\n",
              " 'Roof Shape_Not Listed',\n",
              " 'Roof Condition_Fair',\n",
              " 'Roof Condition_Good',\n",
              " 'Roof Condition_Not Listed',\n",
              " 'Roof Condition_Poor',\n",
              " 'Roof Condition_Severe',\n",
              " 'Roof Condition_Unknown']"
            ]
          },
          "metadata": {},
          "execution_count": 85
        }
      ]
    },
    {
      "cell_type": "code",
      "source": [
        "X = data_encoded.drop(columns=['Address','QUOTE_LOCATOR','Issued Flag'],axis=1)\n",
        "X"
      ],
      "metadata": {
        "colab": {
          "base_uri": "https://localhost:8080/",
          "height": 478
        },
        "id": "HXyGDLkwWahg",
        "outputId": "110e93cc-86a8-4855-e8f1-1c8ce4535eaf"
      },
      "execution_count": 86,
      "outputs": [
        {
          "output_type": "execute_result",
          "data": {
            "text/plain": [
              "    Model Year  Total Square Footage    ACV     RCV  State_AR  State_AZ  \\\n",
              "0         1968                   780  17156   96138       0.0       1.0   \n",
              "1         2007                  1620  54370  135041       0.0       0.0   \n",
              "2         1986                   320   6418   45818       0.0       1.0   \n",
              "3         1985                  1296  21925  113826       0.0       1.0   \n",
              "4         1995                  1500  28834  154983       0.0       0.0   \n",
              "..         ...                   ...    ...     ...       ...       ...   \n",
              "585       2012                  1200  71859  148953       0.0       1.0   \n",
              "586       2007                   399  19663   68645       0.0       1.0   \n",
              "587       1994                  1568  22581  129416       0.0       0.0   \n",
              "588       2001                  1456  36212  124962       0.0       1.0   \n",
              "589       1983                  1440  25993  148025       0.0       1.0   \n",
              "\n",
              "     State_GA  State_IL  State_IN  State_KS  ...  Roof Shape_Flat  \\\n",
              "0         0.0       0.0       0.0       0.0  ...              1.0   \n",
              "1         0.0       0.0       1.0       0.0  ...              0.0   \n",
              "2         0.0       0.0       0.0       0.0  ...              0.0   \n",
              "3         0.0       0.0       0.0       0.0  ...              0.0   \n",
              "4         0.0       0.0       0.0       0.0  ...              0.0   \n",
              "..        ...       ...       ...       ...  ...              ...   \n",
              "585       0.0       0.0       0.0       0.0  ...              0.0   \n",
              "586       0.0       0.0       0.0       0.0  ...              0.0   \n",
              "587       0.0       0.0       0.0       0.0  ...              0.0   \n",
              "588       0.0       0.0       0.0       0.0  ...              0.0   \n",
              "589       0.0       0.0       0.0       0.0  ...              0.0   \n",
              "\n",
              "     Roof Shape_Gable  Roof Shape_Hip  Roof Shape_Not Listed  \\\n",
              "0                 0.0             0.0                    0.0   \n",
              "1                 1.0             0.0                    0.0   \n",
              "2                 1.0             0.0                    0.0   \n",
              "3                 1.0             0.0                    0.0   \n",
              "4                 1.0             0.0                    0.0   \n",
              "..                ...             ...                    ...   \n",
              "585               1.0             0.0                    0.0   \n",
              "586               1.0             0.0                    0.0   \n",
              "587               1.0             0.0                    0.0   \n",
              "588               1.0             0.0                    0.0   \n",
              "589               1.0             0.0                    0.0   \n",
              "\n",
              "     Roof Condition_Fair  Roof Condition_Good  Roof Condition_Not Listed  \\\n",
              "0                    1.0                  0.0                        0.0   \n",
              "1                    0.0                  0.0                        0.0   \n",
              "2                    0.0                  0.0                        0.0   \n",
              "3                    0.0                  0.0                        0.0   \n",
              "4                    0.0                  0.0                        0.0   \n",
              "..                   ...                  ...                        ...   \n",
              "585                  0.0                  1.0                        0.0   \n",
              "586                  0.0                  1.0                        0.0   \n",
              "587                  0.0                  0.0                        0.0   \n",
              "588                  1.0                  0.0                        0.0   \n",
              "589                  0.0                  1.0                        0.0   \n",
              "\n",
              "     Roof Condition_Poor  Roof Condition_Severe  Roof Condition_Unknown  \n",
              "0                    0.0                    0.0                     0.0  \n",
              "1                    0.0                    0.0                     1.0  \n",
              "2                    0.0                    0.0                     1.0  \n",
              "3                    0.0                    0.0                     1.0  \n",
              "4                    0.0                    0.0                     1.0  \n",
              "..                   ...                    ...                     ...  \n",
              "585                  0.0                    0.0                     0.0  \n",
              "586                  0.0                    0.0                     0.0  \n",
              "587                  1.0                    0.0                     0.0  \n",
              "588                  0.0                    0.0                     0.0  \n",
              "589                  0.0                    0.0                     0.0  \n",
              "\n",
              "[590 rows x 243 columns]"
            ],
            "text/html": [
              "\n",
              "  <div id=\"df-efc031d5-ac67-487f-843f-f778af66afa1\" class=\"colab-df-container\">\n",
              "    <div>\n",
              "<style scoped>\n",
              "    .dataframe tbody tr th:only-of-type {\n",
              "        vertical-align: middle;\n",
              "    }\n",
              "\n",
              "    .dataframe tbody tr th {\n",
              "        vertical-align: top;\n",
              "    }\n",
              "\n",
              "    .dataframe thead th {\n",
              "        text-align: right;\n",
              "    }\n",
              "</style>\n",
              "<table border=\"1\" class=\"dataframe\">\n",
              "  <thead>\n",
              "    <tr style=\"text-align: right;\">\n",
              "      <th></th>\n",
              "      <th>Model Year</th>\n",
              "      <th>Total Square Footage</th>\n",
              "      <th>ACV</th>\n",
              "      <th>RCV</th>\n",
              "      <th>State_AR</th>\n",
              "      <th>State_AZ</th>\n",
              "      <th>State_GA</th>\n",
              "      <th>State_IL</th>\n",
              "      <th>State_IN</th>\n",
              "      <th>State_KS</th>\n",
              "      <th>...</th>\n",
              "      <th>Roof Shape_Flat</th>\n",
              "      <th>Roof Shape_Gable</th>\n",
              "      <th>Roof Shape_Hip</th>\n",
              "      <th>Roof Shape_Not Listed</th>\n",
              "      <th>Roof Condition_Fair</th>\n",
              "      <th>Roof Condition_Good</th>\n",
              "      <th>Roof Condition_Not Listed</th>\n",
              "      <th>Roof Condition_Poor</th>\n",
              "      <th>Roof Condition_Severe</th>\n",
              "      <th>Roof Condition_Unknown</th>\n",
              "    </tr>\n",
              "  </thead>\n",
              "  <tbody>\n",
              "    <tr>\n",
              "      <th>0</th>\n",
              "      <td>1968</td>\n",
              "      <td>780</td>\n",
              "      <td>17156</td>\n",
              "      <td>96138</td>\n",
              "      <td>0.0</td>\n",
              "      <td>1.0</td>\n",
              "      <td>0.0</td>\n",
              "      <td>0.0</td>\n",
              "      <td>0.0</td>\n",
              "      <td>0.0</td>\n",
              "      <td>...</td>\n",
              "      <td>1.0</td>\n",
              "      <td>0.0</td>\n",
              "      <td>0.0</td>\n",
              "      <td>0.0</td>\n",
              "      <td>1.0</td>\n",
              "      <td>0.0</td>\n",
              "      <td>0.0</td>\n",
              "      <td>0.0</td>\n",
              "      <td>0.0</td>\n",
              "      <td>0.0</td>\n",
              "    </tr>\n",
              "    <tr>\n",
              "      <th>1</th>\n",
              "      <td>2007</td>\n",
              "      <td>1620</td>\n",
              "      <td>54370</td>\n",
              "      <td>135041</td>\n",
              "      <td>0.0</td>\n",
              "      <td>0.0</td>\n",
              "      <td>0.0</td>\n",
              "      <td>0.0</td>\n",
              "      <td>1.0</td>\n",
              "      <td>0.0</td>\n",
              "      <td>...</td>\n",
              "      <td>0.0</td>\n",
              "      <td>1.0</td>\n",
              "      <td>0.0</td>\n",
              "      <td>0.0</td>\n",
              "      <td>0.0</td>\n",
              "      <td>0.0</td>\n",
              "      <td>0.0</td>\n",
              "      <td>0.0</td>\n",
              "      <td>0.0</td>\n",
              "      <td>1.0</td>\n",
              "    </tr>\n",
              "    <tr>\n",
              "      <th>2</th>\n",
              "      <td>1986</td>\n",
              "      <td>320</td>\n",
              "      <td>6418</td>\n",
              "      <td>45818</td>\n",
              "      <td>0.0</td>\n",
              "      <td>1.0</td>\n",
              "      <td>0.0</td>\n",
              "      <td>0.0</td>\n",
              "      <td>0.0</td>\n",
              "      <td>0.0</td>\n",
              "      <td>...</td>\n",
              "      <td>0.0</td>\n",
              "      <td>1.0</td>\n",
              "      <td>0.0</td>\n",
              "      <td>0.0</td>\n",
              "      <td>0.0</td>\n",
              "      <td>0.0</td>\n",
              "      <td>0.0</td>\n",
              "      <td>0.0</td>\n",
              "      <td>0.0</td>\n",
              "      <td>1.0</td>\n",
              "    </tr>\n",
              "    <tr>\n",
              "      <th>3</th>\n",
              "      <td>1985</td>\n",
              "      <td>1296</td>\n",
              "      <td>21925</td>\n",
              "      <td>113826</td>\n",
              "      <td>0.0</td>\n",
              "      <td>1.0</td>\n",
              "      <td>0.0</td>\n",
              "      <td>0.0</td>\n",
              "      <td>0.0</td>\n",
              "      <td>0.0</td>\n",
              "      <td>...</td>\n",
              "      <td>0.0</td>\n",
              "      <td>1.0</td>\n",
              "      <td>0.0</td>\n",
              "      <td>0.0</td>\n",
              "      <td>0.0</td>\n",
              "      <td>0.0</td>\n",
              "      <td>0.0</td>\n",
              "      <td>0.0</td>\n",
              "      <td>0.0</td>\n",
              "      <td>1.0</td>\n",
              "    </tr>\n",
              "    <tr>\n",
              "      <th>4</th>\n",
              "      <td>1995</td>\n",
              "      <td>1500</td>\n",
              "      <td>28834</td>\n",
              "      <td>154983</td>\n",
              "      <td>0.0</td>\n",
              "      <td>0.0</td>\n",
              "      <td>0.0</td>\n",
              "      <td>0.0</td>\n",
              "      <td>0.0</td>\n",
              "      <td>0.0</td>\n",
              "      <td>...</td>\n",
              "      <td>0.0</td>\n",
              "      <td>1.0</td>\n",
              "      <td>0.0</td>\n",
              "      <td>0.0</td>\n",
              "      <td>0.0</td>\n",
              "      <td>0.0</td>\n",
              "      <td>0.0</td>\n",
              "      <td>0.0</td>\n",
              "      <td>0.0</td>\n",
              "      <td>1.0</td>\n",
              "    </tr>\n",
              "    <tr>\n",
              "      <th>...</th>\n",
              "      <td>...</td>\n",
              "      <td>...</td>\n",
              "      <td>...</td>\n",
              "      <td>...</td>\n",
              "      <td>...</td>\n",
              "      <td>...</td>\n",
              "      <td>...</td>\n",
              "      <td>...</td>\n",
              "      <td>...</td>\n",
              "      <td>...</td>\n",
              "      <td>...</td>\n",
              "      <td>...</td>\n",
              "      <td>...</td>\n",
              "      <td>...</td>\n",
              "      <td>...</td>\n",
              "      <td>...</td>\n",
              "      <td>...</td>\n",
              "      <td>...</td>\n",
              "      <td>...</td>\n",
              "      <td>...</td>\n",
              "      <td>...</td>\n",
              "    </tr>\n",
              "    <tr>\n",
              "      <th>585</th>\n",
              "      <td>2012</td>\n",
              "      <td>1200</td>\n",
              "      <td>71859</td>\n",
              "      <td>148953</td>\n",
              "      <td>0.0</td>\n",
              "      <td>1.0</td>\n",
              "      <td>0.0</td>\n",
              "      <td>0.0</td>\n",
              "      <td>0.0</td>\n",
              "      <td>0.0</td>\n",
              "      <td>...</td>\n",
              "      <td>0.0</td>\n",
              "      <td>1.0</td>\n",
              "      <td>0.0</td>\n",
              "      <td>0.0</td>\n",
              "      <td>0.0</td>\n",
              "      <td>1.0</td>\n",
              "      <td>0.0</td>\n",
              "      <td>0.0</td>\n",
              "      <td>0.0</td>\n",
              "      <td>0.0</td>\n",
              "    </tr>\n",
              "    <tr>\n",
              "      <th>586</th>\n",
              "      <td>2007</td>\n",
              "      <td>399</td>\n",
              "      <td>19663</td>\n",
              "      <td>68645</td>\n",
              "      <td>0.0</td>\n",
              "      <td>1.0</td>\n",
              "      <td>0.0</td>\n",
              "      <td>0.0</td>\n",
              "      <td>0.0</td>\n",
              "      <td>0.0</td>\n",
              "      <td>...</td>\n",
              "      <td>0.0</td>\n",
              "      <td>1.0</td>\n",
              "      <td>0.0</td>\n",
              "      <td>0.0</td>\n",
              "      <td>0.0</td>\n",
              "      <td>1.0</td>\n",
              "      <td>0.0</td>\n",
              "      <td>0.0</td>\n",
              "      <td>0.0</td>\n",
              "      <td>0.0</td>\n",
              "    </tr>\n",
              "    <tr>\n",
              "      <th>587</th>\n",
              "      <td>1994</td>\n",
              "      <td>1568</td>\n",
              "      <td>22581</td>\n",
              "      <td>129416</td>\n",
              "      <td>0.0</td>\n",
              "      <td>0.0</td>\n",
              "      <td>0.0</td>\n",
              "      <td>0.0</td>\n",
              "      <td>0.0</td>\n",
              "      <td>0.0</td>\n",
              "      <td>...</td>\n",
              "      <td>0.0</td>\n",
              "      <td>1.0</td>\n",
              "      <td>0.0</td>\n",
              "      <td>0.0</td>\n",
              "      <td>0.0</td>\n",
              "      <td>0.0</td>\n",
              "      <td>0.0</td>\n",
              "      <td>1.0</td>\n",
              "      <td>0.0</td>\n",
              "      <td>0.0</td>\n",
              "    </tr>\n",
              "    <tr>\n",
              "      <th>588</th>\n",
              "      <td>2001</td>\n",
              "      <td>1456</td>\n",
              "      <td>36212</td>\n",
              "      <td>124962</td>\n",
              "      <td>0.0</td>\n",
              "      <td>1.0</td>\n",
              "      <td>0.0</td>\n",
              "      <td>0.0</td>\n",
              "      <td>0.0</td>\n",
              "      <td>0.0</td>\n",
              "      <td>...</td>\n",
              "      <td>0.0</td>\n",
              "      <td>1.0</td>\n",
              "      <td>0.0</td>\n",
              "      <td>0.0</td>\n",
              "      <td>1.0</td>\n",
              "      <td>0.0</td>\n",
              "      <td>0.0</td>\n",
              "      <td>0.0</td>\n",
              "      <td>0.0</td>\n",
              "      <td>0.0</td>\n",
              "    </tr>\n",
              "    <tr>\n",
              "      <th>589</th>\n",
              "      <td>1983</td>\n",
              "      <td>1440</td>\n",
              "      <td>25993</td>\n",
              "      <td>148025</td>\n",
              "      <td>0.0</td>\n",
              "      <td>1.0</td>\n",
              "      <td>0.0</td>\n",
              "      <td>0.0</td>\n",
              "      <td>0.0</td>\n",
              "      <td>0.0</td>\n",
              "      <td>...</td>\n",
              "      <td>0.0</td>\n",
              "      <td>1.0</td>\n",
              "      <td>0.0</td>\n",
              "      <td>0.0</td>\n",
              "      <td>0.0</td>\n",
              "      <td>1.0</td>\n",
              "      <td>0.0</td>\n",
              "      <td>0.0</td>\n",
              "      <td>0.0</td>\n",
              "      <td>0.0</td>\n",
              "    </tr>\n",
              "  </tbody>\n",
              "</table>\n",
              "<p>590 rows × 243 columns</p>\n",
              "</div>\n",
              "    <div class=\"colab-df-buttons\">\n",
              "\n",
              "  <div class=\"colab-df-container\">\n",
              "    <button class=\"colab-df-convert\" onclick=\"convertToInteractive('df-efc031d5-ac67-487f-843f-f778af66afa1')\"\n",
              "            title=\"Convert this dataframe to an interactive table.\"\n",
              "            style=\"display:none;\">\n",
              "\n",
              "  <svg xmlns=\"http://www.w3.org/2000/svg\" height=\"24px\" viewBox=\"0 -960 960 960\">\n",
              "    <path d=\"M120-120v-720h720v720H120Zm60-500h600v-160H180v160Zm220 220h160v-160H400v160Zm0 220h160v-160H400v160ZM180-400h160v-160H180v160Zm440 0h160v-160H620v160ZM180-180h160v-160H180v160Zm440 0h160v-160H620v160Z\"/>\n",
              "  </svg>\n",
              "    </button>\n",
              "\n",
              "  <style>\n",
              "    .colab-df-container {\n",
              "      display:flex;\n",
              "      gap: 12px;\n",
              "    }\n",
              "\n",
              "    .colab-df-convert {\n",
              "      background-color: #E8F0FE;\n",
              "      border: none;\n",
              "      border-radius: 50%;\n",
              "      cursor: pointer;\n",
              "      display: none;\n",
              "      fill: #1967D2;\n",
              "      height: 32px;\n",
              "      padding: 0 0 0 0;\n",
              "      width: 32px;\n",
              "    }\n",
              "\n",
              "    .colab-df-convert:hover {\n",
              "      background-color: #E2EBFA;\n",
              "      box-shadow: 0px 1px 2px rgba(60, 64, 67, 0.3), 0px 1px 3px 1px rgba(60, 64, 67, 0.15);\n",
              "      fill: #174EA6;\n",
              "    }\n",
              "\n",
              "    .colab-df-buttons div {\n",
              "      margin-bottom: 4px;\n",
              "    }\n",
              "\n",
              "    [theme=dark] .colab-df-convert {\n",
              "      background-color: #3B4455;\n",
              "      fill: #D2E3FC;\n",
              "    }\n",
              "\n",
              "    [theme=dark] .colab-df-convert:hover {\n",
              "      background-color: #434B5C;\n",
              "      box-shadow: 0px 1px 3px 1px rgba(0, 0, 0, 0.15);\n",
              "      filter: drop-shadow(0px 1px 2px rgba(0, 0, 0, 0.3));\n",
              "      fill: #FFFFFF;\n",
              "    }\n",
              "  </style>\n",
              "\n",
              "    <script>\n",
              "      const buttonEl =\n",
              "        document.querySelector('#df-efc031d5-ac67-487f-843f-f778af66afa1 button.colab-df-convert');\n",
              "      buttonEl.style.display =\n",
              "        google.colab.kernel.accessAllowed ? 'block' : 'none';\n",
              "\n",
              "      async function convertToInteractive(key) {\n",
              "        const element = document.querySelector('#df-efc031d5-ac67-487f-843f-f778af66afa1');\n",
              "        const dataTable =\n",
              "          await google.colab.kernel.invokeFunction('convertToInteractive',\n",
              "                                                    [key], {});\n",
              "        if (!dataTable) return;\n",
              "\n",
              "        const docLinkHtml = 'Like what you see? Visit the ' +\n",
              "          '<a target=\"_blank\" href=https://colab.research.google.com/notebooks/data_table.ipynb>data table notebook</a>'\n",
              "          + ' to learn more about interactive tables.';\n",
              "        element.innerHTML = '';\n",
              "        dataTable['output_type'] = 'display_data';\n",
              "        await google.colab.output.renderOutput(dataTable, element);\n",
              "        const docLink = document.createElement('div');\n",
              "        docLink.innerHTML = docLinkHtml;\n",
              "        element.appendChild(docLink);\n",
              "      }\n",
              "    </script>\n",
              "  </div>\n",
              "\n",
              "\n",
              "<div id=\"df-944c6cb0-604e-4892-9fdc-b7ce2c01e82d\">\n",
              "  <button class=\"colab-df-quickchart\" onclick=\"quickchart('df-944c6cb0-604e-4892-9fdc-b7ce2c01e82d')\"\n",
              "            title=\"Suggest charts\"\n",
              "            style=\"display:none;\">\n",
              "\n",
              "<svg xmlns=\"http://www.w3.org/2000/svg\" height=\"24px\"viewBox=\"0 0 24 24\"\n",
              "     width=\"24px\">\n",
              "    <g>\n",
              "        <path d=\"M19 3H5c-1.1 0-2 .9-2 2v14c0 1.1.9 2 2 2h14c1.1 0 2-.9 2-2V5c0-1.1-.9-2-2-2zM9 17H7v-7h2v7zm4 0h-2V7h2v10zm4 0h-2v-4h2v4z\"/>\n",
              "    </g>\n",
              "</svg>\n",
              "  </button>\n",
              "\n",
              "<style>\n",
              "  .colab-df-quickchart {\n",
              "      --bg-color: #E8F0FE;\n",
              "      --fill-color: #1967D2;\n",
              "      --hover-bg-color: #E2EBFA;\n",
              "      --hover-fill-color: #174EA6;\n",
              "      --disabled-fill-color: #AAA;\n",
              "      --disabled-bg-color: #DDD;\n",
              "  }\n",
              "\n",
              "  [theme=dark] .colab-df-quickchart {\n",
              "      --bg-color: #3B4455;\n",
              "      --fill-color: #D2E3FC;\n",
              "      --hover-bg-color: #434B5C;\n",
              "      --hover-fill-color: #FFFFFF;\n",
              "      --disabled-bg-color: #3B4455;\n",
              "      --disabled-fill-color: #666;\n",
              "  }\n",
              "\n",
              "  .colab-df-quickchart {\n",
              "    background-color: var(--bg-color);\n",
              "    border: none;\n",
              "    border-radius: 50%;\n",
              "    cursor: pointer;\n",
              "    display: none;\n",
              "    fill: var(--fill-color);\n",
              "    height: 32px;\n",
              "    padding: 0;\n",
              "    width: 32px;\n",
              "  }\n",
              "\n",
              "  .colab-df-quickchart:hover {\n",
              "    background-color: var(--hover-bg-color);\n",
              "    box-shadow: 0 1px 2px rgba(60, 64, 67, 0.3), 0 1px 3px 1px rgba(60, 64, 67, 0.15);\n",
              "    fill: var(--button-hover-fill-color);\n",
              "  }\n",
              "\n",
              "  .colab-df-quickchart-complete:disabled,\n",
              "  .colab-df-quickchart-complete:disabled:hover {\n",
              "    background-color: var(--disabled-bg-color);\n",
              "    fill: var(--disabled-fill-color);\n",
              "    box-shadow: none;\n",
              "  }\n",
              "\n",
              "  .colab-df-spinner {\n",
              "    border: 2px solid var(--fill-color);\n",
              "    border-color: transparent;\n",
              "    border-bottom-color: var(--fill-color);\n",
              "    animation:\n",
              "      spin 1s steps(1) infinite;\n",
              "  }\n",
              "\n",
              "  @keyframes spin {\n",
              "    0% {\n",
              "      border-color: transparent;\n",
              "      border-bottom-color: var(--fill-color);\n",
              "      border-left-color: var(--fill-color);\n",
              "    }\n",
              "    20% {\n",
              "      border-color: transparent;\n",
              "      border-left-color: var(--fill-color);\n",
              "      border-top-color: var(--fill-color);\n",
              "    }\n",
              "    30% {\n",
              "      border-color: transparent;\n",
              "      border-left-color: var(--fill-color);\n",
              "      border-top-color: var(--fill-color);\n",
              "      border-right-color: var(--fill-color);\n",
              "    }\n",
              "    40% {\n",
              "      border-color: transparent;\n",
              "      border-right-color: var(--fill-color);\n",
              "      border-top-color: var(--fill-color);\n",
              "    }\n",
              "    60% {\n",
              "      border-color: transparent;\n",
              "      border-right-color: var(--fill-color);\n",
              "    }\n",
              "    80% {\n",
              "      border-color: transparent;\n",
              "      border-right-color: var(--fill-color);\n",
              "      border-bottom-color: var(--fill-color);\n",
              "    }\n",
              "    90% {\n",
              "      border-color: transparent;\n",
              "      border-bottom-color: var(--fill-color);\n",
              "    }\n",
              "  }\n",
              "</style>\n",
              "\n",
              "  <script>\n",
              "    async function quickchart(key) {\n",
              "      const quickchartButtonEl =\n",
              "        document.querySelector('#' + key + ' button');\n",
              "      quickchartButtonEl.disabled = true;  // To prevent multiple clicks.\n",
              "      quickchartButtonEl.classList.add('colab-df-spinner');\n",
              "      try {\n",
              "        const charts = await google.colab.kernel.invokeFunction(\n",
              "            'suggestCharts', [key], {});\n",
              "      } catch (error) {\n",
              "        console.error('Error during call to suggestCharts:', error);\n",
              "      }\n",
              "      quickchartButtonEl.classList.remove('colab-df-spinner');\n",
              "      quickchartButtonEl.classList.add('colab-df-quickchart-complete');\n",
              "    }\n",
              "    (() => {\n",
              "      let quickchartButtonEl =\n",
              "        document.querySelector('#df-944c6cb0-604e-4892-9fdc-b7ce2c01e82d button');\n",
              "      quickchartButtonEl.style.display =\n",
              "        google.colab.kernel.accessAllowed ? 'block' : 'none';\n",
              "    })();\n",
              "  </script>\n",
              "</div>\n",
              "    </div>\n",
              "  </div>\n"
            ],
            "application/vnd.google.colaboratory.intrinsic+json": {
              "type": "dataframe",
              "variable_name": "X"
            }
          },
          "metadata": {},
          "execution_count": 86
        }
      ]
    },
    {
      "cell_type": "code",
      "source": [
        "y = data_encoded['Issued Flag']\n",
        "y"
      ],
      "metadata": {
        "colab": {
          "base_uri": "https://localhost:8080/"
        },
        "id": "tNpie8YvL9mB",
        "outputId": "55fea7ed-34f4-42b3-f3af-abf75fb50d98"
      },
      "execution_count": 87,
      "outputs": [
        {
          "output_type": "execute_result",
          "data": {
            "text/plain": [
              "0      1\n",
              "1      0\n",
              "2      1\n",
              "3      0\n",
              "4      0\n",
              "      ..\n",
              "585    0\n",
              "586    0\n",
              "587    0\n",
              "588    0\n",
              "589    0\n",
              "Name: Issued Flag, Length: 590, dtype: int64"
            ]
          },
          "metadata": {},
          "execution_count": 87
        }
      ]
    },
    {
      "cell_type": "code",
      "source": [
        "y"
      ],
      "metadata": {
        "colab": {
          "base_uri": "https://localhost:8080/"
        },
        "id": "AoSmUBcpMA1R",
        "outputId": "a042bfb7-c2c0-4ed4-d239-2ae4a886d4c5"
      },
      "execution_count": 88,
      "outputs": [
        {
          "output_type": "execute_result",
          "data": {
            "text/plain": [
              "0      1\n",
              "1      0\n",
              "2      1\n",
              "3      0\n",
              "4      0\n",
              "      ..\n",
              "585    0\n",
              "586    0\n",
              "587    0\n",
              "588    0\n",
              "589    0\n",
              "Name: Issued Flag, Length: 590, dtype: int64"
            ]
          },
          "metadata": {},
          "execution_count": 88
        }
      ]
    },
    {
      "cell_type": "code",
      "source": [
        "#from sklearn.model_selection import train_test_split\n",
        "X_train, X_test, y_train, y_test = train_test_split(X, y, test_size=0.3, random_state=100)"
      ],
      "metadata": {
        "id": "INWAbPkHE9Ls"
      },
      "execution_count": 89,
      "outputs": []
    },
    {
      "cell_type": "code",
      "source": [
        "X_train"
      ],
      "metadata": {
        "colab": {
          "base_uri": "https://localhost:8080/",
          "height": 478
        },
        "id": "30q4HQ1cGH9H",
        "outputId": "b947313a-926b-48f9-a5f8-e01ed7bbd5b2"
      },
      "execution_count": 90,
      "outputs": [
        {
          "output_type": "execute_result",
          "data": {
            "text/plain": [
              "    Model Year  Total Square Footage    ACV     RCV  State_AR  State_AZ  \\\n",
              "335       2022                   480  30797   42600       0.0       0.0   \n",
              "43        2006                  1100  51063  136728       0.0       1.0   \n",
              "320       1997                  1456  27399  126161       0.0       0.0   \n",
              "47        1996                  1280  23168  129219       0.0       0.0   \n",
              "203       2021                   396  33014   68619       0.0       1.0   \n",
              "..         ...                   ...    ...     ...       ...       ...   \n",
              "578       2016                  1152  47567   92655       0.0       0.0   \n",
              "53        2004                  1752  62160  183706       0.0       1.0   \n",
              "350       2004                  1980  56437  167304       0.0       0.0   \n",
              "79        1981                   980  15058   82743       0.0       0.0   \n",
              "520       1996                  2128  39103  242662       0.0       0.0   \n",
              "\n",
              "     State_GA  State_IL  State_IN  State_KS  ...  Roof Shape_Flat  \\\n",
              "335       0.0       0.0       0.0       0.0  ...              0.0   \n",
              "43        0.0       0.0       0.0       0.0  ...              0.0   \n",
              "320       0.0       0.0       0.0       0.0  ...              0.0   \n",
              "47        0.0       0.0       1.0       0.0  ...              0.0   \n",
              "203       0.0       0.0       0.0       0.0  ...              0.0   \n",
              "..        ...       ...       ...       ...  ...              ...   \n",
              "578       0.0       0.0       0.0       0.0  ...              0.0   \n",
              "53        0.0       0.0       0.0       0.0  ...              0.0   \n",
              "350       0.0       0.0       0.0       0.0  ...              0.0   \n",
              "79        0.0       0.0       0.0       0.0  ...              0.0   \n",
              "520       0.0       0.0       0.0       0.0  ...              0.0   \n",
              "\n",
              "     Roof Shape_Gable  Roof Shape_Hip  Roof Shape_Not Listed  \\\n",
              "335               1.0             0.0                    0.0   \n",
              "43                1.0             0.0                    0.0   \n",
              "320               1.0             0.0                    0.0   \n",
              "47                1.0             0.0                    0.0   \n",
              "203               1.0             0.0                    0.0   \n",
              "..                ...             ...                    ...   \n",
              "578               1.0             0.0                    0.0   \n",
              "53                1.0             0.0                    0.0   \n",
              "350               1.0             0.0                    0.0   \n",
              "79                1.0             0.0                    0.0   \n",
              "520               1.0             0.0                    0.0   \n",
              "\n",
              "     Roof Condition_Fair  Roof Condition_Good  Roof Condition_Not Listed  \\\n",
              "335                  0.0                  0.0                        0.0   \n",
              "43                   0.0                  1.0                        0.0   \n",
              "320                  0.0                  0.0                        0.0   \n",
              "47                   0.0                  0.0                        0.0   \n",
              "203                  0.0                  0.0                        0.0   \n",
              "..                   ...                  ...                        ...   \n",
              "578                  0.0                  1.0                        0.0   \n",
              "53                   1.0                  0.0                        0.0   \n",
              "350                  0.0                  0.0                        0.0   \n",
              "79                   0.0                  0.0                        0.0   \n",
              "520                  0.0                  0.0                        0.0   \n",
              "\n",
              "     Roof Condition_Poor  Roof Condition_Severe  Roof Condition_Unknown  \n",
              "335                  0.0                    0.0                     1.0  \n",
              "43                   0.0                    0.0                     0.0  \n",
              "320                  0.0                    0.0                     1.0  \n",
              "47                   0.0                    0.0                     1.0  \n",
              "203                  0.0                    0.0                     1.0  \n",
              "..                   ...                    ...                     ...  \n",
              "578                  0.0                    0.0                     0.0  \n",
              "53                   0.0                    0.0                     0.0  \n",
              "350                  0.0                    0.0                     1.0  \n",
              "79                   0.0                    0.0                     1.0  \n",
              "520                  0.0                    0.0                     1.0  \n",
              "\n",
              "[413 rows x 243 columns]"
            ],
            "text/html": [
              "\n",
              "  <div id=\"df-9f6d24ac-065d-4179-8d68-a0fce6c9d8b5\" class=\"colab-df-container\">\n",
              "    <div>\n",
              "<style scoped>\n",
              "    .dataframe tbody tr th:only-of-type {\n",
              "        vertical-align: middle;\n",
              "    }\n",
              "\n",
              "    .dataframe tbody tr th {\n",
              "        vertical-align: top;\n",
              "    }\n",
              "\n",
              "    .dataframe thead th {\n",
              "        text-align: right;\n",
              "    }\n",
              "</style>\n",
              "<table border=\"1\" class=\"dataframe\">\n",
              "  <thead>\n",
              "    <tr style=\"text-align: right;\">\n",
              "      <th></th>\n",
              "      <th>Model Year</th>\n",
              "      <th>Total Square Footage</th>\n",
              "      <th>ACV</th>\n",
              "      <th>RCV</th>\n",
              "      <th>State_AR</th>\n",
              "      <th>State_AZ</th>\n",
              "      <th>State_GA</th>\n",
              "      <th>State_IL</th>\n",
              "      <th>State_IN</th>\n",
              "      <th>State_KS</th>\n",
              "      <th>...</th>\n",
              "      <th>Roof Shape_Flat</th>\n",
              "      <th>Roof Shape_Gable</th>\n",
              "      <th>Roof Shape_Hip</th>\n",
              "      <th>Roof Shape_Not Listed</th>\n",
              "      <th>Roof Condition_Fair</th>\n",
              "      <th>Roof Condition_Good</th>\n",
              "      <th>Roof Condition_Not Listed</th>\n",
              "      <th>Roof Condition_Poor</th>\n",
              "      <th>Roof Condition_Severe</th>\n",
              "      <th>Roof Condition_Unknown</th>\n",
              "    </tr>\n",
              "  </thead>\n",
              "  <tbody>\n",
              "    <tr>\n",
              "      <th>335</th>\n",
              "      <td>2022</td>\n",
              "      <td>480</td>\n",
              "      <td>30797</td>\n",
              "      <td>42600</td>\n",
              "      <td>0.0</td>\n",
              "      <td>0.0</td>\n",
              "      <td>0.0</td>\n",
              "      <td>0.0</td>\n",
              "      <td>0.0</td>\n",
              "      <td>0.0</td>\n",
              "      <td>...</td>\n",
              "      <td>0.0</td>\n",
              "      <td>1.0</td>\n",
              "      <td>0.0</td>\n",
              "      <td>0.0</td>\n",
              "      <td>0.0</td>\n",
              "      <td>0.0</td>\n",
              "      <td>0.0</td>\n",
              "      <td>0.0</td>\n",
              "      <td>0.0</td>\n",
              "      <td>1.0</td>\n",
              "    </tr>\n",
              "    <tr>\n",
              "      <th>43</th>\n",
              "      <td>2006</td>\n",
              "      <td>1100</td>\n",
              "      <td>51063</td>\n",
              "      <td>136728</td>\n",
              "      <td>0.0</td>\n",
              "      <td>1.0</td>\n",
              "      <td>0.0</td>\n",
              "      <td>0.0</td>\n",
              "      <td>0.0</td>\n",
              "      <td>0.0</td>\n",
              "      <td>...</td>\n",
              "      <td>0.0</td>\n",
              "      <td>1.0</td>\n",
              "      <td>0.0</td>\n",
              "      <td>0.0</td>\n",
              "      <td>0.0</td>\n",
              "      <td>1.0</td>\n",
              "      <td>0.0</td>\n",
              "      <td>0.0</td>\n",
              "      <td>0.0</td>\n",
              "      <td>0.0</td>\n",
              "    </tr>\n",
              "    <tr>\n",
              "      <th>320</th>\n",
              "      <td>1997</td>\n",
              "      <td>1456</td>\n",
              "      <td>27399</td>\n",
              "      <td>126161</td>\n",
              "      <td>0.0</td>\n",
              "      <td>0.0</td>\n",
              "      <td>0.0</td>\n",
              "      <td>0.0</td>\n",
              "      <td>0.0</td>\n",
              "      <td>0.0</td>\n",
              "      <td>...</td>\n",
              "      <td>0.0</td>\n",
              "      <td>1.0</td>\n",
              "      <td>0.0</td>\n",
              "      <td>0.0</td>\n",
              "      <td>0.0</td>\n",
              "      <td>0.0</td>\n",
              "      <td>0.0</td>\n",
              "      <td>0.0</td>\n",
              "      <td>0.0</td>\n",
              "      <td>1.0</td>\n",
              "    </tr>\n",
              "    <tr>\n",
              "      <th>47</th>\n",
              "      <td>1996</td>\n",
              "      <td>1280</td>\n",
              "      <td>23168</td>\n",
              "      <td>129219</td>\n",
              "      <td>0.0</td>\n",
              "      <td>0.0</td>\n",
              "      <td>0.0</td>\n",
              "      <td>0.0</td>\n",
              "      <td>1.0</td>\n",
              "      <td>0.0</td>\n",
              "      <td>...</td>\n",
              "      <td>0.0</td>\n",
              "      <td>1.0</td>\n",
              "      <td>0.0</td>\n",
              "      <td>0.0</td>\n",
              "      <td>0.0</td>\n",
              "      <td>0.0</td>\n",
              "      <td>0.0</td>\n",
              "      <td>0.0</td>\n",
              "      <td>0.0</td>\n",
              "      <td>1.0</td>\n",
              "    </tr>\n",
              "    <tr>\n",
              "      <th>203</th>\n",
              "      <td>2021</td>\n",
              "      <td>396</td>\n",
              "      <td>33014</td>\n",
              "      <td>68619</td>\n",
              "      <td>0.0</td>\n",
              "      <td>1.0</td>\n",
              "      <td>0.0</td>\n",
              "      <td>0.0</td>\n",
              "      <td>0.0</td>\n",
              "      <td>0.0</td>\n",
              "      <td>...</td>\n",
              "      <td>0.0</td>\n",
              "      <td>1.0</td>\n",
              "      <td>0.0</td>\n",
              "      <td>0.0</td>\n",
              "      <td>0.0</td>\n",
              "      <td>0.0</td>\n",
              "      <td>0.0</td>\n",
              "      <td>0.0</td>\n",
              "      <td>0.0</td>\n",
              "      <td>1.0</td>\n",
              "    </tr>\n",
              "    <tr>\n",
              "      <th>...</th>\n",
              "      <td>...</td>\n",
              "      <td>...</td>\n",
              "      <td>...</td>\n",
              "      <td>...</td>\n",
              "      <td>...</td>\n",
              "      <td>...</td>\n",
              "      <td>...</td>\n",
              "      <td>...</td>\n",
              "      <td>...</td>\n",
              "      <td>...</td>\n",
              "      <td>...</td>\n",
              "      <td>...</td>\n",
              "      <td>...</td>\n",
              "      <td>...</td>\n",
              "      <td>...</td>\n",
              "      <td>...</td>\n",
              "      <td>...</td>\n",
              "      <td>...</td>\n",
              "      <td>...</td>\n",
              "      <td>...</td>\n",
              "      <td>...</td>\n",
              "    </tr>\n",
              "    <tr>\n",
              "      <th>578</th>\n",
              "      <td>2016</td>\n",
              "      <td>1152</td>\n",
              "      <td>47567</td>\n",
              "      <td>92655</td>\n",
              "      <td>0.0</td>\n",
              "      <td>0.0</td>\n",
              "      <td>0.0</td>\n",
              "      <td>0.0</td>\n",
              "      <td>0.0</td>\n",
              "      <td>0.0</td>\n",
              "      <td>...</td>\n",
              "      <td>0.0</td>\n",
              "      <td>1.0</td>\n",
              "      <td>0.0</td>\n",
              "      <td>0.0</td>\n",
              "      <td>0.0</td>\n",
              "      <td>1.0</td>\n",
              "      <td>0.0</td>\n",
              "      <td>0.0</td>\n",
              "      <td>0.0</td>\n",
              "      <td>0.0</td>\n",
              "    </tr>\n",
              "    <tr>\n",
              "      <th>53</th>\n",
              "      <td>2004</td>\n",
              "      <td>1752</td>\n",
              "      <td>62160</td>\n",
              "      <td>183706</td>\n",
              "      <td>0.0</td>\n",
              "      <td>1.0</td>\n",
              "      <td>0.0</td>\n",
              "      <td>0.0</td>\n",
              "      <td>0.0</td>\n",
              "      <td>0.0</td>\n",
              "      <td>...</td>\n",
              "      <td>0.0</td>\n",
              "      <td>1.0</td>\n",
              "      <td>0.0</td>\n",
              "      <td>0.0</td>\n",
              "      <td>1.0</td>\n",
              "      <td>0.0</td>\n",
              "      <td>0.0</td>\n",
              "      <td>0.0</td>\n",
              "      <td>0.0</td>\n",
              "      <td>0.0</td>\n",
              "    </tr>\n",
              "    <tr>\n",
              "      <th>350</th>\n",
              "      <td>2004</td>\n",
              "      <td>1980</td>\n",
              "      <td>56437</td>\n",
              "      <td>167304</td>\n",
              "      <td>0.0</td>\n",
              "      <td>0.0</td>\n",
              "      <td>0.0</td>\n",
              "      <td>0.0</td>\n",
              "      <td>0.0</td>\n",
              "      <td>0.0</td>\n",
              "      <td>...</td>\n",
              "      <td>0.0</td>\n",
              "      <td>1.0</td>\n",
              "      <td>0.0</td>\n",
              "      <td>0.0</td>\n",
              "      <td>0.0</td>\n",
              "      <td>0.0</td>\n",
              "      <td>0.0</td>\n",
              "      <td>0.0</td>\n",
              "      <td>0.0</td>\n",
              "      <td>1.0</td>\n",
              "    </tr>\n",
              "    <tr>\n",
              "      <th>79</th>\n",
              "      <td>1981</td>\n",
              "      <td>980</td>\n",
              "      <td>15058</td>\n",
              "      <td>82743</td>\n",
              "      <td>0.0</td>\n",
              "      <td>0.0</td>\n",
              "      <td>0.0</td>\n",
              "      <td>0.0</td>\n",
              "      <td>0.0</td>\n",
              "      <td>0.0</td>\n",
              "      <td>...</td>\n",
              "      <td>0.0</td>\n",
              "      <td>1.0</td>\n",
              "      <td>0.0</td>\n",
              "      <td>0.0</td>\n",
              "      <td>0.0</td>\n",
              "      <td>0.0</td>\n",
              "      <td>0.0</td>\n",
              "      <td>0.0</td>\n",
              "      <td>0.0</td>\n",
              "      <td>1.0</td>\n",
              "    </tr>\n",
              "    <tr>\n",
              "      <th>520</th>\n",
              "      <td>1996</td>\n",
              "      <td>2128</td>\n",
              "      <td>39103</td>\n",
              "      <td>242662</td>\n",
              "      <td>0.0</td>\n",
              "      <td>0.0</td>\n",
              "      <td>0.0</td>\n",
              "      <td>0.0</td>\n",
              "      <td>0.0</td>\n",
              "      <td>0.0</td>\n",
              "      <td>...</td>\n",
              "      <td>0.0</td>\n",
              "      <td>1.0</td>\n",
              "      <td>0.0</td>\n",
              "      <td>0.0</td>\n",
              "      <td>0.0</td>\n",
              "      <td>0.0</td>\n",
              "      <td>0.0</td>\n",
              "      <td>0.0</td>\n",
              "      <td>0.0</td>\n",
              "      <td>1.0</td>\n",
              "    </tr>\n",
              "  </tbody>\n",
              "</table>\n",
              "<p>413 rows × 243 columns</p>\n",
              "</div>\n",
              "    <div class=\"colab-df-buttons\">\n",
              "\n",
              "  <div class=\"colab-df-container\">\n",
              "    <button class=\"colab-df-convert\" onclick=\"convertToInteractive('df-9f6d24ac-065d-4179-8d68-a0fce6c9d8b5')\"\n",
              "            title=\"Convert this dataframe to an interactive table.\"\n",
              "            style=\"display:none;\">\n",
              "\n",
              "  <svg xmlns=\"http://www.w3.org/2000/svg\" height=\"24px\" viewBox=\"0 -960 960 960\">\n",
              "    <path d=\"M120-120v-720h720v720H120Zm60-500h600v-160H180v160Zm220 220h160v-160H400v160Zm0 220h160v-160H400v160ZM180-400h160v-160H180v160Zm440 0h160v-160H620v160ZM180-180h160v-160H180v160Zm440 0h160v-160H620v160Z\"/>\n",
              "  </svg>\n",
              "    </button>\n",
              "\n",
              "  <style>\n",
              "    .colab-df-container {\n",
              "      display:flex;\n",
              "      gap: 12px;\n",
              "    }\n",
              "\n",
              "    .colab-df-convert {\n",
              "      background-color: #E8F0FE;\n",
              "      border: none;\n",
              "      border-radius: 50%;\n",
              "      cursor: pointer;\n",
              "      display: none;\n",
              "      fill: #1967D2;\n",
              "      height: 32px;\n",
              "      padding: 0 0 0 0;\n",
              "      width: 32px;\n",
              "    }\n",
              "\n",
              "    .colab-df-convert:hover {\n",
              "      background-color: #E2EBFA;\n",
              "      box-shadow: 0px 1px 2px rgba(60, 64, 67, 0.3), 0px 1px 3px 1px rgba(60, 64, 67, 0.15);\n",
              "      fill: #174EA6;\n",
              "    }\n",
              "\n",
              "    .colab-df-buttons div {\n",
              "      margin-bottom: 4px;\n",
              "    }\n",
              "\n",
              "    [theme=dark] .colab-df-convert {\n",
              "      background-color: #3B4455;\n",
              "      fill: #D2E3FC;\n",
              "    }\n",
              "\n",
              "    [theme=dark] .colab-df-convert:hover {\n",
              "      background-color: #434B5C;\n",
              "      box-shadow: 0px 1px 3px 1px rgba(0, 0, 0, 0.15);\n",
              "      filter: drop-shadow(0px 1px 2px rgba(0, 0, 0, 0.3));\n",
              "      fill: #FFFFFF;\n",
              "    }\n",
              "  </style>\n",
              "\n",
              "    <script>\n",
              "      const buttonEl =\n",
              "        document.querySelector('#df-9f6d24ac-065d-4179-8d68-a0fce6c9d8b5 button.colab-df-convert');\n",
              "      buttonEl.style.display =\n",
              "        google.colab.kernel.accessAllowed ? 'block' : 'none';\n",
              "\n",
              "      async function convertToInteractive(key) {\n",
              "        const element = document.querySelector('#df-9f6d24ac-065d-4179-8d68-a0fce6c9d8b5');\n",
              "        const dataTable =\n",
              "          await google.colab.kernel.invokeFunction('convertToInteractive',\n",
              "                                                    [key], {});\n",
              "        if (!dataTable) return;\n",
              "\n",
              "        const docLinkHtml = 'Like what you see? Visit the ' +\n",
              "          '<a target=\"_blank\" href=https://colab.research.google.com/notebooks/data_table.ipynb>data table notebook</a>'\n",
              "          + ' to learn more about interactive tables.';\n",
              "        element.innerHTML = '';\n",
              "        dataTable['output_type'] = 'display_data';\n",
              "        await google.colab.output.renderOutput(dataTable, element);\n",
              "        const docLink = document.createElement('div');\n",
              "        docLink.innerHTML = docLinkHtml;\n",
              "        element.appendChild(docLink);\n",
              "      }\n",
              "    </script>\n",
              "  </div>\n",
              "\n",
              "\n",
              "<div id=\"df-74eb20e7-0bb1-4c52-bbbb-86563adf4788\">\n",
              "  <button class=\"colab-df-quickchart\" onclick=\"quickchart('df-74eb20e7-0bb1-4c52-bbbb-86563adf4788')\"\n",
              "            title=\"Suggest charts\"\n",
              "            style=\"display:none;\">\n",
              "\n",
              "<svg xmlns=\"http://www.w3.org/2000/svg\" height=\"24px\"viewBox=\"0 0 24 24\"\n",
              "     width=\"24px\">\n",
              "    <g>\n",
              "        <path d=\"M19 3H5c-1.1 0-2 .9-2 2v14c0 1.1.9 2 2 2h14c1.1 0 2-.9 2-2V5c0-1.1-.9-2-2-2zM9 17H7v-7h2v7zm4 0h-2V7h2v10zm4 0h-2v-4h2v4z\"/>\n",
              "    </g>\n",
              "</svg>\n",
              "  </button>\n",
              "\n",
              "<style>\n",
              "  .colab-df-quickchart {\n",
              "      --bg-color: #E8F0FE;\n",
              "      --fill-color: #1967D2;\n",
              "      --hover-bg-color: #E2EBFA;\n",
              "      --hover-fill-color: #174EA6;\n",
              "      --disabled-fill-color: #AAA;\n",
              "      --disabled-bg-color: #DDD;\n",
              "  }\n",
              "\n",
              "  [theme=dark] .colab-df-quickchart {\n",
              "      --bg-color: #3B4455;\n",
              "      --fill-color: #D2E3FC;\n",
              "      --hover-bg-color: #434B5C;\n",
              "      --hover-fill-color: #FFFFFF;\n",
              "      --disabled-bg-color: #3B4455;\n",
              "      --disabled-fill-color: #666;\n",
              "  }\n",
              "\n",
              "  .colab-df-quickchart {\n",
              "    background-color: var(--bg-color);\n",
              "    border: none;\n",
              "    border-radius: 50%;\n",
              "    cursor: pointer;\n",
              "    display: none;\n",
              "    fill: var(--fill-color);\n",
              "    height: 32px;\n",
              "    padding: 0;\n",
              "    width: 32px;\n",
              "  }\n",
              "\n",
              "  .colab-df-quickchart:hover {\n",
              "    background-color: var(--hover-bg-color);\n",
              "    box-shadow: 0 1px 2px rgba(60, 64, 67, 0.3), 0 1px 3px 1px rgba(60, 64, 67, 0.15);\n",
              "    fill: var(--button-hover-fill-color);\n",
              "  }\n",
              "\n",
              "  .colab-df-quickchart-complete:disabled,\n",
              "  .colab-df-quickchart-complete:disabled:hover {\n",
              "    background-color: var(--disabled-bg-color);\n",
              "    fill: var(--disabled-fill-color);\n",
              "    box-shadow: none;\n",
              "  }\n",
              "\n",
              "  .colab-df-spinner {\n",
              "    border: 2px solid var(--fill-color);\n",
              "    border-color: transparent;\n",
              "    border-bottom-color: var(--fill-color);\n",
              "    animation:\n",
              "      spin 1s steps(1) infinite;\n",
              "  }\n",
              "\n",
              "  @keyframes spin {\n",
              "    0% {\n",
              "      border-color: transparent;\n",
              "      border-bottom-color: var(--fill-color);\n",
              "      border-left-color: var(--fill-color);\n",
              "    }\n",
              "    20% {\n",
              "      border-color: transparent;\n",
              "      border-left-color: var(--fill-color);\n",
              "      border-top-color: var(--fill-color);\n",
              "    }\n",
              "    30% {\n",
              "      border-color: transparent;\n",
              "      border-left-color: var(--fill-color);\n",
              "      border-top-color: var(--fill-color);\n",
              "      border-right-color: var(--fill-color);\n",
              "    }\n",
              "    40% {\n",
              "      border-color: transparent;\n",
              "      border-right-color: var(--fill-color);\n",
              "      border-top-color: var(--fill-color);\n",
              "    }\n",
              "    60% {\n",
              "      border-color: transparent;\n",
              "      border-right-color: var(--fill-color);\n",
              "    }\n",
              "    80% {\n",
              "      border-color: transparent;\n",
              "      border-right-color: var(--fill-color);\n",
              "      border-bottom-color: var(--fill-color);\n",
              "    }\n",
              "    90% {\n",
              "      border-color: transparent;\n",
              "      border-bottom-color: var(--fill-color);\n",
              "    }\n",
              "  }\n",
              "</style>\n",
              "\n",
              "  <script>\n",
              "    async function quickchart(key) {\n",
              "      const quickchartButtonEl =\n",
              "        document.querySelector('#' + key + ' button');\n",
              "      quickchartButtonEl.disabled = true;  // To prevent multiple clicks.\n",
              "      quickchartButtonEl.classList.add('colab-df-spinner');\n",
              "      try {\n",
              "        const charts = await google.colab.kernel.invokeFunction(\n",
              "            'suggestCharts', [key], {});\n",
              "      } catch (error) {\n",
              "        console.error('Error during call to suggestCharts:', error);\n",
              "      }\n",
              "      quickchartButtonEl.classList.remove('colab-df-spinner');\n",
              "      quickchartButtonEl.classList.add('colab-df-quickchart-complete');\n",
              "    }\n",
              "    (() => {\n",
              "      let quickchartButtonEl =\n",
              "        document.querySelector('#df-74eb20e7-0bb1-4c52-bbbb-86563adf4788 button');\n",
              "      quickchartButtonEl.style.display =\n",
              "        google.colab.kernel.accessAllowed ? 'block' : 'none';\n",
              "    })();\n",
              "  </script>\n",
              "</div>\n",
              "    </div>\n",
              "  </div>\n"
            ],
            "application/vnd.google.colaboratory.intrinsic+json": {
              "type": "dataframe",
              "variable_name": "X_train"
            }
          },
          "metadata": {},
          "execution_count": 90
        }
      ]
    },
    {
      "cell_type": "code",
      "source": [
        "y_train"
      ],
      "metadata": {
        "colab": {
          "base_uri": "https://localhost:8080/"
        },
        "id": "4Ww8wV4DGIFV",
        "outputId": "1924254a-dcc7-4f38-b0b1-77cca3e8160e"
      },
      "execution_count": 91,
      "outputs": [
        {
          "output_type": "execute_result",
          "data": {
            "text/plain": [
              "335    0\n",
              "43     0\n",
              "320    0\n",
              "47     0\n",
              "203    0\n",
              "      ..\n",
              "578    1\n",
              "53     0\n",
              "350    0\n",
              "79     0\n",
              "520    0\n",
              "Name: Issued Flag, Length: 413, dtype: int64"
            ]
          },
          "metadata": {},
          "execution_count": 91
        }
      ]
    },
    {
      "cell_type": "code",
      "source": [
        "# Print the shapes of the train and test sets\n",
        "print(\"X_train shape:\", X_train.shape)\n",
        "print(\"X_test shape:\", X_test.shape)\n",
        "print(\"y_train shape:\", y_train.shape)\n",
        "print(\"y_test shape:\", y_test.shape)"
      ],
      "metadata": {
        "colab": {
          "base_uri": "https://localhost:8080/"
        },
        "id": "shqHZv9RGIIk",
        "outputId": "6c6ae9e3-4045-4873-d78b-40bdbe480e0a"
      },
      "execution_count": 92,
      "outputs": [
        {
          "output_type": "stream",
          "name": "stdout",
          "text": [
            "X_train shape: (413, 243)\n",
            "X_test shape: (177, 243)\n",
            "y_train shape: (413,)\n",
            "y_test shape: (177,)\n"
          ]
        }
      ]
    },
    {
      "cell_type": "markdown",
      "source": [
        "##Checking for class imbalance"
      ],
      "metadata": {
        "id": "g1EukdUAI9BS"
      }
    },
    {
      "cell_type": "code",
      "source": [
        "zeros_count_y_test = np.sum(y_test == 0)\n",
        "ones_count_y_test = np.sum(y_test == 1)\n",
        "\n",
        "print(\"Counts of 0s and 1s in y_test:\")\n",
        "print(\"0s:\", zeros_count_y_test)\n",
        "print(\"1s:\", ones_count_y_test)"
      ],
      "metadata": {
        "colab": {
          "base_uri": "https://localhost:8080/"
        },
        "id": "1CKBvNWAGnBG",
        "outputId": "a7ef1781-e8d8-422f-db19-c29480fe5338"
      },
      "execution_count": 93,
      "outputs": [
        {
          "output_type": "stream",
          "name": "stdout",
          "text": [
            "Counts of 0s and 1s in y_test:\n",
            "0s: 150\n",
            "1s: 27\n"
          ]
        }
      ]
    },
    {
      "cell_type": "code",
      "source": [
        "zeros_count_y_train = np.sum(y_train == 0)\n",
        "ones_count_y_train = np.sum(y_train == 1)\n",
        "\n",
        "print(\"Counts of 0s and 1s in y_train:\")\n",
        "print(\"0s:\", zeros_count_y_train)\n",
        "print(\"1s:\", ones_count_y_train)"
      ],
      "metadata": {
        "colab": {
          "base_uri": "https://localhost:8080/"
        },
        "id": "Ey_QUE65Hp1l",
        "outputId": "93e8af0b-092f-4237-9136-2297501e90b8"
      },
      "execution_count": 94,
      "outputs": [
        {
          "output_type": "stream",
          "name": "stdout",
          "text": [
            "Counts of 0s and 1s in y_train:\n",
            "0s: 342\n",
            "1s: 71\n"
          ]
        }
      ]
    },
    {
      "cell_type": "code",
      "source": [
        "imbalance_ratio_y_train= ones_count_y_train/(ones_count_y_train+zeros_count_y_train)*100\n",
        "imbalance_ratio_y_train"
      ],
      "metadata": {
        "colab": {
          "base_uri": "https://localhost:8080/"
        },
        "id": "bnJDmLPXIVge",
        "outputId": "5e2c2cbb-3fff-4b8a-92a4-622a1732143d"
      },
      "execution_count": 95,
      "outputs": [
        {
          "output_type": "execute_result",
          "data": {
            "text/plain": [
              "17.191283292978206"
            ]
          },
          "metadata": {},
          "execution_count": 95
        }
      ]
    },
    {
      "cell_type": "code",
      "source": [
        "imbalance_ratio_y_test= ones_count_y_test/(ones_count_y_test+zeros_count_y_test)*100\n",
        "imbalance_ratio_y_test"
      ],
      "metadata": {
        "colab": {
          "base_uri": "https://localhost:8080/"
        },
        "id": "2g0CwodHIeVD",
        "outputId": "56c05ce7-028a-4782-928c-ae4b1785bfa9"
      },
      "execution_count": 96,
      "outputs": [
        {
          "output_type": "execute_result",
          "data": {
            "text/plain": [
              "15.254237288135593"
            ]
          },
          "metadata": {},
          "execution_count": 96
        }
      ]
    },
    {
      "cell_type": "markdown",
      "source": [
        "Approx 85% of the values in both y train and test datasets for 'Issued Flags' are 0's"
      ],
      "metadata": {
        "id": "saG6UTEmJEDJ"
      }
    },
    {
      "cell_type": "markdown",
      "source": [
        "##SMOTE for minority class:\n",
        "used to generate synthetic samples for minority class.\n"
      ],
      "metadata": {
        "id": "F3WPbtANBzjt"
      }
    },
    {
      "cell_type": "code",
      "source": [
        "from imblearn.over_sampling import SMOTE\n",
        "\n",
        "# Apply SMOTE with a specific strategy to the training data\n",
        "smote = SMOTE( random_state=42)\n",
        "X_train_resampled, y_train_resampled = smote.fit_resample(X_train, y_train)"
      ],
      "metadata": {
        "id": "gQa30MYvCHyU"
      },
      "execution_count": 97,
      "outputs": []
    },
    {
      "cell_type": "code",
      "source": [
        "zeros_count_y_train_resampled = np.sum(y_train_resampled == 0)\n",
        "ones_count_y_train_resampled = np.sum(y_train_resampled == 1)\n",
        "\n",
        "print(\"Counts of 0s and 1s in y_train:\")\n",
        "print(\"0s:\", zeros_count_y_train_resampled)\n",
        "print(\"1s:\", ones_count_y_train_resampled)"
      ],
      "metadata": {
        "colab": {
          "base_uri": "https://localhost:8080/"
        },
        "id": "rgrmXsdFEZxp",
        "outputId": "23dc5aba-1e2c-4600-90de-a3ef5066c40b"
      },
      "execution_count": 98,
      "outputs": [
        {
          "output_type": "stream",
          "name": "stdout",
          "text": [
            "Counts of 0s and 1s in y_train:\n",
            "0s: 342\n",
            "1s: 342\n"
          ]
        }
      ]
    },
    {
      "cell_type": "markdown",
      "source": [
        "# Building the model"
      ],
      "metadata": {
        "id": "etLyYmUEeMBY"
      }
    },
    {
      "cell_type": "markdown",
      "source": [
        "## Decision Tree Classification"
      ],
      "metadata": {
        "id": "rWLhX1P8fnjR"
      }
    },
    {
      "cell_type": "code",
      "source": [
        "#from sklearn.tree import DecisionTreeClassifier\n",
        "# Create Decision Tree classifer object\n",
        "clf_dt = DecisionTreeClassifier()\n",
        "\n",
        "# Train Decision Tree Classifer\n",
        "clf_dt = clf_dt.fit(X_train_resampled,y_train_resampled)\n",
        "clf_dt"
      ],
      "metadata": {
        "colab": {
          "base_uri": "https://localhost:8080/",
          "height": 74
        },
        "id": "Pcqe093EJFkb",
        "outputId": "322a160f-c207-4335-d717-59cf21d70cd9"
      },
      "execution_count": 99,
      "outputs": [
        {
          "output_type": "execute_result",
          "data": {
            "text/plain": [
              "DecisionTreeClassifier()"
            ],
            "text/html": [
              "<style>#sk-container-id-10 {color: black;background-color: white;}#sk-container-id-10 pre{padding: 0;}#sk-container-id-10 div.sk-toggleable {background-color: white;}#sk-container-id-10 label.sk-toggleable__label {cursor: pointer;display: block;width: 100%;margin-bottom: 0;padding: 0.3em;box-sizing: border-box;text-align: center;}#sk-container-id-10 label.sk-toggleable__label-arrow:before {content: \"▸\";float: left;margin-right: 0.25em;color: #696969;}#sk-container-id-10 label.sk-toggleable__label-arrow:hover:before {color: black;}#sk-container-id-10 div.sk-estimator:hover label.sk-toggleable__label-arrow:before {color: black;}#sk-container-id-10 div.sk-toggleable__content {max-height: 0;max-width: 0;overflow: hidden;text-align: left;background-color: #f0f8ff;}#sk-container-id-10 div.sk-toggleable__content pre {margin: 0.2em;color: black;border-radius: 0.25em;background-color: #f0f8ff;}#sk-container-id-10 input.sk-toggleable__control:checked~div.sk-toggleable__content {max-height: 200px;max-width: 100%;overflow: auto;}#sk-container-id-10 input.sk-toggleable__control:checked~label.sk-toggleable__label-arrow:before {content: \"▾\";}#sk-container-id-10 div.sk-estimator input.sk-toggleable__control:checked~label.sk-toggleable__label {background-color: #d4ebff;}#sk-container-id-10 div.sk-label input.sk-toggleable__control:checked~label.sk-toggleable__label {background-color: #d4ebff;}#sk-container-id-10 input.sk-hidden--visually {border: 0;clip: rect(1px 1px 1px 1px);clip: rect(1px, 1px, 1px, 1px);height: 1px;margin: -1px;overflow: hidden;padding: 0;position: absolute;width: 1px;}#sk-container-id-10 div.sk-estimator {font-family: monospace;background-color: #f0f8ff;border: 1px dotted black;border-radius: 0.25em;box-sizing: border-box;margin-bottom: 0.5em;}#sk-container-id-10 div.sk-estimator:hover {background-color: #d4ebff;}#sk-container-id-10 div.sk-parallel-item::after {content: \"\";width: 100%;border-bottom: 1px solid gray;flex-grow: 1;}#sk-container-id-10 div.sk-label:hover label.sk-toggleable__label {background-color: #d4ebff;}#sk-container-id-10 div.sk-serial::before {content: \"\";position: absolute;border-left: 1px solid gray;box-sizing: border-box;top: 0;bottom: 0;left: 50%;z-index: 0;}#sk-container-id-10 div.sk-serial {display: flex;flex-direction: column;align-items: center;background-color: white;padding-right: 0.2em;padding-left: 0.2em;position: relative;}#sk-container-id-10 div.sk-item {position: relative;z-index: 1;}#sk-container-id-10 div.sk-parallel {display: flex;align-items: stretch;justify-content: center;background-color: white;position: relative;}#sk-container-id-10 div.sk-item::before, #sk-container-id-10 div.sk-parallel-item::before {content: \"\";position: absolute;border-left: 1px solid gray;box-sizing: border-box;top: 0;bottom: 0;left: 50%;z-index: -1;}#sk-container-id-10 div.sk-parallel-item {display: flex;flex-direction: column;z-index: 1;position: relative;background-color: white;}#sk-container-id-10 div.sk-parallel-item:first-child::after {align-self: flex-end;width: 50%;}#sk-container-id-10 div.sk-parallel-item:last-child::after {align-self: flex-start;width: 50%;}#sk-container-id-10 div.sk-parallel-item:only-child::after {width: 0;}#sk-container-id-10 div.sk-dashed-wrapped {border: 1px dashed gray;margin: 0 0.4em 0.5em 0.4em;box-sizing: border-box;padding-bottom: 0.4em;background-color: white;}#sk-container-id-10 div.sk-label label {font-family: monospace;font-weight: bold;display: inline-block;line-height: 1.2em;}#sk-container-id-10 div.sk-label-container {text-align: center;}#sk-container-id-10 div.sk-container {/* jupyter's `normalize.less` sets `[hidden] { display: none; }` but bootstrap.min.css set `[hidden] { display: none !important; }` so we also need the `!important` here to be able to override the default hidden behavior on the sphinx rendered scikit-learn.org. See: https://github.com/scikit-learn/scikit-learn/issues/21755 */display: inline-block !important;position: relative;}#sk-container-id-10 div.sk-text-repr-fallback {display: none;}</style><div id=\"sk-container-id-10\" class=\"sk-top-container\"><div class=\"sk-text-repr-fallback\"><pre>DecisionTreeClassifier()</pre><b>In a Jupyter environment, please rerun this cell to show the HTML representation or trust the notebook. <br />On GitHub, the HTML representation is unable to render, please try loading this page with nbviewer.org.</b></div><div class=\"sk-container\" hidden><div class=\"sk-item\"><div class=\"sk-estimator sk-toggleable\"><input class=\"sk-toggleable__control sk-hidden--visually\" id=\"sk-estimator-id-14\" type=\"checkbox\" checked><label for=\"sk-estimator-id-14\" class=\"sk-toggleable__label sk-toggleable__label-arrow\">DecisionTreeClassifier</label><div class=\"sk-toggleable__content\"><pre>DecisionTreeClassifier()</pre></div></div></div></div></div>"
            ]
          },
          "metadata": {},
          "execution_count": 99
        }
      ]
    },
    {
      "cell_type": "code",
      "source": [
        "#predict and print confusion matrix, accuracy, precision and recall scores\n",
        "metrics_calc(clf_dt, X_test, y_test)"
      ],
      "metadata": {
        "colab": {
          "base_uri": "https://localhost:8080/",
          "height": 510
        },
        "id": "Vh1rOJa9s9NE",
        "outputId": "3abca170-b233-4a6f-d1bf-e1efae675d54"
      },
      "execution_count": 139,
      "outputs": [
        {
          "output_type": "stream",
          "name": "stdout",
          "text": [
            "Accuracy: 80.23 %\n",
            "Precision: 16.67 %\n",
            "Recall: 7.41 %\n"
          ]
        },
        {
          "output_type": "display_data",
          "data": {
            "text/plain": [
              "<Figure size 640x480 with 2 Axes>"
            ],
            "image/png": "[encoded data removed]"
          },
          "metadata": {}
        }
      ]
    },
    {
      "cell_type": "markdown",
      "source": [
        "Precision based on the confusion matrix is very low due to imbalanced data but we can look for other attributes in different tables and get more data and attributes to rectify the same."
      ],
      "metadata": {
        "id": "kRdP1aUMLvcW"
      }
    },
    {
      "cell_type": "code",
      "source": [
        "from sklearn.metrics import roc_curve, auc\n",
        "\n",
        "# Assuming 'y_test' are the true labels and 'y_pred_prob' are the predicted probabilities\n",
        "# Replace 'y_test' and 'y_pred_prob' with your actual true labels and predicted probabilities\n",
        "\n",
        "# Predictions for different classifiers\n",
        "y_pred_dt = clf_dt.predict(X_test)\n",
        "\n",
        "# Compute ROC curve and ROC area for each class\n",
        "fpr, tpr, _ = roc_curve(y_test, y_pred_dt)\n",
        "roc_auc = auc(fpr, tpr)\n",
        "\n",
        "# Plot ROC curve\n",
        "plt.figure()\n",
        "plt.plot(fpr, tpr, color='darkorange', lw=2, label='ROC curve (area = %0.2f)' % roc_auc)\n",
        "plt.plot([0, 1], [0, 1], color='navy', lw=2, linestyle='--')\n",
        "plt.xlim([0.0, 1.0])\n",
        "plt.ylim([0.0, 1.05])\n",
        "plt.xlabel('False Positive Rate')\n",
        "plt.ylabel('True Positive Rate')\n",
        "plt.title('Receiver Operating Characteristic (ROC) Curve')\n",
        "plt.legend(loc=\"lower right\")\n",
        "plt.show()"
      ],
      "metadata": {
        "colab": {
          "base_uri": "https://localhost:8080/",
          "height": 472
        },
        "id": "Ie391bL-Iex1",
        "outputId": "6e7c338a-3987-48d0-fa0f-50505f07db63"
      },
      "execution_count": 103,
      "outputs": [
        {
          "output_type": "display_data",
          "data": {
            "text/plain": [
              "<Figure size 640x480 with 1 Axes>"
            ],
            "image/png": "[encoded data removed]"
          },
          "metadata": {}
        }
      ]
    },
    {
      "cell_type": "code",
      "source": [
        "#without SMOTE\n",
        "clf = DecisionTreeClassifier()\n",
        "clf = clf.fit(X_train,y_train)\n",
        "clf"
      ],
      "metadata": {
        "colab": {
          "base_uri": "https://localhost:8080/",
          "height": 74
        },
        "id": "MMGvNZ9ZGTck",
        "outputId": "020a7551-369f-4f12-f8c5-e2450a3e61df"
      },
      "execution_count": 105,
      "outputs": [
        {
          "output_type": "execute_result",
          "data": {
            "text/plain": [
              "DecisionTreeClassifier()"
            ],
            "text/html": [
              "<style>#sk-container-id-11 {color: black;background-color: white;}#sk-container-id-11 pre{padding: 0;}#sk-container-id-11 div.sk-toggleable {background-color: white;}#sk-container-id-11 label.sk-toggleable__label {cursor: pointer;display: block;width: 100%;margin-bottom: 0;padding: 0.3em;box-sizing: border-box;text-align: center;}#sk-container-id-11 label.sk-toggleable__label-arrow:before {content: \"▸\";float: left;margin-right: 0.25em;color: #696969;}#sk-container-id-11 label.sk-toggleable__label-arrow:hover:before {color: black;}#sk-container-id-11 div.sk-estimator:hover label.sk-toggleable__label-arrow:before {color: black;}#sk-container-id-11 div.sk-toggleable__content {max-height: 0;max-width: 0;overflow: hidden;text-align: left;background-color: #f0f8ff;}#sk-container-id-11 div.sk-toggleable__content pre {margin: 0.2em;color: black;border-radius: 0.25em;background-color: #f0f8ff;}#sk-container-id-11 input.sk-toggleable__control:checked~div.sk-toggleable__content {max-height: 200px;max-width: 100%;overflow: auto;}#sk-container-id-11 input.sk-toggleable__control:checked~label.sk-toggleable__label-arrow:before {content: \"▾\";}#sk-container-id-11 div.sk-estimator input.sk-toggleable__control:checked~label.sk-toggleable__label {background-color: #d4ebff;}#sk-container-id-11 div.sk-label input.sk-toggleable__control:checked~label.sk-toggleable__label {background-color: #d4ebff;}#sk-container-id-11 input.sk-hidden--visually {border: 0;clip: rect(1px 1px 1px 1px);clip: rect(1px, 1px, 1px, 1px);height: 1px;margin: -1px;overflow: hidden;padding: 0;position: absolute;width: 1px;}#sk-container-id-11 div.sk-estimator {font-family: monospace;background-color: #f0f8ff;border: 1px dotted black;border-radius: 0.25em;box-sizing: border-box;margin-bottom: 0.5em;}#sk-container-id-11 div.sk-estimator:hover {background-color: #d4ebff;}#sk-container-id-11 div.sk-parallel-item::after {content: \"\";width: 100%;border-bottom: 1px solid gray;flex-grow: 1;}#sk-container-id-11 div.sk-label:hover label.sk-toggleable__label {background-color: #d4ebff;}#sk-container-id-11 div.sk-serial::before {content: \"\";position: absolute;border-left: 1px solid gray;box-sizing: border-box;top: 0;bottom: 0;left: 50%;z-index: 0;}#sk-container-id-11 div.sk-serial {display: flex;flex-direction: column;align-items: center;background-color: white;padding-right: 0.2em;padding-left: 0.2em;position: relative;}#sk-container-id-11 div.sk-item {position: relative;z-index: 1;}#sk-container-id-11 div.sk-parallel {display: flex;align-items: stretch;justify-content: center;background-color: white;position: relative;}#sk-container-id-11 div.sk-item::before, #sk-container-id-11 div.sk-parallel-item::before {content: \"\";position: absolute;border-left: 1px solid gray;box-sizing: border-box;top: 0;bottom: 0;left: 50%;z-index: -1;}#sk-container-id-11 div.sk-parallel-item {display: flex;flex-direction: column;z-index: 1;position: relative;background-color: white;}#sk-container-id-11 div.sk-parallel-item:first-child::after {align-self: flex-end;width: 50%;}#sk-container-id-11 div.sk-parallel-item:last-child::after {align-self: flex-start;width: 50%;}#sk-container-id-11 div.sk-parallel-item:only-child::after {width: 0;}#sk-container-id-11 div.sk-dashed-wrapped {border: 1px dashed gray;margin: 0 0.4em 0.5em 0.4em;box-sizing: border-box;padding-bottom: 0.4em;background-color: white;}#sk-container-id-11 div.sk-label label {font-family: monospace;font-weight: bold;display: inline-block;line-height: 1.2em;}#sk-container-id-11 div.sk-label-container {text-align: center;}#sk-container-id-11 div.sk-container {/* jupyter's `normalize.less` sets `[hidden] { display: none; }` but bootstrap.min.css set `[hidden] { display: none !important; }` so we also need the `!important` here to be able to override the default hidden behavior on the sphinx rendered scikit-learn.org. See: https://github.com/scikit-learn/scikit-learn/issues/21755 */display: inline-block !important;position: relative;}#sk-container-id-11 div.sk-text-repr-fallback {display: none;}</style><div id=\"sk-container-id-11\" class=\"sk-top-container\"><div class=\"sk-text-repr-fallback\"><pre>DecisionTreeClassifier()</pre><b>In a Jupyter environment, please rerun this cell to show the HTML representation or trust the notebook. <br />On GitHub, the HTML representation is unable to render, please try loading this page with nbviewer.org.</b></div><div class=\"sk-container\" hidden><div class=\"sk-item\"><div class=\"sk-estimator sk-toggleable\"><input class=\"sk-toggleable__control sk-hidden--visually\" id=\"sk-estimator-id-15\" type=\"checkbox\" checked><label for=\"sk-estimator-id-15\" class=\"sk-toggleable__label sk-toggleable__label-arrow\">DecisionTreeClassifier</label><div class=\"sk-toggleable__content\"><pre>DecisionTreeClassifier()</pre></div></div></div></div></div>"
            ]
          },
          "metadata": {},
          "execution_count": 105
        }
      ]
    },
    {
      "cell_type": "code",
      "source": [
        "#predict and print confusion matrix, accuracy, precision and recall scores\n",
        "metrics_calc(clf, X_test, y_test)"
      ],
      "metadata": {
        "colab": {
          "base_uri": "https://localhost:8080/",
          "height": 507
        },
        "id": "uB0kBxssGhBO",
        "outputId": "403025e7-df75-494b-aa08-48cc74ef2b36"
      },
      "execution_count": 140,
      "outputs": [
        {
          "output_type": "stream",
          "name": "stdout",
          "text": [
            "Accuracy: 80.23 %\n",
            "Precision: 10.0 %\n",
            "Recall: 3.7 %\n"
          ]
        },
        {
          "output_type": "display_data",
          "data": {
            "text/plain": [
              "<Figure size 640x480 with 2 Axes>"
            ],
            "image/png": "[encoded data removed]"
          },
          "metadata": {}
        }
      ]
    },
    {
      "cell_type": "markdown",
      "source": [
        "## Optimizing the model\n",
        "criterion : optional (default=”gini”) or Choose attribute selection measure. This parameter allows us to use the different-different attribute selection measure. Supported criteria are “gini” for the Gini index and “entropy” for the information gain.\n",
        "\n",
        "splitter : string, optional (default=”best”) or Split Strategy. This parameter allows us to choose the split strategy. Supported strategies are “best” to choose the best split and “random” to choose the best random split.\n",
        "\n",
        "max_depth : int or None, optional (default=None) or Maximum Depth of a Tree. The maximum depth of the tree. If None, then nodes are expanded until all the leaves contain less than min_samples_split samples. The higher value of maximum depth causes overfitting, and a lower value causes underfitting (Source"
      ],
      "metadata": {
        "id": "QJ4-NyIjfduu"
      }
    },
    {
      "cell_type": "code",
      "source": [
        "# Create Decision Tree classifer object\n",
        "clf_dt_cv = DecisionTreeClassifier(criterion=\"entropy\", max_depth=3)\n",
        "\n",
        "# Train Decision Tree Classifer\n",
        "clf_dt_cv = clf_dt_cv.fit(X_train,y_train)\n",
        "clf_dt_cv"
      ],
      "metadata": {
        "colab": {
          "base_uri": "https://localhost:8080/",
          "height": 74
        },
        "id": "aSboahUffcYM",
        "outputId": "1dcdf7f5-87cc-4117-d79c-56b87b53d2e3"
      },
      "execution_count": 108,
      "outputs": [
        {
          "output_type": "execute_result",
          "data": {
            "text/plain": [
              "DecisionTreeClassifier(criterion='entropy', max_depth=3)"
            ],
            "text/html": [
              "<style>#sk-container-id-12 {color: black;background-color: white;}#sk-container-id-12 pre{padding: 0;}#sk-container-id-12 div.sk-toggleable {background-color: white;}#sk-container-id-12 label.sk-toggleable__label {cursor: pointer;display: block;width: 100%;margin-bottom: 0;padding: 0.3em;box-sizing: border-box;text-align: center;}#sk-container-id-12 label.sk-toggleable__label-arrow:before {content: \"▸\";float: left;margin-right: 0.25em;color: #696969;}#sk-container-id-12 label.sk-toggleable__label-arrow:hover:before {color: black;}#sk-container-id-12 div.sk-estimator:hover label.sk-toggleable__label-arrow:before {color: black;}#sk-container-id-12 div.sk-toggleable__content {max-height: 0;max-width: 0;overflow: hidden;text-align: left;background-color: #f0f8ff;}#sk-container-id-12 div.sk-toggleable__content pre {margin: 0.2em;color: black;border-radius: 0.25em;background-color: #f0f8ff;}#sk-container-id-12 input.sk-toggleable__control:checked~div.sk-toggleable__content {max-height: 200px;max-width: 100%;overflow: auto;}#sk-container-id-12 input.sk-toggleable__control:checked~label.sk-toggleable__label-arrow:before {content: \"▾\";}#sk-container-id-12 div.sk-estimator input.sk-toggleable__control:checked~label.sk-toggleable__label {background-color: #d4ebff;}#sk-container-id-12 div.sk-label input.sk-toggleable__control:checked~label.sk-toggleable__label {background-color: #d4ebff;}#sk-container-id-12 input.sk-hidden--visually {border: 0;clip: rect(1px 1px 1px 1px);clip: rect(1px, 1px, 1px, 1px);height: 1px;margin: -1px;overflow: hidden;padding: 0;position: absolute;width: 1px;}#sk-container-id-12 div.sk-estimator {font-family: monospace;background-color: #f0f8ff;border: 1px dotted black;border-radius: 0.25em;box-sizing: border-box;margin-bottom: 0.5em;}#sk-container-id-12 div.sk-estimator:hover {background-color: #d4ebff;}#sk-container-id-12 div.sk-parallel-item::after {content: \"\";width: 100%;border-bottom: 1px solid gray;flex-grow: 1;}#sk-container-id-12 div.sk-label:hover label.sk-toggleable__label {background-color: #d4ebff;}#sk-container-id-12 div.sk-serial::before {content: \"\";position: absolute;border-left: 1px solid gray;box-sizing: border-box;top: 0;bottom: 0;left: 50%;z-index: 0;}#sk-container-id-12 div.sk-serial {display: flex;flex-direction: column;align-items: center;background-color: white;padding-right: 0.2em;padding-left: 0.2em;position: relative;}#sk-container-id-12 div.sk-item {position: relative;z-index: 1;}#sk-container-id-12 div.sk-parallel {display: flex;align-items: stretch;justify-content: center;background-color: white;position: relative;}#sk-container-id-12 div.sk-item::before, #sk-container-id-12 div.sk-parallel-item::before {content: \"\";position: absolute;border-left: 1px solid gray;box-sizing: border-box;top: 0;bottom: 0;left: 50%;z-index: -1;}#sk-container-id-12 div.sk-parallel-item {display: flex;flex-direction: column;z-index: 1;position: relative;background-color: white;}#sk-container-id-12 div.sk-parallel-item:first-child::after {align-self: flex-end;width: 50%;}#sk-container-id-12 div.sk-parallel-item:last-child::after {align-self: flex-start;width: 50%;}#sk-container-id-12 div.sk-parallel-item:only-child::after {width: 0;}#sk-container-id-12 div.sk-dashed-wrapped {border: 1px dashed gray;margin: 0 0.4em 0.5em 0.4em;box-sizing: border-box;padding-bottom: 0.4em;background-color: white;}#sk-container-id-12 div.sk-label label {font-family: monospace;font-weight: bold;display: inline-block;line-height: 1.2em;}#sk-container-id-12 div.sk-label-container {text-align: center;}#sk-container-id-12 div.sk-container {/* jupyter's `normalize.less` sets `[hidden] { display: none; }` but bootstrap.min.css set `[hidden] { display: none !important; }` so we also need the `!important` here to be able to override the default hidden behavior on the sphinx rendered scikit-learn.org. See: https://github.com/scikit-learn/scikit-learn/issues/21755 */display: inline-block !important;position: relative;}#sk-container-id-12 div.sk-text-repr-fallback {display: none;}</style><div id=\"sk-container-id-12\" class=\"sk-top-container\"><div class=\"sk-text-repr-fallback\"><pre>DecisionTreeClassifier(criterion=&#x27;entropy&#x27;, max_depth=3)</pre><b>In a Jupyter environment, please rerun this cell to show the HTML representation or trust the notebook. <br />On GitHub, the HTML representation is unable to render, please try loading this page with nbviewer.org.</b></div><div class=\"sk-container\" hidden><div class=\"sk-item\"><div class=\"sk-estimator sk-toggleable\"><input class=\"sk-toggleable__control sk-hidden--visually\" id=\"sk-estimator-id-16\" type=\"checkbox\" checked><label for=\"sk-estimator-id-16\" class=\"sk-toggleable__label sk-toggleable__label-arrow\">DecisionTreeClassifier</label><div class=\"sk-toggleable__content\"><pre>DecisionTreeClassifier(criterion=&#x27;entropy&#x27;, max_depth=3)</pre></div></div></div></div></div>"
            ]
          },
          "metadata": {},
          "execution_count": 108
        }
      ]
    },
    {
      "cell_type": "code",
      "source": [
        "#predict and print confusion matrix, accuracy, precision and recall scores\n",
        "metrics_calc(clf_dt_cv, X_test, y_test)"
      ],
      "metadata": {
        "colab": {
          "base_uri": "https://localhost:8080/",
          "height": 560
        },
        "id": "Z3pZpfhzflp7",
        "outputId": "45762ef1-0f15-47e2-9ab5-3ff9887c4ba3"
      },
      "execution_count": 141,
      "outputs": [
        {
          "output_type": "stream",
          "name": "stdout",
          "text": [
            "Accuracy: 84.75 %\n",
            "Precision: 0.0 %\n",
            "Recall: 0.0 %\n"
          ]
        },
        {
          "output_type": "stream",
          "name": "stderr",
          "text": [
            "/usr/local/lib/python3.10/dist-packages/sklearn/metrics/_classification.py:1344: UndefinedMetricWarning: Precision is ill-defined and being set to 0.0 due to no predicted samples. Use `zero_division` parameter to control this behavior.\n",
            "  _warn_prf(average, modifier, msg_start, len(result))\n"
          ]
        },
        {
          "output_type": "display_data",
          "data": {
            "text/plain": [
              "<Figure size 640x480 with 2 Axes>"
            ],
            "image/png": "[encoded data removed]"
          },
          "metadata": {}
        }
      ]
    },
    {
      "cell_type": "markdown",
      "source": [
        "# Random forest classification"
      ],
      "metadata": {
        "id": "-1mibfdKgmuw"
      }
    },
    {
      "cell_type": "code",
      "source": [
        "from sklearn.ensemble import RandomForestClassifier\n",
        "rf_clf = RandomForestClassifier()\n",
        "\n",
        "#training the model\n",
        "rf_clf = rf_clf.fit(X_train, y_train)\n",
        "rf_clf"
      ],
      "metadata": {
        "colab": {
          "base_uri": "https://localhost:8080/",
          "height": 74
        },
        "id": "ao8ZI6cIgp3p",
        "outputId": "5dc6c830-8510-49ef-a3e5-de333bed027a"
      },
      "execution_count": 111,
      "outputs": [
        {
          "output_type": "execute_result",
          "data": {
            "text/plain": [
              "RandomForestClassifier()"
            ],
            "text/html": [
              "<style>#sk-container-id-13 {color: black;background-color: white;}#sk-container-id-13 pre{padding: 0;}#sk-container-id-13 div.sk-toggleable {background-color: white;}#sk-container-id-13 label.sk-toggleable__label {cursor: pointer;display: block;width: 100%;margin-bottom: 0;padding: 0.3em;box-sizing: border-box;text-align: center;}#sk-container-id-13 label.sk-toggleable__label-arrow:before {content: \"▸\";float: left;margin-right: 0.25em;color: #696969;}#sk-container-id-13 label.sk-toggleable__label-arrow:hover:before {color: black;}#sk-container-id-13 div.sk-estimator:hover label.sk-toggleable__label-arrow:before {color: black;}#sk-container-id-13 div.sk-toggleable__content {max-height: 0;max-width: 0;overflow: hidden;text-align: left;background-color: #f0f8ff;}#sk-container-id-13 div.sk-toggleable__content pre {margin: 0.2em;color: black;border-radius: 0.25em;background-color: #f0f8ff;}#sk-container-id-13 input.sk-toggleable__control:checked~div.sk-toggleable__content {max-height: 200px;max-width: 100%;overflow: auto;}#sk-container-id-13 input.sk-toggleable__control:checked~label.sk-toggleable__label-arrow:before {content: \"▾\";}#sk-container-id-13 div.sk-estimator input.sk-toggleable__control:checked~label.sk-toggleable__label {background-color: #d4ebff;}#sk-container-id-13 div.sk-label input.sk-toggleable__control:checked~label.sk-toggleable__label {background-color: #d4ebff;}#sk-container-id-13 input.sk-hidden--visually {border: 0;clip: rect(1px 1px 1px 1px);clip: rect(1px, 1px, 1px, 1px);height: 1px;margin: -1px;overflow: hidden;padding: 0;position: absolute;width: 1px;}#sk-container-id-13 div.sk-estimator {font-family: monospace;background-color: #f0f8ff;border: 1px dotted black;border-radius: 0.25em;box-sizing: border-box;margin-bottom: 0.5em;}#sk-container-id-13 div.sk-estimator:hover {background-color: #d4ebff;}#sk-container-id-13 div.sk-parallel-item::after {content: \"\";width: 100%;border-bottom: 1px solid gray;flex-grow: 1;}#sk-container-id-13 div.sk-label:hover label.sk-toggleable__label {background-color: #d4ebff;}#sk-container-id-13 div.sk-serial::before {content: \"\";position: absolute;border-left: 1px solid gray;box-sizing: border-box;top: 0;bottom: 0;left: 50%;z-index: 0;}#sk-container-id-13 div.sk-serial {display: flex;flex-direction: column;align-items: center;background-color: white;padding-right: 0.2em;padding-left: 0.2em;position: relative;}#sk-container-id-13 div.sk-item {position: relative;z-index: 1;}#sk-container-id-13 div.sk-parallel {display: flex;align-items: stretch;justify-content: center;background-color: white;position: relative;}#sk-container-id-13 div.sk-item::before, #sk-container-id-13 div.sk-parallel-item::before {content: \"\";position: absolute;border-left: 1px solid gray;box-sizing: border-box;top: 0;bottom: 0;left: 50%;z-index: -1;}#sk-container-id-13 div.sk-parallel-item {display: flex;flex-direction: column;z-index: 1;position: relative;background-color: white;}#sk-container-id-13 div.sk-parallel-item:first-child::after {align-self: flex-end;width: 50%;}#sk-container-id-13 div.sk-parallel-item:last-child::after {align-self: flex-start;width: 50%;}#sk-container-id-13 div.sk-parallel-item:only-child::after {width: 0;}#sk-container-id-13 div.sk-dashed-wrapped {border: 1px dashed gray;margin: 0 0.4em 0.5em 0.4em;box-sizing: border-box;padding-bottom: 0.4em;background-color: white;}#sk-container-id-13 div.sk-label label {font-family: monospace;font-weight: bold;display: inline-block;line-height: 1.2em;}#sk-container-id-13 div.sk-label-container {text-align: center;}#sk-container-id-13 div.sk-container {/* jupyter's `normalize.less` sets `[hidden] { display: none; }` but bootstrap.min.css set `[hidden] { display: none !important; }` so we also need the `!important` here to be able to override the default hidden behavior on the sphinx rendered scikit-learn.org. See: https://github.com/scikit-learn/scikit-learn/issues/21755 */display: inline-block !important;position: relative;}#sk-container-id-13 div.sk-text-repr-fallback {display: none;}</style><div id=\"sk-container-id-13\" class=\"sk-top-container\"><div class=\"sk-text-repr-fallback\"><pre>RandomForestClassifier()</pre><b>In a Jupyter environment, please rerun this cell to show the HTML representation or trust the notebook. <br />On GitHub, the HTML representation is unable to render, please try loading this page with nbviewer.org.</b></div><div class=\"sk-container\" hidden><div class=\"sk-item\"><div class=\"sk-estimator sk-toggleable\"><input class=\"sk-toggleable__control sk-hidden--visually\" id=\"sk-estimator-id-17\" type=\"checkbox\" checked><label for=\"sk-estimator-id-17\" class=\"sk-toggleable__label sk-toggleable__label-arrow\">RandomForestClassifier</label><div class=\"sk-toggleable__content\"><pre>RandomForestClassifier()</pre></div></div></div></div></div>"
            ]
          },
          "metadata": {},
          "execution_count": 111
        }
      ]
    },
    {
      "cell_type": "code",
      "source": [
        "#predict and print confusion matrix, accuracy, precision and recall scores\n",
        "metrics_calc(rf_clf, X_test, y_test)"
      ],
      "metadata": {
        "colab": {
          "base_uri": "https://localhost:8080/",
          "height": 504
        },
        "id": "UIUsihCXgwjk",
        "outputId": "a044c007-70a4-4b6c-acda-b4741ff7ccba"
      },
      "execution_count": 142,
      "outputs": [
        {
          "output_type": "stream",
          "name": "stdout",
          "text": [
            "Accuracy: 83.05 %\n",
            "Precision: 20.0 %\n",
            "Recall: 3.7 %\n"
          ]
        },
        {
          "output_type": "display_data",
          "data": {
            "text/plain": [
              "<Figure size 640x480 with 2 Axes>"
            ],
            "image/png": "[encoded data removed]"
          },
          "metadata": {}
        }
      ]
    },
    {
      "cell_type": "markdown",
      "source": [
        "Optimization of RF model using hyperparameter tuning"
      ],
      "metadata": {
        "id": "vLqQj-bi_eyJ"
      }
    },
    {
      "cell_type": "code",
      "source": [
        "from sklearn.model_selection import RandomizedSearchCV\n",
        "from scipy.stats import randint\n",
        "\n",
        "param_dist = {'n_estimators': randint(50,500),\n",
        "              'max_depth': randint(1,20)}\n",
        "\n",
        "# Create a random forest classifier\n",
        "rf = RandomForestClassifier()\n",
        "\n",
        "# Use random search to find the best hyperparameters\n",
        "rand_search = RandomizedSearchCV(rf,\n",
        "                                 param_distributions = param_dist,\n",
        "                                 n_iter=5,\n",
        "                                 cv=5)\n",
        "\n",
        "# Fit the random search object to the data\n",
        "rand_search.fit(X_train, y_train)"
      ],
      "metadata": {
        "colab": {
          "base_uri": "https://localhost:8080/",
          "height": 117
        },
        "id": "RVOBPFVW_gyS",
        "outputId": "a3e1b17e-9192-49e8-dd80-5bd3f9ba4a1c"
      },
      "execution_count": 115,
      "outputs": [
        {
          "output_type": "execute_result",
          "data": {
            "text/plain": [
              "RandomizedSearchCV(cv=5, estimator=RandomForestClassifier(), n_iter=5,\n",
              "                   param_distributions={'max_depth': <scipy.stats._distn_infrastructure.rv_discrete_frozen object at 0x7a0709236560>,\n",
              "                                        'n_estimators': <scipy.stats._distn_infrastructure.rv_discrete_frozen object at 0x7a07092366e0>})"
            ],
            "text/html": [
              "<style>#sk-container-id-14 {color: black;background-color: white;}#sk-container-id-14 pre{padding: 0;}#sk-container-id-14 div.sk-toggleable {background-color: white;}#sk-container-id-14 label.sk-toggleable__label {cursor: pointer;display: block;width: 100%;margin-bottom: 0;padding: 0.3em;box-sizing: border-box;text-align: center;}#sk-container-id-14 label.sk-toggleable__label-arrow:before {content: \"▸\";float: left;margin-right: 0.25em;color: #696969;}#sk-container-id-14 label.sk-toggleable__label-arrow:hover:before {color: black;}#sk-container-id-14 div.sk-estimator:hover label.sk-toggleable__label-arrow:before {color: black;}#sk-container-id-14 div.sk-toggleable__content {max-height: 0;max-width: 0;overflow: hidden;text-align: left;background-color: #f0f8ff;}#sk-container-id-14 div.sk-toggleable__content pre {margin: 0.2em;color: black;border-radius: 0.25em;background-color: #f0f8ff;}#sk-container-id-14 input.sk-toggleable__control:checked~div.sk-toggleable__content {max-height: 200px;max-width: 100%;overflow: auto;}#sk-container-id-14 input.sk-toggleable__control:checked~label.sk-toggleable__label-arrow:before {content: \"▾\";}#sk-container-id-14 div.sk-estimator input.sk-toggleable__control:checked~label.sk-toggleable__label {background-color: #d4ebff;}#sk-container-id-14 div.sk-label input.sk-toggleable__control:checked~label.sk-toggleable__label {background-color: #d4ebff;}#sk-container-id-14 input.sk-hidden--visually {border: 0;clip: rect(1px 1px 1px 1px);clip: rect(1px, 1px, 1px, 1px);height: 1px;margin: -1px;overflow: hidden;padding: 0;position: absolute;width: 1px;}#sk-container-id-14 div.sk-estimator {font-family: monospace;background-color: #f0f8ff;border: 1px dotted black;border-radius: 0.25em;box-sizing: border-box;margin-bottom: 0.5em;}#sk-container-id-14 div.sk-estimator:hover {background-color: #d4ebff;}#sk-container-id-14 div.sk-parallel-item::after {content: \"\";width: 100%;border-bottom: 1px solid gray;flex-grow: 1;}#sk-container-id-14 div.sk-label:hover label.sk-toggleable__label {background-color: #d4ebff;}#sk-container-id-14 div.sk-serial::before {content: \"\";position: absolute;border-left: 1px solid gray;box-sizing: border-box;top: 0;bottom: 0;left: 50%;z-index: 0;}#sk-container-id-14 div.sk-serial {display: flex;flex-direction: column;align-items: center;background-color: white;padding-right: 0.2em;padding-left: 0.2em;position: relative;}#sk-container-id-14 div.sk-item {position: relative;z-index: 1;}#sk-container-id-14 div.sk-parallel {display: flex;align-items: stretch;justify-content: center;background-color: white;position: relative;}#sk-container-id-14 div.sk-item::before, #sk-container-id-14 div.sk-parallel-item::before {content: \"\";position: absolute;border-left: 1px solid gray;box-sizing: border-box;top: 0;bottom: 0;left: 50%;z-index: -1;}#sk-container-id-14 div.sk-parallel-item {display: flex;flex-direction: column;z-index: 1;position: relative;background-color: white;}#sk-container-id-14 div.sk-parallel-item:first-child::after {align-self: flex-end;width: 50%;}#sk-container-id-14 div.sk-parallel-item:last-child::after {align-self: flex-start;width: 50%;}#sk-container-id-14 div.sk-parallel-item:only-child::after {width: 0;}#sk-container-id-14 div.sk-dashed-wrapped {border: 1px dashed gray;margin: 0 0.4em 0.5em 0.4em;box-sizing: border-box;padding-bottom: 0.4em;background-color: white;}#sk-container-id-14 div.sk-label label {font-family: monospace;font-weight: bold;display: inline-block;line-height: 1.2em;}#sk-container-id-14 div.sk-label-container {text-align: center;}#sk-container-id-14 div.sk-container {/* jupyter's `normalize.less` sets `[hidden] { display: none; }` but bootstrap.min.css set `[hidden] { display: none !important; }` so we also need the `!important` here to be able to override the default hidden behavior on the sphinx rendered scikit-learn.org. See: https://github.com/scikit-learn/scikit-learn/issues/21755 */display: inline-block !important;position: relative;}#sk-container-id-14 div.sk-text-repr-fallback {display: none;}</style><div id=\"sk-container-id-14\" class=\"sk-top-container\"><div class=\"sk-text-repr-fallback\"><pre>RandomizedSearchCV(cv=5, estimator=RandomForestClassifier(), n_iter=5,\n",
              "                   param_distributions={&#x27;max_depth&#x27;: &lt;scipy.stats._distn_infrastructure.rv_discrete_frozen object at 0x7a0709236560&gt;,\n",
              "                                        &#x27;n_estimators&#x27;: &lt;scipy.stats._distn_infrastructure.rv_discrete_frozen object at 0x7a07092366e0&gt;})</pre><b>In a Jupyter environment, please rerun this cell to show the HTML representation or trust the notebook. <br />On GitHub, the HTML representation is unable to render, please try loading this page with nbviewer.org.</b></div><div class=\"sk-container\" hidden><div class=\"sk-item sk-dashed-wrapped\"><div class=\"sk-label-container\"><div class=\"sk-label sk-toggleable\"><input class=\"sk-toggleable__control sk-hidden--visually\" id=\"sk-estimator-id-18\" type=\"checkbox\" ><label for=\"sk-estimator-id-18\" class=\"sk-toggleable__label sk-toggleable__label-arrow\">RandomizedSearchCV</label><div class=\"sk-toggleable__content\"><pre>RandomizedSearchCV(cv=5, estimator=RandomForestClassifier(), n_iter=5,\n",
              "                   param_distributions={&#x27;max_depth&#x27;: &lt;scipy.stats._distn_infrastructure.rv_discrete_frozen object at 0x7a0709236560&gt;,\n",
              "                                        &#x27;n_estimators&#x27;: &lt;scipy.stats._distn_infrastructure.rv_discrete_frozen object at 0x7a07092366e0&gt;})</pre></div></div></div><div class=\"sk-parallel\"><div class=\"sk-parallel-item\"><div class=\"sk-item\"><div class=\"sk-label-container\"><div class=\"sk-label sk-toggleable\"><input class=\"sk-toggleable__control sk-hidden--visually\" id=\"sk-estimator-id-19\" type=\"checkbox\" ><label for=\"sk-estimator-id-19\" class=\"sk-toggleable__label sk-toggleable__label-arrow\">estimator: RandomForestClassifier</label><div class=\"sk-toggleable__content\"><pre>RandomForestClassifier()</pre></div></div></div><div class=\"sk-serial\"><div class=\"sk-item\"><div class=\"sk-estimator sk-toggleable\"><input class=\"sk-toggleable__control sk-hidden--visually\" id=\"sk-estimator-id-20\" type=\"checkbox\" ><label for=\"sk-estimator-id-20\" class=\"sk-toggleable__label sk-toggleable__label-arrow\">RandomForestClassifier</label><div class=\"sk-toggleable__content\"><pre>RandomForestClassifier()</pre></div></div></div></div></div></div></div></div></div></div>"
            ]
          },
          "metadata": {},
          "execution_count": 115
        }
      ]
    },
    {
      "cell_type": "code",
      "source": [
        "# Create a variable for the best model\n",
        "best_rf = rand_search.best_estimator_\n",
        "\n",
        "# Print the best hyperparameters\n",
        "print('Best hyperparameters:',  rand_search.best_params_)"
      ],
      "metadata": {
        "colab": {
          "base_uri": "https://localhost:8080/"
        },
        "id": "7ZoSO10z_4wt",
        "outputId": "419889d0-f615-4df4-b387-2563a95ce520"
      },
      "execution_count": 116,
      "outputs": [
        {
          "output_type": "stream",
          "name": "stdout",
          "text": [
            "Best hyperparameters: {'max_depth': 7, 'n_estimators': 182}\n"
          ]
        }
      ]
    },
    {
      "cell_type": "code",
      "source": [
        "#predict and print confusion matrix, accuracy, precision and recall scores\n",
        "metrics_calc(best_rf, X_test, y_test)"
      ],
      "metadata": {
        "colab": {
          "base_uri": "https://localhost:8080/",
          "height": 560
        },
        "id": "eWeBCv0f__3A",
        "outputId": "085a6221-9808-43c2-e57e-9905ee8622df"
      },
      "execution_count": 143,
      "outputs": [
        {
          "output_type": "stream",
          "name": "stdout",
          "text": [
            "Accuracy: 84.75 %\n",
            "Precision: 0.0 %\n",
            "Recall: 0.0 %\n"
          ]
        },
        {
          "output_type": "stream",
          "name": "stderr",
          "text": [
            "/usr/local/lib/python3.10/dist-packages/sklearn/metrics/_classification.py:1344: UndefinedMetricWarning: Precision is ill-defined and being set to 0.0 due to no predicted samples. Use `zero_division` parameter to control this behavior.\n",
            "  _warn_prf(average, modifier, msg_start, len(result))\n"
          ]
        },
        {
          "output_type": "display_data",
          "data": {
            "text/plain": [
              "<Figure size 640x480 with 2 Axes>"
            ],
            "image/png": "[encoded data removed]"
          },
          "metadata": {}
        }
      ]
    },
    {
      "cell_type": "markdown",
      "source": [
        "# Logistic Regression"
      ],
      "metadata": {
        "id": "qhW1kGvBhk3u"
      }
    },
    {
      "cell_type": "code",
      "source": [
        "from sklearn.linear_model import LogisticRegression\n",
        "from sklearn.metrics import accuracy_score\n",
        "\n",
        "# LogisticRegression\n",
        "lr = LogisticRegression(random_state=0)\n",
        "lr = lr.fit(X_train, y_train)\n",
        "lr"
      ],
      "metadata": {
        "colab": {
          "base_uri": "https://localhost:8080/",
          "height": 74
        },
        "id": "sODDvV2ThnSK",
        "outputId": "10bdf37c-c8cb-4e2d-db66-8f7829f25259"
      },
      "execution_count": 120,
      "outputs": [
        {
          "output_type": "execute_result",
          "data": {
            "text/plain": [
              "LogisticRegression(random_state=0)"
            ],
            "text/html": [
              "<style>#sk-container-id-15 {color: black;background-color: white;}#sk-container-id-15 pre{padding: 0;}#sk-container-id-15 div.sk-toggleable {background-color: white;}#sk-container-id-15 label.sk-toggleable__label {cursor: pointer;display: block;width: 100%;margin-bottom: 0;padding: 0.3em;box-sizing: border-box;text-align: center;}#sk-container-id-15 label.sk-toggleable__label-arrow:before {content: \"▸\";float: left;margin-right: 0.25em;color: #696969;}#sk-container-id-15 label.sk-toggleable__label-arrow:hover:before {color: black;}#sk-container-id-15 div.sk-estimator:hover label.sk-toggleable__label-arrow:before {color: black;}#sk-container-id-15 div.sk-toggleable__content {max-height: 0;max-width: 0;overflow: hidden;text-align: left;background-color: #f0f8ff;}#sk-container-id-15 div.sk-toggleable__content pre {margin: 0.2em;color: black;border-radius: 0.25em;background-color: #f0f8ff;}#sk-container-id-15 input.sk-toggleable__control:checked~div.sk-toggleable__content {max-height: 200px;max-width: 100%;overflow: auto;}#sk-container-id-15 input.sk-toggleable__control:checked~label.sk-toggleable__label-arrow:before {content: \"▾\";}#sk-container-id-15 div.sk-estimator input.sk-toggleable__control:checked~label.sk-toggleable__label {background-color: #d4ebff;}#sk-container-id-15 div.sk-label input.sk-toggleable__control:checked~label.sk-toggleable__label {background-color: #d4ebff;}#sk-container-id-15 input.sk-hidden--visually {border: 0;clip: rect(1px 1px 1px 1px);clip: rect(1px, 1px, 1px, 1px);height: 1px;margin: -1px;overflow: hidden;padding: 0;position: absolute;width: 1px;}#sk-container-id-15 div.sk-estimator {font-family: monospace;background-color: #f0f8ff;border: 1px dotted black;border-radius: 0.25em;box-sizing: border-box;margin-bottom: 0.5em;}#sk-container-id-15 div.sk-estimator:hover {background-color: #d4ebff;}#sk-container-id-15 div.sk-parallel-item::after {content: \"\";width: 100%;border-bottom: 1px solid gray;flex-grow: 1;}#sk-container-id-15 div.sk-label:hover label.sk-toggleable__label {background-color: #d4ebff;}#sk-container-id-15 div.sk-serial::before {content: \"\";position: absolute;border-left: 1px solid gray;box-sizing: border-box;top: 0;bottom: 0;left: 50%;z-index: 0;}#sk-container-id-15 div.sk-serial {display: flex;flex-direction: column;align-items: center;background-color: white;padding-right: 0.2em;padding-left: 0.2em;position: relative;}#sk-container-id-15 div.sk-item {position: relative;z-index: 1;}#sk-container-id-15 div.sk-parallel {display: flex;align-items: stretch;justify-content: center;background-color: white;position: relative;}#sk-container-id-15 div.sk-item::before, #sk-container-id-15 div.sk-parallel-item::before {content: \"\";position: absolute;border-left: 1px solid gray;box-sizing: border-box;top: 0;bottom: 0;left: 50%;z-index: -1;}#sk-container-id-15 div.sk-parallel-item {display: flex;flex-direction: column;z-index: 1;position: relative;background-color: white;}#sk-container-id-15 div.sk-parallel-item:first-child::after {align-self: flex-end;width: 50%;}#sk-container-id-15 div.sk-parallel-item:last-child::after {align-self: flex-start;width: 50%;}#sk-container-id-15 div.sk-parallel-item:only-child::after {width: 0;}#sk-container-id-15 div.sk-dashed-wrapped {border: 1px dashed gray;margin: 0 0.4em 0.5em 0.4em;box-sizing: border-box;padding-bottom: 0.4em;background-color: white;}#sk-container-id-15 div.sk-label label {font-family: monospace;font-weight: bold;display: inline-block;line-height: 1.2em;}#sk-container-id-15 div.sk-label-container {text-align: center;}#sk-container-id-15 div.sk-container {/* jupyter's `normalize.less` sets `[hidden] { display: none; }` but bootstrap.min.css set `[hidden] { display: none !important; }` so we also need the `!important` here to be able to override the default hidden behavior on the sphinx rendered scikit-learn.org. See: https://github.com/scikit-learn/scikit-learn/issues/21755 */display: inline-block !important;position: relative;}#sk-container-id-15 div.sk-text-repr-fallback {display: none;}</style><div id=\"sk-container-id-15\" class=\"sk-top-container\"><div class=\"sk-text-repr-fallback\"><pre>LogisticRegression(random_state=0)</pre><b>In a Jupyter environment, please rerun this cell to show the HTML representation or trust the notebook. <br />On GitHub, the HTML representation is unable to render, please try loading this page with nbviewer.org.</b></div><div class=\"sk-container\" hidden><div class=\"sk-item\"><div class=\"sk-estimator sk-toggleable\"><input class=\"sk-toggleable__control sk-hidden--visually\" id=\"sk-estimator-id-21\" type=\"checkbox\" checked><label for=\"sk-estimator-id-21\" class=\"sk-toggleable__label sk-toggleable__label-arrow\">LogisticRegression</label><div class=\"sk-toggleable__content\"><pre>LogisticRegression(random_state=0)</pre></div></div></div></div></div>"
            ]
          },
          "metadata": {},
          "execution_count": 120
        }
      ]
    },
    {
      "cell_type": "code",
      "source": [
        "#predict and print confusion matrix, accuracy, precision and recall scores\n",
        "metrics_calc(lr, X_test, y_test)"
      ],
      "metadata": {
        "colab": {
          "base_uri": "https://localhost:8080/",
          "height": 560
        },
        "id": "1LRc0Hzfh7eU",
        "outputId": "552a2081-612f-499a-d076-15ca5c520011"
      },
      "execution_count": 144,
      "outputs": [
        {
          "output_type": "stream",
          "name": "stdout",
          "text": [
            "Accuracy: 84.75 %\n",
            "Precision: 0.0 %\n",
            "Recall: 0.0 %\n"
          ]
        },
        {
          "output_type": "stream",
          "name": "stderr",
          "text": [
            "/usr/local/lib/python3.10/dist-packages/sklearn/metrics/_classification.py:1344: UndefinedMetricWarning: Precision is ill-defined and being set to 0.0 due to no predicted samples. Use `zero_division` parameter to control this behavior.\n",
            "  _warn_prf(average, modifier, msg_start, len(result))\n"
          ]
        },
        {
          "output_type": "display_data",
          "data": {
            "text/plain": [
              "<Figure size 640x480 with 2 Axes>"
            ],
            "image/png": "[encoded data removed]"
          },
          "metadata": {}
        }
      ]
    },
    {
      "cell_type": "markdown",
      "source": [
        "##Optimizing the model"
      ],
      "metadata": {
        "id": "In9PpwEEiyeK"
      }
    },
    {
      "cell_type": "markdown",
      "source": [
        "We define a grid of hyperparameters param_grid containing different values for the regularization parameter C and regularization penalty penalty.\n",
        "\n",
        "We create a Logistic Regression classifier clf with random_state=0.\n",
        "\n",
        "GridSearchCV to perform grid search with 5-fold cross-validation (cv=5) and accuracy as the scoring metric (scoring='accuracy').\n",
        "\n",
        "After fitting the grid search object to the training data, we print the best hyperparameters and the corresponding test accuracy achieved by the best model.\n",
        "\n",
        "max_iter: maximum no of iterations to run"
      ],
      "metadata": {
        "id": "aH5nMSxei6yV"
      }
    },
    {
      "cell_type": "code",
      "source": [
        "from sklearn.model_selection import GridSearchCV\n",
        "\n",
        "# Define the hyperparameters grid\n",
        "param_grid = {\n",
        "    'C': [0.001, 0.01, 0.1, 1, 10, 100],  # Regularization parameter\n",
        "    'penalty': ['l1', 'l2'],  # Regularization penalty\n",
        "    'max_iter': [100, 200, 300] ## Maximum number of iterations\n",
        "}"
      ],
      "metadata": {
        "id": "goiTcE-Ii0P2"
      },
      "execution_count": 125,
      "outputs": []
    },
    {
      "cell_type": "code",
      "source": [
        "# Create the Logistic Regression classifier\n",
        "lr_ht = LogisticRegression(random_state=42)\n",
        "\n",
        "lr_ht"
      ],
      "metadata": {
        "colab": {
          "base_uri": "https://localhost:8080/",
          "height": 74
        },
        "id": "KFAGZQ6djFOK",
        "outputId": "c973d602-52ae-4097-b4b5-d63013783f5a"
      },
      "execution_count": 126,
      "outputs": [
        {
          "output_type": "execute_result",
          "data": {
            "text/plain": [
              "LogisticRegression(random_state=42)"
            ],
            "text/html": [
              "<style>#sk-container-id-16 {color: black;background-color: white;}#sk-container-id-16 pre{padding: 0;}#sk-container-id-16 div.sk-toggleable {background-color: white;}#sk-container-id-16 label.sk-toggleable__label {cursor: pointer;display: block;width: 100%;margin-bottom: 0;padding: 0.3em;box-sizing: border-box;text-align: center;}#sk-container-id-16 label.sk-toggleable__label-arrow:before {content: \"▸\";float: left;margin-right: 0.25em;color: #696969;}#sk-container-id-16 label.sk-toggleable__label-arrow:hover:before {color: black;}#sk-container-id-16 div.sk-estimator:hover label.sk-toggleable__label-arrow:before {color: black;}#sk-container-id-16 div.sk-toggleable__content {max-height: 0;max-width: 0;overflow: hidden;text-align: left;background-color: #f0f8ff;}#sk-container-id-16 div.sk-toggleable__content pre {margin: 0.2em;color: black;border-radius: 0.25em;background-color: #f0f8ff;}#sk-container-id-16 input.sk-toggleable__control:checked~div.sk-toggleable__content {max-height: 200px;max-width: 100%;overflow: auto;}#sk-container-id-16 input.sk-toggleable__control:checked~label.sk-toggleable__label-arrow:before {content: \"▾\";}#sk-container-id-16 div.sk-estimator input.sk-toggleable__control:checked~label.sk-toggleable__label {background-color: #d4ebff;}#sk-container-id-16 div.sk-label input.sk-toggleable__control:checked~label.sk-toggleable__label {background-color: #d4ebff;}#sk-container-id-16 input.sk-hidden--visually {border: 0;clip: rect(1px 1px 1px 1px);clip: rect(1px, 1px, 1px, 1px);height: 1px;margin: -1px;overflow: hidden;padding: 0;position: absolute;width: 1px;}#sk-container-id-16 div.sk-estimator {font-family: monospace;background-color: #f0f8ff;border: 1px dotted black;border-radius: 0.25em;box-sizing: border-box;margin-bottom: 0.5em;}#sk-container-id-16 div.sk-estimator:hover {background-color: #d4ebff;}#sk-container-id-16 div.sk-parallel-item::after {content: \"\";width: 100%;border-bottom: 1px solid gray;flex-grow: 1;}#sk-container-id-16 div.sk-label:hover label.sk-toggleable__label {background-color: #d4ebff;}#sk-container-id-16 div.sk-serial::before {content: \"\";position: absolute;border-left: 1px solid gray;box-sizing: border-box;top: 0;bottom: 0;left: 50%;z-index: 0;}#sk-container-id-16 div.sk-serial {display: flex;flex-direction: column;align-items: center;background-color: white;padding-right: 0.2em;padding-left: 0.2em;position: relative;}#sk-container-id-16 div.sk-item {position: relative;z-index: 1;}#sk-container-id-16 div.sk-parallel {display: flex;align-items: stretch;justify-content: center;background-color: white;position: relative;}#sk-container-id-16 div.sk-item::before, #sk-container-id-16 div.sk-parallel-item::before {content: \"\";position: absolute;border-left: 1px solid gray;box-sizing: border-box;top: 0;bottom: 0;left: 50%;z-index: -1;}#sk-container-id-16 div.sk-parallel-item {display: flex;flex-direction: column;z-index: 1;position: relative;background-color: white;}#sk-container-id-16 div.sk-parallel-item:first-child::after {align-self: flex-end;width: 50%;}#sk-container-id-16 div.sk-parallel-item:last-child::after {align-self: flex-start;width: 50%;}#sk-container-id-16 div.sk-parallel-item:only-child::after {width: 0;}#sk-container-id-16 div.sk-dashed-wrapped {border: 1px dashed gray;margin: 0 0.4em 0.5em 0.4em;box-sizing: border-box;padding-bottom: 0.4em;background-color: white;}#sk-container-id-16 div.sk-label label {font-family: monospace;font-weight: bold;display: inline-block;line-height: 1.2em;}#sk-container-id-16 div.sk-label-container {text-align: center;}#sk-container-id-16 div.sk-container {/* jupyter's `normalize.less` sets `[hidden] { display: none; }` but bootstrap.min.css set `[hidden] { display: none !important; }` so we also need the `!important` here to be able to override the default hidden behavior on the sphinx rendered scikit-learn.org. See: https://github.com/scikit-learn/scikit-learn/issues/21755 */display: inline-block !important;position: relative;}#sk-container-id-16 div.sk-text-repr-fallback {display: none;}</style><div id=\"sk-container-id-16\" class=\"sk-top-container\"><div class=\"sk-text-repr-fallback\"><pre>LogisticRegression(random_state=42)</pre><b>In a Jupyter environment, please rerun this cell to show the HTML representation or trust the notebook. <br />On GitHub, the HTML representation is unable to render, please try loading this page with nbviewer.org.</b></div><div class=\"sk-container\" hidden><div class=\"sk-item\"><div class=\"sk-estimator sk-toggleable\"><input class=\"sk-toggleable__control sk-hidden--visually\" id=\"sk-estimator-id-22\" type=\"checkbox\" checked><label for=\"sk-estimator-id-22\" class=\"sk-toggleable__label sk-toggleable__label-arrow\">LogisticRegression</label><div class=\"sk-toggleable__content\"><pre>LogisticRegression(random_state=42)</pre></div></div></div></div></div>"
            ]
          },
          "metadata": {},
          "execution_count": 126
        }
      ]
    },
    {
      "cell_type": "code",
      "source": [
        "# Perform grid search with cross-validation\n",
        "grid_search = GridSearchCV(lr_ht, param_grid, cv=3, scoring='accuracy')\n",
        "grid_search = grid_search.fit(X_train, y_train)\n",
        "\n",
        "grid_search"
      ],
      "metadata": {
        "colab": {
          "base_uri": "https://localhost:8080/",
          "height": 593
        },
        "id": "CKIvjC3yjIL1",
        "outputId": "7c116375-da0c-41b5-ab75-e5c476b52859"
      },
      "execution_count": 148,
      "outputs": [
        {
          "output_type": "stream",
          "name": "stderr",
          "text": [
            "/usr/local/lib/python3.10/dist-packages/sklearn/model_selection/_validation.py:378: FitFailedWarning: \n",
            "54 fits failed out of a total of 108.\n",
            "The score on these train-test partitions for these parameters will be set to nan.\n",
            "If these failures are not expected, you can try to debug them by setting error_score='raise'.\n",
            "\n",
            "Below are more details about the failures:\n",
            "--------------------------------------------------------------------------------\n",
            "54 fits failed with the following error:\n",
            "Traceback (most recent call last):\n",
            "  File \"/usr/local/lib/python3.10/dist-packages/sklearn/model_selection/_validation.py\", line 686, in _fit_and_score\n",
            "    estimator.fit(X_train, y_train, **fit_params)\n",
            "  File \"/usr/local/lib/python3.10/dist-packages/sklearn/linear_model/_logistic.py\", line 1162, in fit\n",
            "    solver = _check_solver(self.solver, self.penalty, self.dual)\n",
            "  File \"/usr/local/lib/python3.10/dist-packages/sklearn/linear_model/_logistic.py\", line 54, in _check_solver\n",
            "    raise ValueError(\n",
            "ValueError: Solver lbfgs supports only 'l2' or 'none' penalties, got l1 penalty.\n",
            "\n",
            "  warnings.warn(some_fits_failed_message, FitFailedWarning)\n",
            "/usr/local/lib/python3.10/dist-packages/sklearn/model_selection/_search.py:952: UserWarning: One or more of the test scores are non-finite: [       nan 0.81593145        nan 0.81593145        nan 0.81593145\n",
            "        nan 0.81593145        nan 0.81593145        nan 0.81593145\n",
            "        nan 0.81593145        nan 0.81593145        nan 0.81593145\n",
            "        nan 0.81593145        nan 0.81593145        nan 0.81593145\n",
            "        nan 0.81593145        nan 0.81593145        nan 0.81593145\n",
            "        nan 0.81593145        nan 0.81593145        nan 0.81593145]\n",
            "  warnings.warn(\n"
          ]
        },
        {
          "output_type": "execute_result",
          "data": {
            "text/plain": [
              "GridSearchCV(cv=3, estimator=LogisticRegression(random_state=42),\n",
              "             param_grid={'C': [0.001, 0.01, 0.1, 1, 10, 100],\n",
              "                         'max_iter': [100, 200, 300], 'penalty': ['l1', 'l2']},\n",
              "             scoring='accuracy')"
            ],
            "text/html": [
              "<style>#sk-container-id-20 {color: black;background-color: white;}#sk-container-id-20 pre{padding: 0;}#sk-container-id-20 div.sk-toggleable {background-color: white;}#sk-container-id-20 label.sk-toggleable__label {cursor: pointer;display: block;width: 100%;margin-bottom: 0;padding: 0.3em;box-sizing: border-box;text-align: center;}#sk-container-id-20 label.sk-toggleable__label-arrow:before {content: \"▸\";float: left;margin-right: 0.25em;color: #696969;}#sk-container-id-20 label.sk-toggleable__label-arrow:hover:before {color: black;}#sk-container-id-20 div.sk-estimator:hover label.sk-toggleable__label-arrow:before {color: black;}#sk-container-id-20 div.sk-toggleable__content {max-height: 0;max-width: 0;overflow: hidden;text-align: left;background-color: #f0f8ff;}#sk-container-id-20 div.sk-toggleable__content pre {margin: 0.2em;color: black;border-radius: 0.25em;background-color: #f0f8ff;}#sk-container-id-20 input.sk-toggleable__control:checked~div.sk-toggleable__content {max-height: 200px;max-width: 100%;overflow: auto;}#sk-container-id-20 input.sk-toggleable__control:checked~label.sk-toggleable__label-arrow:before {content: \"▾\";}#sk-container-id-20 div.sk-estimator input.sk-toggleable__control:checked~label.sk-toggleable__label {background-color: #d4ebff;}#sk-container-id-20 div.sk-label input.sk-toggleable__control:checked~label.sk-toggleable__label {background-color: #d4ebff;}#sk-container-id-20 input.sk-hidden--visually {border: 0;clip: rect(1px 1px 1px 1px);clip: rect(1px, 1px, 1px, 1px);height: 1px;margin: -1px;overflow: hidden;padding: 0;position: absolute;width: 1px;}#sk-container-id-20 div.sk-estimator {font-family: monospace;background-color: #f0f8ff;border: 1px dotted black;border-radius: 0.25em;box-sizing: border-box;margin-bottom: 0.5em;}#sk-container-id-20 div.sk-estimator:hover {background-color: #d4ebff;}#sk-container-id-20 div.sk-parallel-item::after {content: \"\";width: 100%;border-bottom: 1px solid gray;flex-grow: 1;}#sk-container-id-20 div.sk-label:hover label.sk-toggleable__label {background-color: #d4ebff;}#sk-container-id-20 div.sk-serial::before {content: \"\";position: absolute;border-left: 1px solid gray;box-sizing: border-box;top: 0;bottom: 0;left: 50%;z-index: 0;}#sk-container-id-20 div.sk-serial {display: flex;flex-direction: column;align-items: center;background-color: white;padding-right: 0.2em;padding-left: 0.2em;position: relative;}#sk-container-id-20 div.sk-item {position: relative;z-index: 1;}#sk-container-id-20 div.sk-parallel {display: flex;align-items: stretch;justify-content: center;background-color: white;position: relative;}#sk-container-id-20 div.sk-item::before, #sk-container-id-20 div.sk-parallel-item::before {content: \"\";position: absolute;border-left: 1px solid gray;box-sizing: border-box;top: 0;bottom: 0;left: 50%;z-index: -1;}#sk-container-id-20 div.sk-parallel-item {display: flex;flex-direction: column;z-index: 1;position: relative;background-color: white;}#sk-container-id-20 div.sk-parallel-item:first-child::after {align-self: flex-end;width: 50%;}#sk-container-id-20 div.sk-parallel-item:last-child::after {align-self: flex-start;width: 50%;}#sk-container-id-20 div.sk-parallel-item:only-child::after {width: 0;}#sk-container-id-20 div.sk-dashed-wrapped {border: 1px dashed gray;margin: 0 0.4em 0.5em 0.4em;box-sizing: border-box;padding-bottom: 0.4em;background-color: white;}#sk-container-id-20 div.sk-label label {font-family: monospace;font-weight: bold;display: inline-block;line-height: 1.2em;}#sk-container-id-20 div.sk-label-container {text-align: center;}#sk-container-id-20 div.sk-container {/* jupyter's `normalize.less` sets `[hidden] { display: none; }` but bootstrap.min.css set `[hidden] { display: none !important; }` so we also need the `!important` here to be able to override the default hidden behavior on the sphinx rendered scikit-learn.org. See: https://github.com/scikit-learn/scikit-learn/issues/21755 */display: inline-block !important;position: relative;}#sk-container-id-20 div.sk-text-repr-fallback {display: none;}</style><div id=\"sk-container-id-20\" class=\"sk-top-container\"><div class=\"sk-text-repr-fallback\"><pre>GridSearchCV(cv=3, estimator=LogisticRegression(random_state=42),\n",
              "             param_grid={&#x27;C&#x27;: [0.001, 0.01, 0.1, 1, 10, 100],\n",
              "                         &#x27;max_iter&#x27;: [100, 200, 300], &#x27;penalty&#x27;: [&#x27;l1&#x27;, &#x27;l2&#x27;]},\n",
              "             scoring=&#x27;accuracy&#x27;)</pre><b>In a Jupyter environment, please rerun this cell to show the HTML representation or trust the notebook. <br />On GitHub, the HTML representation is unable to render, please try loading this page with nbviewer.org.</b></div><div class=\"sk-container\" hidden><div class=\"sk-item sk-dashed-wrapped\"><div class=\"sk-label-container\"><div class=\"sk-label sk-toggleable\"><input class=\"sk-toggleable__control sk-hidden--visually\" id=\"sk-estimator-id-28\" type=\"checkbox\" ><label for=\"sk-estimator-id-28\" class=\"sk-toggleable__label sk-toggleable__label-arrow\">GridSearchCV</label><div class=\"sk-toggleable__content\"><pre>GridSearchCV(cv=3, estimator=LogisticRegression(random_state=42),\n",
              "             param_grid={&#x27;C&#x27;: [0.001, 0.01, 0.1, 1, 10, 100],\n",
              "                         &#x27;max_iter&#x27;: [100, 200, 300], &#x27;penalty&#x27;: [&#x27;l1&#x27;, &#x27;l2&#x27;]},\n",
              "             scoring=&#x27;accuracy&#x27;)</pre></div></div></div><div class=\"sk-parallel\"><div class=\"sk-parallel-item\"><div class=\"sk-item\"><div class=\"sk-label-container\"><div class=\"sk-label sk-toggleable\"><input class=\"sk-toggleable__control sk-hidden--visually\" id=\"sk-estimator-id-29\" type=\"checkbox\" ><label for=\"sk-estimator-id-29\" class=\"sk-toggleable__label sk-toggleable__label-arrow\">estimator: LogisticRegression</label><div class=\"sk-toggleable__content\"><pre>LogisticRegression(random_state=42)</pre></div></div></div><div class=\"sk-serial\"><div class=\"sk-item\"><div class=\"sk-estimator sk-toggleable\"><input class=\"sk-toggleable__control sk-hidden--visually\" id=\"sk-estimator-id-30\" type=\"checkbox\" ><label for=\"sk-estimator-id-30\" class=\"sk-toggleable__label sk-toggleable__label-arrow\">LogisticRegression</label><div class=\"sk-toggleable__content\"><pre>LogisticRegression(random_state=42)</pre></div></div></div></div></div></div></div></div></div></div>"
            ]
          },
          "metadata": {},
          "execution_count": 148
        }
      ]
    },
    {
      "cell_type": "code",
      "source": [
        "# Get the best hyperparameters\n",
        "best_params = grid_search.best_params_\n",
        "print(\"Best Hyperparameters:\", best_params)"
      ],
      "metadata": {
        "colab": {
          "base_uri": "https://localhost:8080/"
        },
        "id": "RZun5FSPjTL6",
        "outputId": "88c1d190-7ccd-48ed-ea9a-29ef1e9ed1aa"
      },
      "execution_count": 149,
      "outputs": [
        {
          "output_type": "stream",
          "name": "stdout",
          "text": [
            "Best Hyperparameters: {'C': 0.001, 'max_iter': 100, 'penalty': 'l2'}\n"
          ]
        }
      ]
    },
    {
      "cell_type": "code",
      "source": [
        "# Get the best model\n",
        "best_model_lr = grid_search.best_estimator_\n",
        "best_model_lr"
      ],
      "metadata": {
        "colab": {
          "base_uri": "https://localhost:8080/",
          "height": 74
        },
        "id": "GCOYxYAajL13",
        "outputId": "55b593f2-bd4a-497b-d775-6b024df3338b"
      },
      "execution_count": 150,
      "outputs": [
        {
          "output_type": "execute_result",
          "data": {
            "text/plain": [
              "LogisticRegression(C=0.001, random_state=42)"
            ],
            "text/html": [
              "<style>#sk-container-id-21 {color: black;background-color: white;}#sk-container-id-21 pre{padding: 0;}#sk-container-id-21 div.sk-toggleable {background-color: white;}#sk-container-id-21 label.sk-toggleable__label {cursor: pointer;display: block;width: 100%;margin-bottom: 0;padding: 0.3em;box-sizing: border-box;text-align: center;}#sk-container-id-21 label.sk-toggleable__label-arrow:before {content: \"▸\";float: left;margin-right: 0.25em;color: #696969;}#sk-container-id-21 label.sk-toggleable__label-arrow:hover:before {color: black;}#sk-container-id-21 div.sk-estimator:hover label.sk-toggleable__label-arrow:before {color: black;}#sk-container-id-21 div.sk-toggleable__content {max-height: 0;max-width: 0;overflow: hidden;text-align: left;background-color: #f0f8ff;}#sk-container-id-21 div.sk-toggleable__content pre {margin: 0.2em;color: black;border-radius: 0.25em;background-color: #f0f8ff;}#sk-container-id-21 input.sk-toggleable__control:checked~div.sk-toggleable__content {max-height: 200px;max-width: 100%;overflow: auto;}#sk-container-id-21 input.sk-toggleable__control:checked~label.sk-toggleable__label-arrow:before {content: \"▾\";}#sk-container-id-21 div.sk-estimator input.sk-toggleable__control:checked~label.sk-toggleable__label {background-color: #d4ebff;}#sk-container-id-21 div.sk-label input.sk-toggleable__control:checked~label.sk-toggleable__label {background-color: #d4ebff;}#sk-container-id-21 input.sk-hidden--visually {border: 0;clip: rect(1px 1px 1px 1px);clip: rect(1px, 1px, 1px, 1px);height: 1px;margin: -1px;overflow: hidden;padding: 0;position: absolute;width: 1px;}#sk-container-id-21 div.sk-estimator {font-family: monospace;background-color: #f0f8ff;border: 1px dotted black;border-radius: 0.25em;box-sizing: border-box;margin-bottom: 0.5em;}#sk-container-id-21 div.sk-estimator:hover {background-color: #d4ebff;}#sk-container-id-21 div.sk-parallel-item::after {content: \"\";width: 100%;border-bottom: 1px solid gray;flex-grow: 1;}#sk-container-id-21 div.sk-label:hover label.sk-toggleable__label {background-color: #d4ebff;}#sk-container-id-21 div.sk-serial::before {content: \"\";position: absolute;border-left: 1px solid gray;box-sizing: border-box;top: 0;bottom: 0;left: 50%;z-index: 0;}#sk-container-id-21 div.sk-serial {display: flex;flex-direction: column;align-items: center;background-color: white;padding-right: 0.2em;padding-left: 0.2em;position: relative;}#sk-container-id-21 div.sk-item {position: relative;z-index: 1;}#sk-container-id-21 div.sk-parallel {display: flex;align-items: stretch;justify-content: center;background-color: white;position: relative;}#sk-container-id-21 div.sk-item::before, #sk-container-id-21 div.sk-parallel-item::before {content: \"\";position: absolute;border-left: 1px solid gray;box-sizing: border-box;top: 0;bottom: 0;left: 50%;z-index: -1;}#sk-container-id-21 div.sk-parallel-item {display: flex;flex-direction: column;z-index: 1;position: relative;background-color: white;}#sk-container-id-21 div.sk-parallel-item:first-child::after {align-self: flex-end;width: 50%;}#sk-container-id-21 div.sk-parallel-item:last-child::after {align-self: flex-start;width: 50%;}#sk-container-id-21 div.sk-parallel-item:only-child::after {width: 0;}#sk-container-id-21 div.sk-dashed-wrapped {border: 1px dashed gray;margin: 0 0.4em 0.5em 0.4em;box-sizing: border-box;padding-bottom: 0.4em;background-color: white;}#sk-container-id-21 div.sk-label label {font-family: monospace;font-weight: bold;display: inline-block;line-height: 1.2em;}#sk-container-id-21 div.sk-label-container {text-align: center;}#sk-container-id-21 div.sk-container {/* jupyter's `normalize.less` sets `[hidden] { display: none; }` but bootstrap.min.css set `[hidden] { display: none !important; }` so we also need the `!important` here to be able to override the default hidden behavior on the sphinx rendered scikit-learn.org. See: https://github.com/scikit-learn/scikit-learn/issues/21755 */display: inline-block !important;position: relative;}#sk-container-id-21 div.sk-text-repr-fallback {display: none;}</style><div id=\"sk-container-id-21\" class=\"sk-top-container\"><div class=\"sk-text-repr-fallback\"><pre>LogisticRegression(C=0.001, random_state=42)</pre><b>In a Jupyter environment, please rerun this cell to show the HTML representation or trust the notebook. <br />On GitHub, the HTML representation is unable to render, please try loading this page with nbviewer.org.</b></div><div class=\"sk-container\" hidden><div class=\"sk-item\"><div class=\"sk-estimator sk-toggleable\"><input class=\"sk-toggleable__control sk-hidden--visually\" id=\"sk-estimator-id-31\" type=\"checkbox\" checked><label for=\"sk-estimator-id-31\" class=\"sk-toggleable__label sk-toggleable__label-arrow\">LogisticRegression</label><div class=\"sk-toggleable__content\"><pre>LogisticRegression(C=0.001, random_state=42)</pre></div></div></div></div></div>"
            ]
          },
          "metadata": {},
          "execution_count": 150
        }
      ]
    },
    {
      "cell_type": "code",
      "source": [
        "#predict and print confusion matrix, accuracy, precision and recall scores\n",
        "metrics_calc(best_model_lr, X_test, y_test)"
      ],
      "metadata": {
        "colab": {
          "base_uri": "https://localhost:8080/",
          "height": 560
        },
        "id": "9GhhAXG2jM2C",
        "outputId": "f700a869-2898-4f8d-9302-0024c57f43c8"
      },
      "execution_count": 153,
      "outputs": [
        {
          "output_type": "stream",
          "name": "stdout",
          "text": [
            "Accuracy: 84.75 %\n",
            "Precision: 0.0 %\n",
            "Recall: 0.0 %\n"
          ]
        },
        {
          "output_type": "stream",
          "name": "stderr",
          "text": [
            "/usr/local/lib/python3.10/dist-packages/sklearn/metrics/_classification.py:1344: UndefinedMetricWarning: Precision is ill-defined and being set to 0.0 due to no predicted samples. Use `zero_division` parameter to control this behavior.\n",
            "  _warn_prf(average, modifier, msg_start, len(result))\n"
          ]
        },
        {
          "output_type": "display_data",
          "data": {
            "text/plain": [
              "<Figure size 640x480 with 2 Axes>"
            ],
            "image/png": "[encoded data removed]"
          },
          "metadata": {}
        }
      ]
    }
  ]
}